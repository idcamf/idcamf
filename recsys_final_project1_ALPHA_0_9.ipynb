{
  "cells": [
    {
      "cell_type": "markdown",
      "metadata": {
        "id": "oDtnr7winjZN"
      },
      "source": [
        "# Recommendations Systems\n",
        "## Final Project: Matrix Factorization Techniques for Context Aware Recommendation"
      ]
    },
    {
      "cell_type": "markdown",
      "metadata": {
        "id": "sXxp1hnynjZQ"
      },
      "source": [
        "**By:**  \n",
        "\n",
        "Yarden Shoham, 206561367\n",
        "<br>\n",
        "Ido Hadanny, 034537969\n",
        "\n",
        "<br><br>"
      ]
    },
    {
      "cell_type": "code",
      "execution_count": null,
      "metadata": {
        "colab": {
          "base_uri": "https://localhost:8080/"
        },
        "id": "im9USFROXRtS",
        "outputId": "703c0448-ea7e-4d79-c79b-b3d108262719"
      },
      "outputs": [
        {
          "name": "stdout",
          "output_type": "stream",
          "text": [
            "Mounted at /content/drive\n"
          ]
        }
      ],
      "source": [
        "from google.colab import drive\n",
        "drive.mount('/content/drive')"
      ]
    },
    {
      "cell_type": "code",
      "execution_count": null,
      "metadata": {
        "id": "kCCZPb63WII5"
      },
      "outputs": [],
      "source": [
        "ALPHA = 0.9"
      ]
    },
    {
      "cell_type": "code",
      "execution_count": null,
      "metadata": {
        "id": "cJFqfeTNrU0a"
      },
      "outputs": [],
      "source": [
        "#RESTART/CONTINUE/USE_EXISTING\n",
        "HYPERPARAMS_SEARCH=\"RESTART\"\n"
      ]
    },
    {
      "cell_type": "markdown",
      "metadata": {
        "id": "UJ_36zAdnjZS"
      },
      "source": [
        "**Prerequisites**"
      ]
    },
    {
      "cell_type": "code",
      "execution_count": null,
      "metadata": {
        "id": "rLZuBZ4GnjZS"
      },
      "outputs": [],
      "source": [
        "!pip install --quiet zipfile36"
      ]
    },
    {
      "cell_type": "markdown",
      "metadata": {
        "id": "8TtoxL_nnjZT"
      },
      "source": [
        "**Imports**"
      ]
    },
    {
      "cell_type": "code",
      "execution_count": null,
      "metadata": {
        "id": "w56W-vsenjZU"
      },
      "outputs": [],
      "source": [
        "# general\n",
        "import time\n",
        "import random\n",
        "import zipfile\n",
        "import requests\n",
        "import warnings\n",
        "\n",
        "# ml\n",
        "import numpy as np\n",
        "import scipy as sp\n",
        "import pandas as pd\n",
        "\n",
        "# visual\n",
        "import seaborn as sns\n",
        "import matplotlib.pyplot as plt\n",
        "import matplotlib.ticker as tck\n",
        "\n",
        "# metrics - do not use these metrics, but you can use them to check your work\n",
        "from sklearn.metrics import mean_squared_error,ndcg_score \n",
        "\n",
        "# notebook\n",
        "from IPython.display import FileLink, display"
      ]
    },
    {
      "cell_type": "markdown",
      "metadata": {
        "id": "WY5Xbp2onjZV"
      },
      "source": [
        "**Hide Warnings**"
      ]
    },
    {
      "cell_type": "code",
      "execution_count": null,
      "metadata": {
        "id": "nm9jRimZnjZX"
      },
      "outputs": [],
      "source": [
        "warnings.filterwarnings('ignore')"
      ]
    },
    {
      "cell_type": "markdown",
      "metadata": {
        "id": "grGEnzUXnjZY"
      },
      "source": [
        "**Disable Autoscrolling**"
      ]
    },
    {
      "cell_type": "code",
      "execution_count": null,
      "metadata": {
        "colab": {
          "base_uri": "https://localhost:8080/",
          "height": 17
        },
        "id": "9YlDBCpfnjZY",
        "outputId": "ab4511f8-ad94-4dc1-824d-b114ce808aa6"
      },
      "outputs": [
        {
          "data": {
            "application/javascript": [
              "IPython.OutputArea.prototype._should_scroll = function(lines) {\n",
              "    return false;\n",
              "}"
            ],
            "text/plain": [
              "<IPython.core.display.Javascript object>"
            ]
          },
          "metadata": {},
          "output_type": "display_data"
        }
      ],
      "source": [
        "%%javascript\n",
        "IPython.OutputArea.prototype._should_scroll = function(lines) {\n",
        "    return false;\n",
        "}"
      ]
    },
    {
      "cell_type": "markdown",
      "metadata": {
        "id": "9CQVOfP2njZa"
      },
      "source": [
        "**Set Random Seed**"
      ]
    },
    {
      "cell_type": "code",
      "execution_count": null,
      "metadata": {
        "id": "ujdMkY1DnjZa"
      },
      "outputs": [],
      "source": [
        "random.seed(123)"
      ]
    },
    {
      "cell_type": "code",
      "execution_count": null,
      "metadata": {
        "id": "clzvNTtJ55xm"
      },
      "outputs": [],
      "source": [
        "df_ratings_train = pd.read_csv('drive/MyDrive/Colab Notebooks/yahoo_movies/ydata-ymovies-user-movie-ratings-train-v1_0.txt', delimiter='\\t',\n",
        "            names = ['user_id', 'movie_id', 'rating', 'converted_rating'])\n",
        "\n"
      ]
    },
    {
      "cell_type": "code",
      "execution_count": null,
      "metadata": {
        "id": "KOesZ9Hk8maZ"
      },
      "outputs": [],
      "source": [
        "df_ratings_test = pd.read_csv('drive/MyDrive/Colab Notebooks/yahoo_movies/ydata-ymovies-user-movie-ratings-test-v1_0.txt', delimiter='\\t',\n",
        "            names = ['user_id', 'movie_id', 'rating', 'converted_rating'])\n",
        "\n"
      ]
    },
    {
      "cell_type": "code",
      "execution_count": null,
      "metadata": {
        "id": "VQS-CubqEX0Y"
      },
      "outputs": [],
      "source": [
        "df_ratings_test = pd.merge(df_ratings_test, df_ratings_train[['user_id', 'movie_id']], on = ['user_id', 'movie_id'], how='left', indicator=True)\n",
        "df_ratings_test = df_ratings_test[df_ratings_test._merge == 'left_only']"
      ]
    },
    {
      "cell_type": "code",
      "execution_count": null,
      "metadata": {
        "colab": {
          "base_uri": "https://localhost:8080/"
        },
        "id": "D0vlGV2SjyxC",
        "outputId": "d5c64ddb-567d-4dbe-cea2-4bf74938564e"
      },
      "outputs": [
        {
          "data": {
            "text/plain": [
              "(211231, 10133)"
            ]
          },
          "execution_count": 12,
          "metadata": {},
          "output_type": "execute_result"
        }
      ],
      "source": [
        "len(df_ratings_train), len(df_ratings_test)"
      ]
    },
    {
      "cell_type": "code",
      "execution_count": null,
      "metadata": {
        "colab": {
          "base_uri": "https://localhost:8080/"
        },
        "id": "mtWvJyji-lar",
        "outputId": "048a3bbf-4c57-47ad-af91-f9672f22d8fd"
      },
      "outputs": [
        {
          "data": {
            "text/plain": [
              "(2309, 2379)"
            ]
          },
          "execution_count": 13,
          "metadata": {},
          "output_type": "execute_result"
        }
      ],
      "source": [
        "len(set(df_ratings_test.user_id.unique())), len(set(df_ratings_test.movie_id.unique()))"
      ]
    },
    {
      "cell_type": "code",
      "execution_count": null,
      "metadata": {
        "colab": {
          "base_uri": "https://localhost:8080/"
        },
        "id": "bkEA3yL9-YlR",
        "outputId": "ad05cfac-60c0-47e9-86af-b5fc0aeb40df"
      },
      "outputs": [
        {
          "data": {
            "text/plain": [
              "(2309, 2379)"
            ]
          },
          "execution_count": 14,
          "metadata": {},
          "output_type": "execute_result"
        }
      ],
      "source": [
        "len(set(df_ratings_test.user_id.unique()) & set(df_ratings_train.user_id.unique())), len(set(df_ratings_test.movie_id.unique()) & set(df_ratings_train.movie_id.unique()))"
      ]
    },
    {
      "cell_type": "code",
      "execution_count": null,
      "metadata": {
        "colab": {
          "base_uri": "https://localhost:8080/"
        },
        "id": "8bz32H2z85Sy",
        "outputId": "60f07019-c6d1-410a-af18-d566e7a64100"
      },
      "outputs": [
        {
          "data": {
            "text/plain": [
              "(7642, 2309, 11916, 2379)"
            ]
          },
          "execution_count": 15,
          "metadata": {},
          "output_type": "execute_result"
        }
      ],
      "source": [
        "df_ratings_train.user_id.nunique(), df_ratings_test.user_id.nunique(), df_ratings_train.movie_id.nunique(), df_ratings_test.movie_id.nunique()"
      ]
    },
    {
      "cell_type": "code",
      "execution_count": null,
      "metadata": {
        "id": "f5TsdSSRJMrj"
      },
      "outputs": [],
      "source": [
        "df_demo = pd.read_csv('drive/MyDrive/Colab Notebooks/yahoo_movies/ydata-ymovies-user-demographics-v1_0.txt', delimiter='\\t',\n",
        "            names = ['user_id', 'birthyear', 'gender'])\n"
      ]
    },
    {
      "cell_type": "code",
      "execution_count": null,
      "metadata": {
        "colab": {
          "base_uri": "https://localhost:8080/"
        },
        "id": "GgpsiG0R-Mah",
        "outputId": "0eebdcc6-ae71-49b9-9275-130e177c9513"
      },
      "outputs": [
        {
          "data": {
            "text/plain": [
              "7642"
            ]
          },
          "execution_count": 17,
          "metadata": {},
          "output_type": "execute_result"
        }
      ],
      "source": [
        "df_demo.user_id.nunique()"
      ]
    },
    {
      "cell_type": "markdown",
      "metadata": {
        "id": "prK2LgyTRC3s"
      },
      "source": [
        "adding the \"c\" context variable, as described in https://www.researchgate.net/publication/221141005_Context-based_splitting_of_item_ratings_in_collaborative_filtering\n"
      ]
    },
    {
      "cell_type": "code",
      "execution_count": null,
      "metadata": {
        "id": "XdDxrr-EN6nD"
      },
      "outputs": [],
      "source": [
        "df_demo['c'] = np.random.randint(0, 2, df_demo.shape[0])"
      ]
    },
    {
      "cell_type": "code",
      "execution_count": null,
      "metadata": {
        "colab": {
          "base_uri": "https://localhost:8080/",
          "height": 206
        },
        "id": "UzWozwtaQ52E",
        "outputId": "9c288f6a-0824-459d-87d4-73a401ab9101"
      },
      "outputs": [
        {
          "data": {
            "text/html": [
              "\n",
              "  <div id=\"df-eee677d7-f012-4c14-a0aa-646606350f47\">\n",
              "    <div class=\"colab-df-container\">\n",
              "      <div>\n",
              "<style scoped>\n",
              "    .dataframe tbody tr th:only-of-type {\n",
              "        vertical-align: middle;\n",
              "    }\n",
              "\n",
              "    .dataframe tbody tr th {\n",
              "        vertical-align: top;\n",
              "    }\n",
              "\n",
              "    .dataframe thead th {\n",
              "        text-align: right;\n",
              "    }\n",
              "</style>\n",
              "<table border=\"1\" class=\"dataframe\">\n",
              "  <thead>\n",
              "    <tr style=\"text-align: right;\">\n",
              "      <th></th>\n",
              "      <th>user_id</th>\n",
              "      <th>birthyear</th>\n",
              "      <th>gender</th>\n",
              "      <th>c</th>\n",
              "    </tr>\n",
              "  </thead>\n",
              "  <tbody>\n",
              "    <tr>\n",
              "      <th>0</th>\n",
              "      <td>1</td>\n",
              "      <td>1979</td>\n",
              "      <td>f</td>\n",
              "      <td>0</td>\n",
              "    </tr>\n",
              "    <tr>\n",
              "      <th>1</th>\n",
              "      <td>2</td>\n",
              "      <td>1987</td>\n",
              "      <td>m</td>\n",
              "      <td>0</td>\n",
              "    </tr>\n",
              "    <tr>\n",
              "      <th>2</th>\n",
              "      <td>3</td>\n",
              "      <td>1988</td>\n",
              "      <td>f</td>\n",
              "      <td>0</td>\n",
              "    </tr>\n",
              "    <tr>\n",
              "      <th>3</th>\n",
              "      <td>4</td>\n",
              "      <td>1983</td>\n",
              "      <td>m</td>\n",
              "      <td>1</td>\n",
              "    </tr>\n",
              "    <tr>\n",
              "      <th>4</th>\n",
              "      <td>5</td>\n",
              "      <td>1988</td>\n",
              "      <td>m</td>\n",
              "      <td>0</td>\n",
              "    </tr>\n",
              "  </tbody>\n",
              "</table>\n",
              "</div>\n",
              "      <button class=\"colab-df-convert\" onclick=\"convertToInteractive('df-eee677d7-f012-4c14-a0aa-646606350f47')\"\n",
              "              title=\"Convert this dataframe to an interactive table.\"\n",
              "              style=\"display:none;\">\n",
              "        \n",
              "  <svg xmlns=\"http://www.w3.org/2000/svg\" height=\"24px\"viewBox=\"0 0 24 24\"\n",
              "       width=\"24px\">\n",
              "    <path d=\"M0 0h24v24H0V0z\" fill=\"none\"/>\n",
              "    <path d=\"M18.56 5.44l.94 2.06.94-2.06 2.06-.94-2.06-.94-.94-2.06-.94 2.06-2.06.94zm-11 1L8.5 8.5l.94-2.06 2.06-.94-2.06-.94L8.5 2.5l-.94 2.06-2.06.94zm10 10l.94 2.06.94-2.06 2.06-.94-2.06-.94-.94-2.06-.94 2.06-2.06.94z\"/><path d=\"M17.41 7.96l-1.37-1.37c-.4-.4-.92-.59-1.43-.59-.52 0-1.04.2-1.43.59L10.3 9.45l-7.72 7.72c-.78.78-.78 2.05 0 2.83L4 21.41c.39.39.9.59 1.41.59.51 0 1.02-.2 1.41-.59l7.78-7.78 2.81-2.81c.8-.78.8-2.07 0-2.86zM5.41 20L4 18.59l7.72-7.72 1.47 1.35L5.41 20z\"/>\n",
              "  </svg>\n",
              "      </button>\n",
              "      \n",
              "  <style>\n",
              "    .colab-df-container {\n",
              "      display:flex;\n",
              "      flex-wrap:wrap;\n",
              "      gap: 12px;\n",
              "    }\n",
              "\n",
              "    .colab-df-convert {\n",
              "      background-color: #E8F0FE;\n",
              "      border: none;\n",
              "      border-radius: 50%;\n",
              "      cursor: pointer;\n",
              "      display: none;\n",
              "      fill: #1967D2;\n",
              "      height: 32px;\n",
              "      padding: 0 0 0 0;\n",
              "      width: 32px;\n",
              "    }\n",
              "\n",
              "    .colab-df-convert:hover {\n",
              "      background-color: #E2EBFA;\n",
              "      box-shadow: 0px 1px 2px rgba(60, 64, 67, 0.3), 0px 1px 3px 1px rgba(60, 64, 67, 0.15);\n",
              "      fill: #174EA6;\n",
              "    }\n",
              "\n",
              "    [theme=dark] .colab-df-convert {\n",
              "      background-color: #3B4455;\n",
              "      fill: #D2E3FC;\n",
              "    }\n",
              "\n",
              "    [theme=dark] .colab-df-convert:hover {\n",
              "      background-color: #434B5C;\n",
              "      box-shadow: 0px 1px 3px 1px rgba(0, 0, 0, 0.15);\n",
              "      filter: drop-shadow(0px 1px 2px rgba(0, 0, 0, 0.3));\n",
              "      fill: #FFFFFF;\n",
              "    }\n",
              "  </style>\n",
              "\n",
              "      <script>\n",
              "        const buttonEl =\n",
              "          document.querySelector('#df-eee677d7-f012-4c14-a0aa-646606350f47 button.colab-df-convert');\n",
              "        buttonEl.style.display =\n",
              "          google.colab.kernel.accessAllowed ? 'block' : 'none';\n",
              "\n",
              "        async function convertToInteractive(key) {\n",
              "          const element = document.querySelector('#df-eee677d7-f012-4c14-a0aa-646606350f47');\n",
              "          const dataTable =\n",
              "            await google.colab.kernel.invokeFunction('convertToInteractive',\n",
              "                                                     [key], {});\n",
              "          if (!dataTable) return;\n",
              "\n",
              "          const docLinkHtml = 'Like what you see? Visit the ' +\n",
              "            '<a target=\"_blank\" href=https://colab.research.google.com/notebooks/data_table.ipynb>data table notebook</a>'\n",
              "            + ' to learn more about interactive tables.';\n",
              "          element.innerHTML = '';\n",
              "          dataTable['output_type'] = 'display_data';\n",
              "          await google.colab.output.renderOutput(dataTable, element);\n",
              "          const docLink = document.createElement('div');\n",
              "          docLink.innerHTML = docLinkHtml;\n",
              "          element.appendChild(docLink);\n",
              "        }\n",
              "      </script>\n",
              "    </div>\n",
              "  </div>\n",
              "  "
            ],
            "text/plain": [
              "   user_id birthyear gender  c\n",
              "0        1      1979      f  0\n",
              "1        2      1987      m  0\n",
              "2        3      1988      f  0\n",
              "3        4      1983      m  1\n",
              "4        5      1988      m  0"
            ]
          },
          "execution_count": 19,
          "metadata": {},
          "output_type": "execute_result"
        }
      ],
      "source": [
        "df_demo.head()"
      ]
    },
    {
      "cell_type": "markdown",
      "metadata": {
        "id": "MaCD9JY7njZo"
      },
      "source": [
        "### Matrix:"
      ]
    },
    {
      "cell_type": "code",
      "execution_count": null,
      "metadata": {
        "id": "3A7GJnQLS0uX"
      },
      "outputs": [],
      "source": [
        "def apply_context(df):\n",
        "  df1 = df.merge(df_demo, on = 'user_id')\n",
        "  df1['context_matters'] = (np.random.rand(df1.shape[0]) < ALPHA).astype(int)\n",
        "  df1['final_rating'] = df1.converted_rating + df1.context_matters * (df1.c * 2 - 1)\n",
        "  df1['final_rating'] = df1.final_rating.apply(lambda x: max(1, min(5, x)))\n",
        "  return df1"
      ]
    },
    {
      "cell_type": "code",
      "execution_count": null,
      "metadata": {
        "id": "M5zYqGhHVoAa"
      },
      "outputs": [],
      "source": [
        "df_ratings_train = apply_context(df_ratings_train)\n",
        "df_ratings_test = apply_context(df_ratings_test)"
      ]
    },
    {
      "cell_type": "code",
      "execution_count": null,
      "metadata": {
        "colab": {
          "base_uri": "https://localhost:8080/",
          "height": 331
        },
        "id": "rxFNkvu_njZo",
        "outputId": "a0ac0554-87db-4f3e-ecd0-ce8e428ec30a",
        "scrolled": true
      },
      "outputs": [
        {
          "data": {
            "text/html": [
              "\n",
              "  <div id=\"df-026ff28a-fe33-4b01-837e-28a63ad7f82e\">\n",
              "    <div class=\"colab-df-container\">\n",
              "      <div>\n",
              "<style scoped>\n",
              "    .dataframe tbody tr th:only-of-type {\n",
              "        vertical-align: middle;\n",
              "    }\n",
              "\n",
              "    .dataframe tbody tr th {\n",
              "        vertical-align: top;\n",
              "    }\n",
              "\n",
              "    .dataframe thead th {\n",
              "        text-align: right;\n",
              "    }\n",
              "</style>\n",
              "<table border=\"1\" class=\"dataframe\">\n",
              "  <thead>\n",
              "    <tr style=\"text-align: right;\">\n",
              "      <th>movie_id</th>\n",
              "      <th>0</th>\n",
              "      <th>1800011850</th>\n",
              "      <th>1800012991</th>\n",
              "      <th>1800013563</th>\n",
              "      <th>1800014841</th>\n",
              "      <th>1800015027</th>\n",
              "      <th>1800018548</th>\n",
              "      <th>1800018575</th>\n",
              "      <th>1800018578</th>\n",
              "      <th>1800018591</th>\n",
              "      <th>1800018600</th>\n",
              "      <th>1800018611</th>\n",
              "      <th>1800018620</th>\n",
              "      <th>1800018623</th>\n",
              "      <th>1800018632</th>\n",
              "      <th>1800018639</th>\n",
              "      <th>1800018653</th>\n",
              "      <th>1800018654</th>\n",
              "      <th>1800018659</th>\n",
              "      <th>1800018665</th>\n",
              "      <th>1800018669</th>\n",
              "      <th>1800018676</th>\n",
              "      <th>1800018697</th>\n",
              "      <th>1800018701</th>\n",
              "      <th>1800018707</th>\n",
              "      <th>1800018710</th>\n",
              "      <th>1800018720</th>\n",
              "      <th>1800018722</th>\n",
              "      <th>1800018727</th>\n",
              "      <th>1800018732</th>\n",
              "      <th>1800018733</th>\n",
              "      <th>1800018737</th>\n",
              "      <th>1800018745</th>\n",
              "      <th>1800018746</th>\n",
              "      <th>1800018755</th>\n",
              "      <th>1800018761</th>\n",
              "      <th>1800018762</th>\n",
              "      <th>1800018783</th>\n",
              "      <th>1800018796</th>\n",
              "      <th>1800018802</th>\n",
              "      <th>...</th>\n",
              "      <th>1808516159</th>\n",
              "      <th>1808516160</th>\n",
              "      <th>1808516172</th>\n",
              "      <th>1808516185</th>\n",
              "      <th>1808516189</th>\n",
              "      <th>1808516203</th>\n",
              "      <th>1808516206</th>\n",
              "      <th>1808516208</th>\n",
              "      <th>1808516212</th>\n",
              "      <th>1808516215</th>\n",
              "      <th>1808516216</th>\n",
              "      <th>1808516225</th>\n",
              "      <th>1808516226</th>\n",
              "      <th>1808516227</th>\n",
              "      <th>1808516245</th>\n",
              "      <th>1808516258</th>\n",
              "      <th>1808516293</th>\n",
              "      <th>1808516297</th>\n",
              "      <th>1808516303</th>\n",
              "      <th>1808516310</th>\n",
              "      <th>1808516319</th>\n",
              "      <th>1808516326</th>\n",
              "      <th>1808516332</th>\n",
              "      <th>1808516334</th>\n",
              "      <th>1808516337</th>\n",
              "      <th>1808516340</th>\n",
              "      <th>1808516350</th>\n",
              "      <th>1808517704</th>\n",
              "      <th>1808517740</th>\n",
              "      <th>1808517753</th>\n",
              "      <th>1808517769</th>\n",
              "      <th>1808517843</th>\n",
              "      <th>1808517861</th>\n",
              "      <th>1808517863</th>\n",
              "      <th>1808518549</th>\n",
              "      <th>1808518669</th>\n",
              "      <th>1808519269</th>\n",
              "      <th>1808519348</th>\n",
              "      <th>1808519428</th>\n",
              "      <th>1808520834</th>\n",
              "    </tr>\n",
              "    <tr>\n",
              "      <th>user_id</th>\n",
              "      <th></th>\n",
              "      <th></th>\n",
              "      <th></th>\n",
              "      <th></th>\n",
              "      <th></th>\n",
              "      <th></th>\n",
              "      <th></th>\n",
              "      <th></th>\n",
              "      <th></th>\n",
              "      <th></th>\n",
              "      <th></th>\n",
              "      <th></th>\n",
              "      <th></th>\n",
              "      <th></th>\n",
              "      <th></th>\n",
              "      <th></th>\n",
              "      <th></th>\n",
              "      <th></th>\n",
              "      <th></th>\n",
              "      <th></th>\n",
              "      <th></th>\n",
              "      <th></th>\n",
              "      <th></th>\n",
              "      <th></th>\n",
              "      <th></th>\n",
              "      <th></th>\n",
              "      <th></th>\n",
              "      <th></th>\n",
              "      <th></th>\n",
              "      <th></th>\n",
              "      <th></th>\n",
              "      <th></th>\n",
              "      <th></th>\n",
              "      <th></th>\n",
              "      <th></th>\n",
              "      <th></th>\n",
              "      <th></th>\n",
              "      <th></th>\n",
              "      <th></th>\n",
              "      <th></th>\n",
              "      <th></th>\n",
              "      <th></th>\n",
              "      <th></th>\n",
              "      <th></th>\n",
              "      <th></th>\n",
              "      <th></th>\n",
              "      <th></th>\n",
              "      <th></th>\n",
              "      <th></th>\n",
              "      <th></th>\n",
              "      <th></th>\n",
              "      <th></th>\n",
              "      <th></th>\n",
              "      <th></th>\n",
              "      <th></th>\n",
              "      <th></th>\n",
              "      <th></th>\n",
              "      <th></th>\n",
              "      <th></th>\n",
              "      <th></th>\n",
              "      <th></th>\n",
              "      <th></th>\n",
              "      <th></th>\n",
              "      <th></th>\n",
              "      <th></th>\n",
              "      <th></th>\n",
              "      <th></th>\n",
              "      <th></th>\n",
              "      <th></th>\n",
              "      <th></th>\n",
              "      <th></th>\n",
              "      <th></th>\n",
              "      <th></th>\n",
              "      <th></th>\n",
              "      <th></th>\n",
              "      <th></th>\n",
              "      <th></th>\n",
              "      <th></th>\n",
              "      <th></th>\n",
              "      <th></th>\n",
              "      <th></th>\n",
              "    </tr>\n",
              "  </thead>\n",
              "  <tbody>\n",
              "    <tr>\n",
              "      <th>1</th>\n",
              "      <td>0.0</td>\n",
              "      <td>0.0</td>\n",
              "      <td>0.0</td>\n",
              "      <td>0.0</td>\n",
              "      <td>0.0</td>\n",
              "      <td>0.0</td>\n",
              "      <td>4.0</td>\n",
              "      <td>0.0</td>\n",
              "      <td>0.0</td>\n",
              "      <td>0.0</td>\n",
              "      <td>0.0</td>\n",
              "      <td>0.0</td>\n",
              "      <td>0.0</td>\n",
              "      <td>0.0</td>\n",
              "      <td>0.0</td>\n",
              "      <td>0.0</td>\n",
              "      <td>0.0</td>\n",
              "      <td>0.0</td>\n",
              "      <td>0.0</td>\n",
              "      <td>0.0</td>\n",
              "      <td>0.0</td>\n",
              "      <td>0.0</td>\n",
              "      <td>0.0</td>\n",
              "      <td>0.0</td>\n",
              "      <td>0.0</td>\n",
              "      <td>0.0</td>\n",
              "      <td>0.0</td>\n",
              "      <td>0.0</td>\n",
              "      <td>0.0</td>\n",
              "      <td>0.0</td>\n",
              "      <td>0.0</td>\n",
              "      <td>0.0</td>\n",
              "      <td>0.0</td>\n",
              "      <td>0.0</td>\n",
              "      <td>0.0</td>\n",
              "      <td>0.0</td>\n",
              "      <td>0.0</td>\n",
              "      <td>0.0</td>\n",
              "      <td>0.0</td>\n",
              "      <td>0.0</td>\n",
              "      <td>...</td>\n",
              "      <td>0.0</td>\n",
              "      <td>0.0</td>\n",
              "      <td>0.0</td>\n",
              "      <td>0.0</td>\n",
              "      <td>0.0</td>\n",
              "      <td>0.0</td>\n",
              "      <td>0.0</td>\n",
              "      <td>0.0</td>\n",
              "      <td>0.0</td>\n",
              "      <td>0.0</td>\n",
              "      <td>0.0</td>\n",
              "      <td>0.0</td>\n",
              "      <td>0.0</td>\n",
              "      <td>0.0</td>\n",
              "      <td>0.0</td>\n",
              "      <td>0.0</td>\n",
              "      <td>0.0</td>\n",
              "      <td>0.0</td>\n",
              "      <td>0.0</td>\n",
              "      <td>0.0</td>\n",
              "      <td>0.0</td>\n",
              "      <td>0.0</td>\n",
              "      <td>0.0</td>\n",
              "      <td>0.0</td>\n",
              "      <td>0.0</td>\n",
              "      <td>0.0</td>\n",
              "      <td>0.0</td>\n",
              "      <td>0.0</td>\n",
              "      <td>0.0</td>\n",
              "      <td>0.0</td>\n",
              "      <td>0.0</td>\n",
              "      <td>0.0</td>\n",
              "      <td>0.0</td>\n",
              "      <td>0.0</td>\n",
              "      <td>0.0</td>\n",
              "      <td>0.0</td>\n",
              "      <td>0.0</td>\n",
              "      <td>0.0</td>\n",
              "      <td>0.0</td>\n",
              "      <td>0.0</td>\n",
              "    </tr>\n",
              "    <tr>\n",
              "      <th>2</th>\n",
              "      <td>0.0</td>\n",
              "      <td>0.0</td>\n",
              "      <td>0.0</td>\n",
              "      <td>0.0</td>\n",
              "      <td>0.0</td>\n",
              "      <td>0.0</td>\n",
              "      <td>0.0</td>\n",
              "      <td>0.0</td>\n",
              "      <td>0.0</td>\n",
              "      <td>0.0</td>\n",
              "      <td>0.0</td>\n",
              "      <td>0.0</td>\n",
              "      <td>0.0</td>\n",
              "      <td>0.0</td>\n",
              "      <td>0.0</td>\n",
              "      <td>0.0</td>\n",
              "      <td>0.0</td>\n",
              "      <td>0.0</td>\n",
              "      <td>0.0</td>\n",
              "      <td>0.0</td>\n",
              "      <td>0.0</td>\n",
              "      <td>0.0</td>\n",
              "      <td>0.0</td>\n",
              "      <td>0.0</td>\n",
              "      <td>0.0</td>\n",
              "      <td>0.0</td>\n",
              "      <td>0.0</td>\n",
              "      <td>0.0</td>\n",
              "      <td>0.0</td>\n",
              "      <td>0.0</td>\n",
              "      <td>0.0</td>\n",
              "      <td>0.0</td>\n",
              "      <td>0.0</td>\n",
              "      <td>0.0</td>\n",
              "      <td>0.0</td>\n",
              "      <td>0.0</td>\n",
              "      <td>0.0</td>\n",
              "      <td>0.0</td>\n",
              "      <td>0.0</td>\n",
              "      <td>0.0</td>\n",
              "      <td>...</td>\n",
              "      <td>0.0</td>\n",
              "      <td>0.0</td>\n",
              "      <td>0.0</td>\n",
              "      <td>0.0</td>\n",
              "      <td>0.0</td>\n",
              "      <td>0.0</td>\n",
              "      <td>0.0</td>\n",
              "      <td>0.0</td>\n",
              "      <td>0.0</td>\n",
              "      <td>0.0</td>\n",
              "      <td>0.0</td>\n",
              "      <td>0.0</td>\n",
              "      <td>0.0</td>\n",
              "      <td>0.0</td>\n",
              "      <td>0.0</td>\n",
              "      <td>0.0</td>\n",
              "      <td>0.0</td>\n",
              "      <td>0.0</td>\n",
              "      <td>0.0</td>\n",
              "      <td>0.0</td>\n",
              "      <td>0.0</td>\n",
              "      <td>0.0</td>\n",
              "      <td>0.0</td>\n",
              "      <td>0.0</td>\n",
              "      <td>0.0</td>\n",
              "      <td>0.0</td>\n",
              "      <td>0.0</td>\n",
              "      <td>0.0</td>\n",
              "      <td>0.0</td>\n",
              "      <td>0.0</td>\n",
              "      <td>0.0</td>\n",
              "      <td>0.0</td>\n",
              "      <td>0.0</td>\n",
              "      <td>0.0</td>\n",
              "      <td>0.0</td>\n",
              "      <td>0.0</td>\n",
              "      <td>0.0</td>\n",
              "      <td>0.0</td>\n",
              "      <td>0.0</td>\n",
              "      <td>0.0</td>\n",
              "    </tr>\n",
              "    <tr>\n",
              "      <th>3</th>\n",
              "      <td>0.0</td>\n",
              "      <td>0.0</td>\n",
              "      <td>0.0</td>\n",
              "      <td>0.0</td>\n",
              "      <td>0.0</td>\n",
              "      <td>0.0</td>\n",
              "      <td>4.0</td>\n",
              "      <td>0.0</td>\n",
              "      <td>0.0</td>\n",
              "      <td>0.0</td>\n",
              "      <td>0.0</td>\n",
              "      <td>0.0</td>\n",
              "      <td>0.0</td>\n",
              "      <td>4.0</td>\n",
              "      <td>0.0</td>\n",
              "      <td>0.0</td>\n",
              "      <td>0.0</td>\n",
              "      <td>0.0</td>\n",
              "      <td>0.0</td>\n",
              "      <td>0.0</td>\n",
              "      <td>0.0</td>\n",
              "      <td>0.0</td>\n",
              "      <td>0.0</td>\n",
              "      <td>0.0</td>\n",
              "      <td>0.0</td>\n",
              "      <td>0.0</td>\n",
              "      <td>0.0</td>\n",
              "      <td>0.0</td>\n",
              "      <td>0.0</td>\n",
              "      <td>0.0</td>\n",
              "      <td>0.0</td>\n",
              "      <td>0.0</td>\n",
              "      <td>0.0</td>\n",
              "      <td>0.0</td>\n",
              "      <td>0.0</td>\n",
              "      <td>0.0</td>\n",
              "      <td>0.0</td>\n",
              "      <td>0.0</td>\n",
              "      <td>0.0</td>\n",
              "      <td>0.0</td>\n",
              "      <td>...</td>\n",
              "      <td>0.0</td>\n",
              "      <td>0.0</td>\n",
              "      <td>0.0</td>\n",
              "      <td>0.0</td>\n",
              "      <td>0.0</td>\n",
              "      <td>0.0</td>\n",
              "      <td>0.0</td>\n",
              "      <td>0.0</td>\n",
              "      <td>0.0</td>\n",
              "      <td>0.0</td>\n",
              "      <td>0.0</td>\n",
              "      <td>0.0</td>\n",
              "      <td>0.0</td>\n",
              "      <td>0.0</td>\n",
              "      <td>0.0</td>\n",
              "      <td>0.0</td>\n",
              "      <td>0.0</td>\n",
              "      <td>0.0</td>\n",
              "      <td>0.0</td>\n",
              "      <td>0.0</td>\n",
              "      <td>0.0</td>\n",
              "      <td>0.0</td>\n",
              "      <td>0.0</td>\n",
              "      <td>0.0</td>\n",
              "      <td>0.0</td>\n",
              "      <td>0.0</td>\n",
              "      <td>0.0</td>\n",
              "      <td>0.0</td>\n",
              "      <td>0.0</td>\n",
              "      <td>0.0</td>\n",
              "      <td>0.0</td>\n",
              "      <td>0.0</td>\n",
              "      <td>0.0</td>\n",
              "      <td>0.0</td>\n",
              "      <td>0.0</td>\n",
              "      <td>0.0</td>\n",
              "      <td>0.0</td>\n",
              "      <td>0.0</td>\n",
              "      <td>0.0</td>\n",
              "      <td>0.0</td>\n",
              "    </tr>\n",
              "    <tr>\n",
              "      <th>4</th>\n",
              "      <td>0.0</td>\n",
              "      <td>0.0</td>\n",
              "      <td>0.0</td>\n",
              "      <td>0.0</td>\n",
              "      <td>0.0</td>\n",
              "      <td>0.0</td>\n",
              "      <td>0.0</td>\n",
              "      <td>0.0</td>\n",
              "      <td>0.0</td>\n",
              "      <td>0.0</td>\n",
              "      <td>0.0</td>\n",
              "      <td>0.0</td>\n",
              "      <td>0.0</td>\n",
              "      <td>0.0</td>\n",
              "      <td>0.0</td>\n",
              "      <td>0.0</td>\n",
              "      <td>0.0</td>\n",
              "      <td>0.0</td>\n",
              "      <td>0.0</td>\n",
              "      <td>0.0</td>\n",
              "      <td>0.0</td>\n",
              "      <td>0.0</td>\n",
              "      <td>0.0</td>\n",
              "      <td>0.0</td>\n",
              "      <td>0.0</td>\n",
              "      <td>0.0</td>\n",
              "      <td>0.0</td>\n",
              "      <td>0.0</td>\n",
              "      <td>0.0</td>\n",
              "      <td>0.0</td>\n",
              "      <td>0.0</td>\n",
              "      <td>0.0</td>\n",
              "      <td>0.0</td>\n",
              "      <td>0.0</td>\n",
              "      <td>0.0</td>\n",
              "      <td>0.0</td>\n",
              "      <td>0.0</td>\n",
              "      <td>0.0</td>\n",
              "      <td>0.0</td>\n",
              "      <td>0.0</td>\n",
              "      <td>...</td>\n",
              "      <td>0.0</td>\n",
              "      <td>0.0</td>\n",
              "      <td>0.0</td>\n",
              "      <td>0.0</td>\n",
              "      <td>0.0</td>\n",
              "      <td>0.0</td>\n",
              "      <td>0.0</td>\n",
              "      <td>0.0</td>\n",
              "      <td>0.0</td>\n",
              "      <td>0.0</td>\n",
              "      <td>0.0</td>\n",
              "      <td>0.0</td>\n",
              "      <td>0.0</td>\n",
              "      <td>0.0</td>\n",
              "      <td>0.0</td>\n",
              "      <td>0.0</td>\n",
              "      <td>0.0</td>\n",
              "      <td>0.0</td>\n",
              "      <td>0.0</td>\n",
              "      <td>0.0</td>\n",
              "      <td>0.0</td>\n",
              "      <td>0.0</td>\n",
              "      <td>0.0</td>\n",
              "      <td>0.0</td>\n",
              "      <td>0.0</td>\n",
              "      <td>0.0</td>\n",
              "      <td>0.0</td>\n",
              "      <td>0.0</td>\n",
              "      <td>0.0</td>\n",
              "      <td>0.0</td>\n",
              "      <td>0.0</td>\n",
              "      <td>0.0</td>\n",
              "      <td>0.0</td>\n",
              "      <td>0.0</td>\n",
              "      <td>0.0</td>\n",
              "      <td>0.0</td>\n",
              "      <td>0.0</td>\n",
              "      <td>0.0</td>\n",
              "      <td>0.0</td>\n",
              "      <td>0.0</td>\n",
              "    </tr>\n",
              "    <tr>\n",
              "      <th>5</th>\n",
              "      <td>0.0</td>\n",
              "      <td>0.0</td>\n",
              "      <td>0.0</td>\n",
              "      <td>0.0</td>\n",
              "      <td>0.0</td>\n",
              "      <td>0.0</td>\n",
              "      <td>0.0</td>\n",
              "      <td>0.0</td>\n",
              "      <td>0.0</td>\n",
              "      <td>0.0</td>\n",
              "      <td>0.0</td>\n",
              "      <td>0.0</td>\n",
              "      <td>0.0</td>\n",
              "      <td>0.0</td>\n",
              "      <td>0.0</td>\n",
              "      <td>0.0</td>\n",
              "      <td>0.0</td>\n",
              "      <td>0.0</td>\n",
              "      <td>0.0</td>\n",
              "      <td>0.0</td>\n",
              "      <td>0.0</td>\n",
              "      <td>0.0</td>\n",
              "      <td>0.0</td>\n",
              "      <td>0.0</td>\n",
              "      <td>0.0</td>\n",
              "      <td>0.0</td>\n",
              "      <td>0.0</td>\n",
              "      <td>0.0</td>\n",
              "      <td>0.0</td>\n",
              "      <td>0.0</td>\n",
              "      <td>0.0</td>\n",
              "      <td>0.0</td>\n",
              "      <td>0.0</td>\n",
              "      <td>0.0</td>\n",
              "      <td>0.0</td>\n",
              "      <td>0.0</td>\n",
              "      <td>0.0</td>\n",
              "      <td>0.0</td>\n",
              "      <td>0.0</td>\n",
              "      <td>0.0</td>\n",
              "      <td>...</td>\n",
              "      <td>0.0</td>\n",
              "      <td>0.0</td>\n",
              "      <td>0.0</td>\n",
              "      <td>0.0</td>\n",
              "      <td>0.0</td>\n",
              "      <td>0.0</td>\n",
              "      <td>0.0</td>\n",
              "      <td>0.0</td>\n",
              "      <td>0.0</td>\n",
              "      <td>0.0</td>\n",
              "      <td>0.0</td>\n",
              "      <td>0.0</td>\n",
              "      <td>0.0</td>\n",
              "      <td>0.0</td>\n",
              "      <td>0.0</td>\n",
              "      <td>0.0</td>\n",
              "      <td>0.0</td>\n",
              "      <td>0.0</td>\n",
              "      <td>0.0</td>\n",
              "      <td>0.0</td>\n",
              "      <td>0.0</td>\n",
              "      <td>0.0</td>\n",
              "      <td>0.0</td>\n",
              "      <td>0.0</td>\n",
              "      <td>0.0</td>\n",
              "      <td>0.0</td>\n",
              "      <td>0.0</td>\n",
              "      <td>0.0</td>\n",
              "      <td>0.0</td>\n",
              "      <td>0.0</td>\n",
              "      <td>0.0</td>\n",
              "      <td>0.0</td>\n",
              "      <td>0.0</td>\n",
              "      <td>0.0</td>\n",
              "      <td>0.0</td>\n",
              "      <td>0.0</td>\n",
              "      <td>0.0</td>\n",
              "      <td>0.0</td>\n",
              "      <td>0.0</td>\n",
              "      <td>0.0</td>\n",
              "    </tr>\n",
              "  </tbody>\n",
              "</table>\n",
              "<p>5 rows × 11916 columns</p>\n",
              "</div>\n",
              "      <button class=\"colab-df-convert\" onclick=\"convertToInteractive('df-026ff28a-fe33-4b01-837e-28a63ad7f82e')\"\n",
              "              title=\"Convert this dataframe to an interactive table.\"\n",
              "              style=\"display:none;\">\n",
              "        \n",
              "  <svg xmlns=\"http://www.w3.org/2000/svg\" height=\"24px\"viewBox=\"0 0 24 24\"\n",
              "       width=\"24px\">\n",
              "    <path d=\"M0 0h24v24H0V0z\" fill=\"none\"/>\n",
              "    <path d=\"M18.56 5.44l.94 2.06.94-2.06 2.06-.94-2.06-.94-.94-2.06-.94 2.06-2.06.94zm-11 1L8.5 8.5l.94-2.06 2.06-.94-2.06-.94L8.5 2.5l-.94 2.06-2.06.94zm10 10l.94 2.06.94-2.06 2.06-.94-2.06-.94-.94-2.06-.94 2.06-2.06.94z\"/><path d=\"M17.41 7.96l-1.37-1.37c-.4-.4-.92-.59-1.43-.59-.52 0-1.04.2-1.43.59L10.3 9.45l-7.72 7.72c-.78.78-.78 2.05 0 2.83L4 21.41c.39.39.9.59 1.41.59.51 0 1.02-.2 1.41-.59l7.78-7.78 2.81-2.81c.8-.78.8-2.07 0-2.86zM5.41 20L4 18.59l7.72-7.72 1.47 1.35L5.41 20z\"/>\n",
              "  </svg>\n",
              "      </button>\n",
              "      \n",
              "  <style>\n",
              "    .colab-df-container {\n",
              "      display:flex;\n",
              "      flex-wrap:wrap;\n",
              "      gap: 12px;\n",
              "    }\n",
              "\n",
              "    .colab-df-convert {\n",
              "      background-color: #E8F0FE;\n",
              "      border: none;\n",
              "      border-radius: 50%;\n",
              "      cursor: pointer;\n",
              "      display: none;\n",
              "      fill: #1967D2;\n",
              "      height: 32px;\n",
              "      padding: 0 0 0 0;\n",
              "      width: 32px;\n",
              "    }\n",
              "\n",
              "    .colab-df-convert:hover {\n",
              "      background-color: #E2EBFA;\n",
              "      box-shadow: 0px 1px 2px rgba(60, 64, 67, 0.3), 0px 1px 3px 1px rgba(60, 64, 67, 0.15);\n",
              "      fill: #174EA6;\n",
              "    }\n",
              "\n",
              "    [theme=dark] .colab-df-convert {\n",
              "      background-color: #3B4455;\n",
              "      fill: #D2E3FC;\n",
              "    }\n",
              "\n",
              "    [theme=dark] .colab-df-convert:hover {\n",
              "      background-color: #434B5C;\n",
              "      box-shadow: 0px 1px 3px 1px rgba(0, 0, 0, 0.15);\n",
              "      filter: drop-shadow(0px 1px 2px rgba(0, 0, 0, 0.3));\n",
              "      fill: #FFFFFF;\n",
              "    }\n",
              "  </style>\n",
              "\n",
              "      <script>\n",
              "        const buttonEl =\n",
              "          document.querySelector('#df-026ff28a-fe33-4b01-837e-28a63ad7f82e button.colab-df-convert');\n",
              "        buttonEl.style.display =\n",
              "          google.colab.kernel.accessAllowed ? 'block' : 'none';\n",
              "\n",
              "        async function convertToInteractive(key) {\n",
              "          const element = document.querySelector('#df-026ff28a-fe33-4b01-837e-28a63ad7f82e');\n",
              "          const dataTable =\n",
              "            await google.colab.kernel.invokeFunction('convertToInteractive',\n",
              "                                                     [key], {});\n",
              "          if (!dataTable) return;\n",
              "\n",
              "          const docLinkHtml = 'Like what you see? Visit the ' +\n",
              "            '<a target=\"_blank\" href=https://colab.research.google.com/notebooks/data_table.ipynb>data table notebook</a>'\n",
              "            + ' to learn more about interactive tables.';\n",
              "          element.innerHTML = '';\n",
              "          dataTable['output_type'] = 'display_data';\n",
              "          await google.colab.output.renderOutput(dataTable, element);\n",
              "          const docLink = document.createElement('div');\n",
              "          docLink.innerHTML = docLinkHtml;\n",
              "          element.appendChild(docLink);\n",
              "        }\n",
              "      </script>\n",
              "    </div>\n",
              "  </div>\n",
              "  "
            ],
            "text/plain": [
              "movie_id  0           1800011850  ...  1808519428  1808520834\n",
              "user_id                           ...                        \n",
              "1                0.0         0.0  ...         0.0         0.0\n",
              "2                0.0         0.0  ...         0.0         0.0\n",
              "3                0.0         0.0  ...         0.0         0.0\n",
              "4                0.0         0.0  ...         0.0         0.0\n",
              "5                0.0         0.0  ...         0.0         0.0\n",
              "\n",
              "[5 rows x 11916 columns]"
            ]
          },
          "execution_count": 22,
          "metadata": {},
          "output_type": "execute_result"
        }
      ],
      "source": [
        "ratings = df_ratings_train.pivot(index = 'user_id', columns ='movie_id', values = 'final_rating').fillna(0)\n",
        "ratings.head()"
      ]
    },
    {
      "cell_type": "code",
      "execution_count": null,
      "metadata": {
        "colab": {
          "base_uri": "https://localhost:8080/"
        },
        "id": "UUm97gVXOyrs",
        "outputId": "5a1876a9-0f45-4393-cd60-74364bb503f1"
      },
      "outputs": [
        {
          "data": {
            "text/plain": [
              "(7642, 11916)"
            ]
          },
          "execution_count": 23,
          "metadata": {},
          "output_type": "execute_result"
        }
      ],
      "source": [
        "ratings.shape"
      ]
    },
    {
      "cell_type": "markdown",
      "metadata": {
        "id": "ZrnCNEXGnjZo"
      },
      "source": [
        "**Explore ratings data:**"
      ]
    },
    {
      "cell_type": "code",
      "execution_count": null,
      "metadata": {
        "colab": {
          "base_uri": "https://localhost:8080/",
          "height": 265
        },
        "id": "aGwRgoC4MMZK",
        "outputId": "ac24d147-2a77-42bf-86c7-21a1083c2fb9"
      },
      "outputs": [
        {
          "data": {
            "image/png": "[encoded data removed]",
            "text/plain": [
              "<Figure size 432x288 with 1 Axes>"
            ]
          },
          "metadata": {},
          "output_type": "display_data"
        }
      ],
      "source": [
        "plt.hist(df_ratings_train.final_rating, cumulative=True, density=True)\n",
        "plt.show()"
      ]
    },
    {
      "cell_type": "markdown",
      "metadata": {
        "id": "hPDfdaO-QtsM"
      },
      "source": [
        "according to the histogram, the cutoff between bad and good should be at 4"
      ]
    },
    {
      "cell_type": "code",
      "execution_count": null,
      "metadata": {
        "id": "6XfBocnEnjZr"
      },
      "outputs": [],
      "source": [
        "class my_metrics():\n",
        "    \n",
        "    def RMSE(df_true,df_pred,lower_bound=1,upper_bound=5,debug=False):\n",
        "        n = (df_true > 0).sum().sum()\n",
        "        if debug:\n",
        "          print(\"n =\", n)\n",
        "        return np.sqrt(((df_true[df_true > 0] - df_pred[df_true > 0])**2).sum().sum() / n)\n",
        "\n",
        "    def MAE(df_true,df_pred,lower_bound=1,upper_bound=5,debug=False):\n",
        "        n = (df_true > 0).sum().sum()\n",
        "        if debug:\n",
        "          print(\"n =\", n)\n",
        "        return (abs(df_true[df_true > 0] - df_pred[df_true > 0])).sum().sum() / n\n",
        "\n",
        "    def MRR(df_true,df_pred,lower_bound=1,upper_bound=5,top_n=5,debug=False,cutoff=4):\n",
        "        mrr = 0\n",
        "        df_true = df_true[df_true.T.sum() > 0]\n",
        "        if debug:\n",
        "          print(f\"evaluating for {len(df_true)} active users\")\n",
        "        for idx, user_true in df_true.iterrows():\n",
        "            user_pred = df_pred.loc[idx]\n",
        "            mrr += my_metrics.MRR_for_user(user_true, user_pred, lower_bound, upper_bound, top_n, debug and idx % 100 == 1, cutoff)\n",
        "            if debug and idx % 100 == 1:\n",
        "              print(\"idx =\", idx, \"mrr =\", mrr)\n",
        "        return mrr / len(df_true)\n",
        "    \n",
        "    def MRR_for_user(user_true,user_pred,lower_bound=1,upper_bound=5,top_n=5,debug=False, cutoff=4):\n",
        "        user_true, user_pred = user_true[user_true > 0], user_pred[user_true > 0] # take only movies the user has seen\n",
        "        top_n = min(top_n, len(user_true)) # users in folds might have less than 5 items\n",
        "        top_preds = user_pred.nlargest(top_n)\n",
        "        top_true = user_true[top_preds.index]\n",
        "        is_relevant = top_true.where(top_true > cutoff).reset_index(drop=True) # reset the index to 0,1,2...\n",
        "        k = is_relevant.first_valid_index()\n",
        "        if debug:          \n",
        "          display(top_preds.reset_index(name=\"top_preds\").join(\n",
        "              pd.DataFrame({\"top_true\": top_true.reset_index(drop=True), \n",
        "                        \"is_relevant\": is_relevant})))\n",
        "          print(\"k =\", k)\n",
        "        user_mrr = 0 if k is None else 1/(k + 1)\n",
        "        return user_mrr\n",
        "    \n",
        "    def NDCG(df_true,df_pred,lower_bound=1,upper_bound=5,top_n=5,debug=False):      \n",
        "        dcg = 0\n",
        "        df_true = df_true[df_true.T.sum() > 0]\n",
        "        if debug:\n",
        "          print(f\"evaluating for {len(df_true)} active users\")\n",
        "        for idx, user_true in df_true.iterrows():\n",
        "            user_pred = df_pred.loc[idx]\n",
        "            dcg += my_metrics.NDCG_for_user(user_true, user_pred, lower_bound, upper_bound, top_n)\n",
        "        return dcg / len(df_true)\n",
        "        \n",
        "    def NDCG_for_user(user_true,user_pred,lower_bound=1,upper_bound=5,top_n=5,debug=False):\n",
        "        user_true, user_pred = user_true[user_true > 0], user_pred[user_true > 0] # take only movies the user has seen\n",
        "        top_n = min(top_n, len(user_true)) # users in folds might have less than 5 items\n",
        "        top_preds = user_pred.nlargest(top_n)\n",
        "        top_true = user_true[top_preds.index]\n",
        "        dcg_series, dcg = my_metrics.DCG(top_true, top_n)\n",
        "        ideal = user_true.nlargest(top_n)\n",
        "        idcg_series, idcg = my_metrics.DCG(ideal, top_n)\n",
        "        if debug:\n",
        "          print(\"DCG\")\n",
        "          display(top_preds.reset_index(name=\"top_preds\").join(\n",
        "              pd.DataFrame({\"top_true\": top_true.reset_index(drop=True), \n",
        "                        \"dcg\": dcg_series.reset_index(drop=True)})))\n",
        "          print(\"IDCG\")\n",
        "          display(ideal.reset_index(name=\"ideal\").join(\n",
        "              pd.DataFrame({ \n",
        "                        \"idcg\": idcg_series.reset_index(drop=True)})))\n",
        "          print(\"dcg =\", dcg, \"idcg =\", idcg)          \n",
        "        return dcg/idcg\n",
        "    \n",
        "    def DCG(rel,n):\n",
        "        i = np.arange(1, n+1) \n",
        "        dcg_series = (2**rel - 1) / np.log2(i+1) # element-wise div\n",
        "        return dcg_series, np.sum(dcg_series) \n",
        "    \n",
        "    def get_error(df_true,df_pred):        \n",
        "        return {'RMSE':my_metrics.RMSE(df_true,df_pred,), 'MAE':my_metrics.MAE(df_true,df_pred,) , 'MRR_5':my_metrics.MRR(df_true,df_pred,top_n=5),'MRR_10':my_metrics.MRR(df_true,df_pred,top_n=10),'NDCG_5':my_metrics.NDCG(df_true,df_pred,top_n=5),'NDCG_10':my_metrics.NDCG(df_true,df_pred,top_n=10)}\n"
      ]
    },
    {
      "cell_type": "markdown",
      "metadata": {
        "id": "TwKwRrxtnjZr"
      },
      "source": [
        "**Save final results**"
      ]
    },
    {
      "cell_type": "code",
      "execution_count": null,
      "metadata": {
        "id": "aFvyInsTnjZs"
      },
      "outputs": [],
      "source": [
        "final_results = pd.DataFrame(columns=['Method','Time','RMSE', 'MAE', 'MRR_5','MRR_10','NDCG_5','NDCG_10'])"
      ]
    },
    {
      "cell_type": "code",
      "execution_count": null,
      "metadata": {
        "colab": {
          "base_uri": "https://localhost:8080/"
        },
        "id": "-sOZKVaMjjFd",
        "outputId": "a823e9d3-c5ad-4699-a963-4cceb544bec4"
      },
      "outputs": [
        {
          "data": {
            "text/plain": [
              "(105800, 5097)"
            ]
          },
          "execution_count": 27,
          "metadata": {},
          "output_type": "execute_result"
        }
      ],
      "source": [
        "df_ratings_train.c.sum(), df_ratings_test.c.sum()"
      ]
    },
    {
      "cell_type": "code",
      "execution_count": null,
      "metadata": {
        "id": "85BTG7e3DpD0"
      },
      "outputs": [],
      "source": [
        ""
      ]
    },
    {
      "cell_type": "code",
      "execution_count": null,
      "metadata": {
        "id": "9SyR9uspM6Qo"
      },
      "outputs": [],
      "source": [
        "context_train = df_ratings_train.pivot(index = 'user_id', columns ='movie_id', values = 'c').fillna(0)\n",
        "context_test = df_ratings_test.pivot(index = 'user_id', columns ='movie_id', values = 'c').fillna(0)"
      ]
    },
    {
      "cell_type": "code",
      "execution_count": null,
      "metadata": {
        "colab": {
          "base_uri": "https://localhost:8080/"
        },
        "id": "5rLKWHeQA0wg",
        "outputId": "62d7a335-c901-47df-ad45-5415a4f3ca6c"
      },
      "outputs": [
        {
          "data": {
            "text/plain": [
              "((7642, 11916), (7642, 11916))"
            ]
          },
          "execution_count": 29,
          "metadata": {},
          "output_type": "execute_result"
        }
      ],
      "source": [
        "def getfulldf(train_fold,test_fold):\n",
        "    train = ratings.copy()\n",
        "    train[:] = 0\n",
        "    test = train.copy()\n",
        "    \n",
        "    train.loc[train_fold.index,train_fold.columns] = train_fold.values\n",
        "    test.loc[test_fold.index,test_fold.columns] = test_fold.values\n",
        "    return train,test\n",
        "train,test = getfulldf(ratings, df_ratings_test.pivot(index = 'user_id', columns ='movie_id', values = 'final_rating').fillna(0))\n",
        "train.shape,test.shape"
      ]
    },
    {
      "cell_type": "code",
      "execution_count": null,
      "metadata": {
        "id": "2Aom2Ii3OUG9"
      },
      "outputs": [],
      "source": [
        "context_train, context_test = getfulldf(context_train, context_test)"
      ]
    },
    {
      "cell_type": "code",
      "execution_count": null,
      "metadata": {
        "id": "cTDVPBRbjNhN"
      },
      "outputs": [],
      "source": [
        "df_context = context_train + context_test"
      ]
    },
    {
      "cell_type": "code",
      "execution_count": null,
      "metadata": {
        "colab": {
          "base_uri": "https://localhost:8080/"
        },
        "id": "6QOKVTKhjSA8",
        "outputId": "9a1836d3-4529-4f7e-cf4c-50c22dfccb82"
      },
      "outputs": [
        {
          "data": {
            "text/plain": [
              "(110897.0, 105800.0, 5097.0)"
            ]
          },
          "execution_count": 32,
          "metadata": {},
          "output_type": "execute_result"
        }
      ],
      "source": [
        "df_context.sum().sum(), context_train.sum().sum(), context_test.sum().sum()"
      ]
    },
    {
      "cell_type": "markdown",
      "metadata": {
        "id": "HFmd7CXBnjZs"
      },
      "source": [
        "### Popularity model\n",
        "\n",
        "Recommend the most popular movies which have more then 10 ratings.\n",
        "\n",
        "Use the RMSE, MRR and NDCG metrics to evaluate your recommender system.   \n",
        "For the MRR and NDCG metrics use cutoff values of 5 and 10.   "
      ]
    },
    {
      "cell_type": "code",
      "execution_count": null,
      "metadata": {
        "id": "878kbFv8njZs"
      },
      "outputs": [],
      "source": [
        "class POP():\n",
        "\n",
        "    def __init__(self,df_train,M=10):\n",
        "    # df is the set to train on\n",
        "    # N is the number of movies to recommend\n",
        "    # M is the minimum votes required to be listed in the chart\n",
        "        self.df_train = df_train\n",
        "        self.min_movie_ratings = M\n",
        "        self.recommended = ratings.copy()\n",
        "        self.recommended[:] = 0\n",
        "        self.fit_time = 0\n",
        "\n",
        "    def fit(self):\n",
        "        start = time.time()\n",
        "        real_train = self.df_train[self.df_train > 0]\n",
        "        self.average = (real_train.sum() / real_train.count())\n",
        "        self.average.loc[real_train.count() < 10] = 0\n",
        "        self.recommended[:] = 0\n",
        "        self.recommended += self.average\n",
        "        self.popular = self.average.sort_values(ascending=False)\n",
        "        self.fit_time = time.time() - start\n",
        "\n",
        "    def predict(self,N=10):\n",
        "        return self.popular.index[:N]\n",
        "        \n",
        "    def get_rmse(self,test):\n",
        "        return my_metrics.RMSE(test, self.recommended)\n",
        "\n",
        "    def get_mae(self,test):\n",
        "        return my_metrics.MAE(test, self.recommended)\n",
        "\n",
        "    def get_mrr(self,test,k=10,threshold=3,debug=False):\n",
        "        return my_metrics.MRR(test, self.recommended, top_n=k, cutoff=threshold,debug=debug)\n",
        "        \n",
        "    def get_ndcg(self,test,k=5,debug=False):\n",
        "        return my_metrics.NDCG(test, self.recommended, top_n=k,debug=debug)\n",
        "    "
      ]
    },
    {
      "cell_type": "markdown",
      "metadata": {
        "id": "N5golxy8njZs"
      },
      "source": [
        "Checking your model and performance:"
      ]
    },
    {
      "cell_type": "code",
      "execution_count": null,
      "metadata": {
        "id": "H_j3M7RrFJwU"
      },
      "outputs": [],
      "source": [
        "\n",
        "# create popularity model\n",
        "model_pop = POP(train)\n",
        "\n",
        "# train model\n",
        "model_pop.fit()\n"
      ]
    },
    {
      "cell_type": "code",
      "execution_count": null,
      "metadata": {
        "colab": {
          "base_uri": "https://localhost:8080/",
          "height": 81
        },
        "id": "le3000u2njZs",
        "outputId": "4a9ec843-8fdc-4e5b-92c8-92f6741dddbe"
      },
      "outputs": [
        {
          "data": {
            "text/html": [
              "\n",
              "  <div id=\"df-f96f3420-9907-46b8-9420-4ec29dfc9d01\">\n",
              "    <div class=\"colab-df-container\">\n",
              "      <div>\n",
              "<style scoped>\n",
              "    .dataframe tbody tr th:only-of-type {\n",
              "        vertical-align: middle;\n",
              "    }\n",
              "\n",
              "    .dataframe tbody tr th {\n",
              "        vertical-align: top;\n",
              "    }\n",
              "\n",
              "    .dataframe thead th {\n",
              "        text-align: right;\n",
              "    }\n",
              "</style>\n",
              "<table border=\"1\" class=\"dataframe\">\n",
              "  <thead>\n",
              "    <tr style=\"text-align: right;\">\n",
              "      <th></th>\n",
              "      <th>Method</th>\n",
              "      <th>Time</th>\n",
              "      <th>RMSE</th>\n",
              "      <th>MAE</th>\n",
              "      <th>MRR_5</th>\n",
              "      <th>MRR_10</th>\n",
              "      <th>NDCG_5</th>\n",
              "      <th>NDCG_10</th>\n",
              "    </tr>\n",
              "  </thead>\n",
              "  <tbody>\n",
              "    <tr>\n",
              "      <th>0</th>\n",
              "      <td>Popularity</td>\n",
              "      <td>3.360194</td>\n",
              "      <td>2.07337</td>\n",
              "      <td>1.492618</td>\n",
              "      <td>0.77561</td>\n",
              "      <td>0.775787</td>\n",
              "      <td>0.958131</td>\n",
              "      <td>0.964912</td>\n",
              "    </tr>\n",
              "  </tbody>\n",
              "</table>\n",
              "</div>\n",
              "      <button class=\"colab-df-convert\" onclick=\"convertToInteractive('df-f96f3420-9907-46b8-9420-4ec29dfc9d01')\"\n",
              "              title=\"Convert this dataframe to an interactive table.\"\n",
              "              style=\"display:none;\">\n",
              "        \n",
              "  <svg xmlns=\"http://www.w3.org/2000/svg\" height=\"24px\"viewBox=\"0 0 24 24\"\n",
              "       width=\"24px\">\n",
              "    <path d=\"M0 0h24v24H0V0z\" fill=\"none\"/>\n",
              "    <path d=\"M18.56 5.44l.94 2.06.94-2.06 2.06-.94-2.06-.94-.94-2.06-.94 2.06-2.06.94zm-11 1L8.5 8.5l.94-2.06 2.06-.94-2.06-.94L8.5 2.5l-.94 2.06-2.06.94zm10 10l.94 2.06.94-2.06 2.06-.94-2.06-.94-.94-2.06-.94 2.06-2.06.94z\"/><path d=\"M17.41 7.96l-1.37-1.37c-.4-.4-.92-.59-1.43-.59-.52 0-1.04.2-1.43.59L10.3 9.45l-7.72 7.72c-.78.78-.78 2.05 0 2.83L4 21.41c.39.39.9.59 1.41.59.51 0 1.02-.2 1.41-.59l7.78-7.78 2.81-2.81c.8-.78.8-2.07 0-2.86zM5.41 20L4 18.59l7.72-7.72 1.47 1.35L5.41 20z\"/>\n",
              "  </svg>\n",
              "      </button>\n",
              "      \n",
              "  <style>\n",
              "    .colab-df-container {\n",
              "      display:flex;\n",
              "      flex-wrap:wrap;\n",
              "      gap: 12px;\n",
              "    }\n",
              "\n",
              "    .colab-df-convert {\n",
              "      background-color: #E8F0FE;\n",
              "      border: none;\n",
              "      border-radius: 50%;\n",
              "      cursor: pointer;\n",
              "      display: none;\n",
              "      fill: #1967D2;\n",
              "      height: 32px;\n",
              "      padding: 0 0 0 0;\n",
              "      width: 32px;\n",
              "    }\n",
              "\n",
              "    .colab-df-convert:hover {\n",
              "      background-color: #E2EBFA;\n",
              "      box-shadow: 0px 1px 2px rgba(60, 64, 67, 0.3), 0px 1px 3px 1px rgba(60, 64, 67, 0.15);\n",
              "      fill: #174EA6;\n",
              "    }\n",
              "\n",
              "    [theme=dark] .colab-df-convert {\n",
              "      background-color: #3B4455;\n",
              "      fill: #D2E3FC;\n",
              "    }\n",
              "\n",
              "    [theme=dark] .colab-df-convert:hover {\n",
              "      background-color: #434B5C;\n",
              "      box-shadow: 0px 1px 3px 1px rgba(0, 0, 0, 0.15);\n",
              "      filter: drop-shadow(0px 1px 2px rgba(0, 0, 0, 0.3));\n",
              "      fill: #FFFFFF;\n",
              "    }\n",
              "  </style>\n",
              "\n",
              "      <script>\n",
              "        const buttonEl =\n",
              "          document.querySelector('#df-f96f3420-9907-46b8-9420-4ec29dfc9d01 button.colab-df-convert');\n",
              "        buttonEl.style.display =\n",
              "          google.colab.kernel.accessAllowed ? 'block' : 'none';\n",
              "\n",
              "        async function convertToInteractive(key) {\n",
              "          const element = document.querySelector('#df-f96f3420-9907-46b8-9420-4ec29dfc9d01');\n",
              "          const dataTable =\n",
              "            await google.colab.kernel.invokeFunction('convertToInteractive',\n",
              "                                                     [key], {});\n",
              "          if (!dataTable) return;\n",
              "\n",
              "          const docLinkHtml = 'Like what you see? Visit the ' +\n",
              "            '<a target=\"_blank\" href=https://colab.research.google.com/notebooks/data_table.ipynb>data table notebook</a>'\n",
              "            + ' to learn more about interactive tables.';\n",
              "          element.innerHTML = '';\n",
              "          dataTable['output_type'] = 'display_data';\n",
              "          await google.colab.output.renderOutput(dataTable, element);\n",
              "          const docLink = document.createElement('div');\n",
              "          docLink.innerHTML = docLinkHtml;\n",
              "          element.appendChild(docLink);\n",
              "        }\n",
              "      </script>\n",
              "    </div>\n",
              "  </div>\n",
              "  "
            ],
            "text/plain": [
              "       Method      Time     RMSE  ...    MRR_10    NDCG_5   NDCG_10\n",
              "0  Popularity  3.360194  2.07337  ...  0.775787  0.958131  0.964912\n",
              "\n",
              "[1 rows x 8 columns]"
            ]
          },
          "execution_count": 35,
          "metadata": {},
          "output_type": "execute_result"
        }
      ],
      "source": [
        "# record model results\n",
        "final_results.loc[len(final_results)] = 'Popularity', model_pop.fit_time, model_pop.get_rmse(test), model_pop.get_mae(test), model_pop.get_mrr(test,k=5), model_pop.get_mrr(test,k=10), model_pop.get_ndcg(test,k=5), model_pop.get_ndcg(test,k=10)\n",
        "\n",
        "# display\n",
        "final_results"
      ]
    },
    {
      "cell_type": "markdown",
      "metadata": {
        "id": "C_UU8he1njZt"
      },
      "source": [
        "### Implement explicit matrix factorization algorithm to predict the rating a user will provide to an item and recommendation of top N items.   \n",
        "\n",
        "Use the RMSE, MRR and NDCG metrics to evaluate your recommender system.   \n",
        "For the MRR and NDCG metrics use cutoff values of 5 and 10.   "
      ]
    },
    {
      "cell_type": "code",
      "execution_count": null,
      "metadata": {
        "id": "CBG9irWOnjZt"
      },
      "outputs": [],
      "source": [
        "class MF():\n",
        "    \n",
        "    def __init__(self,df_train,df_context,n_factors=10,only_bias=False,context_aware=True,\n",
        "                 non_zero_indices=None, test_non_zero_indices=None):\n",
        "        self.df_train = df_train\n",
        "        self.df_context = df_context\n",
        "        self.n_factors = n_factors\n",
        "        self.only_bias = only_bias\n",
        "        self.context_aware = context_aware\n",
        "        \n",
        "        # rows==users , cols==items\n",
        "        self.n_rows, self.n_cols = df_train.shape\n",
        "        \n",
        "        # biases\n",
        "        self.original_bias_global = np.sum(df_train.values)/np.count_nonzero(df_train)\n",
        "        self.original_bias_rows   = np.sum(df_train,axis=1)/np.count_nonzero(df_train,axis=1) \n",
        "        self.original_bias_cols   = np.sum(df_train,axis=0)/np.count_nonzero(df_train,axis=0)\n",
        "        \n",
        "        self.rows_indices = np.arange(self.n_rows)\n",
        "        self.cols_indices = np.arange(self.n_cols)\n",
        "        self.non_zero_indices = []\n",
        "        self.test_non_zero_indices = []\n",
        "        if non_zero_indices is not None:\n",
        "          for idx, row in non_zero_indices[['user_id', 'movie_id']].iterrows():\n",
        "            u = self.df_train.index.get_loc(row['user_id'])\n",
        "            i = self.df_train.columns.get_loc(row['movie_id'])\n",
        "            self.non_zero_indices.append((u, i))\n",
        "          for idx, row in test_non_zero_indices[['user_id', 'movie_id']].iterrows():\n",
        "            u = self.df_train.index.get_loc(row['user_id'])\n",
        "            i = self.df_train.columns.get_loc(row['movie_id'])\n",
        "            self.test_non_zero_indices.append((u, i))          \n",
        "        # perf optimization\n",
        "        else:\n",
        "          for u in self.rows_indices:\n",
        "            for i in self.cols_indices:\n",
        "              if self.df_train.values[u,i] == 0:\n",
        "                continue\n",
        "              self.non_zero_indices.append((u,i))\n",
        "        print('non_zero_indices', len(self.non_zero_indices))\n",
        "        # \"reset\" initialization \n",
        "        self.initilize_params()\n",
        "        \n",
        "        \n",
        "    def initilize_params(self):\n",
        "        if self.only_bias:\n",
        "          self.vecs_rows = np.zeros(shape=(self.n_rows, self.n_factors))\n",
        "          self.vecs_cols = np.zeros(shape=(self.n_cols, self.n_factors))        \n",
        "        else:\n",
        "          self.vecs_rows = np.random.normal(scale=1./self.n_factors,\\\n",
        "                                            size=(self.n_rows, self.n_factors))\n",
        "          self.vecs_cols = np.random.normal(scale=1./self.n_factors,\n",
        "                                            size=(self.n_cols, self.n_factors))\n",
        "        if self.context_aware:\n",
        "          # we support a single context var with 2 possible values, no unknown\n",
        "          self.context_vars = np.random.normal(scale=1./self.n_factors,\n",
        "                                              size=(self.n_cols, 2))\n",
        "        else:\n",
        "          self.context_vars = np.zeros(shape=(self.n_cols, 2))\n",
        "        self.recommended = ratings.copy()\n",
        "        self.recommended[:] = 0\n",
        "        # initilize bias\n",
        "        self.bias_global = self.original_bias_global   # no need to learn it\n",
        "        self.bias_rows   = np.random.normal(scale=1./self.n_factors,\\\n",
        "                                          size=(self.n_rows)) # random\n",
        "        self.bias_cols   = np.random.normal(scale=1./self.n_factors,\\\n",
        "                                          size=(self.n_cols)) # random\n",
        "            \n",
        "        \n",
        "    def fit(self,\n",
        "            n_iterations=1,\n",
        "            learning_rate=1e-1,\n",
        "            regularization=1e-2,\n",
        "            convergence=1e-5,\n",
        "            error='RMSE',\n",
        "            initilize_training=True,\n",
        "            verbose=True,\n",
        "            batch_size = 5):\n",
        "        \n",
        "        self.n_iterations = n_iterations\n",
        "        self.α = learning_rate\n",
        "        self.λ = regularization\n",
        "        self.ϵ = convergence\n",
        "        self.error = error\n",
        "        self.batch_size = batch_size\n",
        "\n",
        "        if initilize_training:\n",
        "            self.initilize_params()\n",
        "\n",
        "           \n",
        "        # please record your progress in history\n",
        "        self.history = []\n",
        "                  \n",
        "        # please record the training time in fit_time\n",
        "        start = time.time()\n",
        "\n",
        "        # please use the class functions \n",
        "        # for example(!) :\n",
        "        if verbose:\n",
        "          print(f\"training on {len(self.non_zero_indices)} non zero indices\")\n",
        "        for current_iteration in range(self.n_iterations):\n",
        "            \n",
        "            # None ?\n",
        "            self.recommended[:] = self.predict_all()\n",
        "            self.history.append(self.get_rmse(self.df_train))\n",
        "            \n",
        "            # printing\n",
        "            if verbose:\n",
        "                print('iteration: ',current_iteration,' total error:\\n',self.history[-1])\n",
        "            \n",
        "            # convergence\n",
        "            if current_iteration>1 and self.converging():\n",
        "                \n",
        "                if verbose:\n",
        "                    print('converged...')\n",
        "                break\n",
        "            self.training_indices = np.arange(len(self.non_zero_indices))\n",
        "            np.random.shuffle(self.training_indices)\n",
        "            self.optim_GD()\n",
        "        self.recommended[:] = self.predict_all()\n",
        "        self.fit_time = time.time() - start\n",
        "    \n",
        "    def converging(self):\n",
        "        return abs(self.history[-2] - self.history[-1]) < self.ϵ\n",
        "\n",
        "                  \n",
        "    def optim_GD(self):        \n",
        "        delta_vecs_rows, delta_bias_rows, \\\n",
        "          delta_vecs_cols, delta_bias_cols, delta_context_vars = self.zero_grads()\n",
        "        n_in_batch = 0\n",
        "        for s_idx, s in enumerate(self.training_indices):\n",
        "            if n_in_batch == self.batch_size or (s_idx == len(self.training_indices) - 1 and n_in_batch > 0):\n",
        "              delta_vecs_rows /= n_in_batch\n",
        "              delta_bias_rows /= n_in_batch\n",
        "              delta_vecs_cols /= n_in_batch\n",
        "              delta_bias_cols /= n_in_batch\n",
        "              delta_context_vars /= n_in_batch\n",
        "              self.step_rows(delta_vecs_rows, delta_bias_rows)\n",
        "              self.step_cols(delta_vecs_cols, delta_bias_cols)\n",
        "              self.step_context_vars(delta_context_vars)\n",
        "              delta_vecs_rows, delta_bias_rows, \\\n",
        "                delta_vecs_cols, delta_bias_cols, delta_context_vars = self.zero_grads()\n",
        "              n_in_batch = 0\n",
        "            n_in_batch += 1\n",
        "            u, i = self.non_zero_indices[s]\n",
        "            e = self.df_train.values[u,i] - self.predict_single(u, i) # error\n",
        "            if not self.only_bias:\n",
        "              delta_vecs_rows[u, :] += self.α * \\\n",
        "                                      (e * self.vecs_cols[i, :] - \\\n",
        "                                        self.λ * self.vecs_rows[u,:])\n",
        "              delta_vecs_cols[i, :] += self.α * \\\n",
        "                                      (e * self.vecs_rows[u, :] - \\\n",
        "                                        self.λ * self.vecs_cols[i,:])\n",
        "            if self.context_aware:\n",
        "              c = int(self.df_context.values[u,i])\n",
        "              delta_context_vars[i, c] += self.α * \\\n",
        "                                      (e - self.λ * self.context_vars[i, c])\n",
        "            \n",
        "            # Update biases\n",
        "            delta_bias_rows[u] += self.α * \\\n",
        "                                (e - self.λ * self.bias_rows[u])\n",
        "            delta_bias_cols[i] += self.α * \\\n",
        "                                (e - self.λ * self.bias_cols[i])\n",
        "\n",
        "    def zero_grads(self):\n",
        "        delta_vecs_rows = np.zeros(shape=(self.n_rows, self.n_factors))\n",
        "        delta_vecs_cols = np.zeros(shape=(self.n_cols, self.n_factors))\n",
        "        delta_bias_rows = np.zeros(shape=(self.n_rows))\n",
        "        delta_bias_cols = np.zeros(shape=(self.n_cols))\n",
        "        delta_context_vars = np.zeros(shape=(self.n_cols, 2))\n",
        "        return delta_vecs_rows, delta_bias_rows, \\\n",
        "                delta_vecs_cols, delta_bias_cols, delta_context_vars\n",
        "\n",
        "    def step_rows(self, delta_vecs_rows, delta_bias_rows):\n",
        "        self.vecs_rows += delta_vecs_rows\n",
        "        self.bias_rows += delta_bias_rows\n",
        "                  \n",
        "    def step_cols(self, delta_vecs_cols, delta_bias_cols):\n",
        "        self.vecs_cols += delta_vecs_cols\n",
        "        self.bias_cols += delta_bias_cols\n",
        "\n",
        "    def step_context_vars(self, delta_context_vars):\n",
        "        self.context_vars += delta_context_vars\n",
        "\n",
        "    def predict_all(self):\n",
        "        predicted = self.vecs_rows @ self.vecs_cols.T \n",
        "        predicted += self.bias_global \n",
        "        predicted += self.bias_cols.reshape(1, self.n_cols) # broadcast\n",
        "        predicted += self.bias_rows.reshape(self.n_rows, 1) # broadcast\n",
        "        for u, i in self.non_zero_indices + self.test_non_zero_indices:\n",
        "          c = int(self.df_context.values[u,i])\n",
        "          predicted[u, i] += self.context_vars[i, c]\n",
        "        \n",
        "        return predicted\n",
        "\n",
        "    def predict_single(self, u, i):\n",
        "        \"\"\" Single user and item prediction. \"\"\"\n",
        "        c = int(self.df_context.values[u,i])\n",
        "        return self.vecs_rows[u, :].dot(self.vecs_cols[i, :].T) + self.bias_global + self.bias_cols[i] + self.bias_rows[u] + self.context_vars[i, c]\n",
        "\n",
        "    def predict(self,N=10):\n",
        "        pass\n",
        "        \n",
        "        \n",
        "    def get_rmse(self,test, debug=False):\n",
        "        return my_metrics.RMSE(test, self.recommended, debug=debug)\n",
        "\n",
        "    def get_mae(self,test):\n",
        "        return my_metrics.MAE(test, self.recommended)\n",
        "    \n",
        "    def get_mrr(self,test,k=10,threshold=3):\n",
        "        return my_metrics.MRR(test, self.recommended)\n",
        "    \n",
        "    def get_ndcg(self,test,k=5):\n",
        "        return my_metrics.NDCG(test, self.recommended)\n"
      ]
    },
    {
      "cell_type": "markdown",
      "metadata": {
        "id": "IJXT85m9njZt"
      },
      "source": [
        "Checking your model and performance:"
      ]
    },
    {
      "cell_type": "code",
      "execution_count": null,
      "metadata": {
        "colab": {
          "base_uri": "https://localhost:8080/",
          "height": 477
        },
        "id": "ulO6NLY2njZu",
        "outputId": "f3131659-940e-488a-e011-1d8a47c618c0"
      },
      "outputs": [
        {
          "name": "stdout",
          "output_type": "stream",
          "text": [
            "non_zero_indices 211231\n",
            "training on 211231 non zero indices\n",
            "iteration:  0  total error:\n",
            " 1.1951612701472059\n",
            "iteration:  1  total error:\n",
            " 0.9247426942183009\n",
            "iteration:  2  total error:\n",
            " 0.9002199282504305\n",
            "iteration:  3  total error:\n",
            " 0.8873266113909366\n",
            "iteration:  4  total error:\n",
            " 0.8808566270939258\n",
            "iteration:  5  total error:\n",
            " 0.8738971132528243\n",
            "iteration:  6  total error:\n",
            " 0.8719785724629849\n",
            "iteration:  7  total error:\n",
            " 0.8680668502873032\n",
            "iteration:  8  total error:\n",
            " 0.868392725821779\n",
            "converged...\n"
          ]
        },
        {
          "data": {
            "text/html": [
              "\n",
              "  <div id=\"df-f84d0fe3-f769-44e6-84a8-fecfd5da915d\">\n",
              "    <div class=\"colab-df-container\">\n",
              "      <div>\n",
              "<style scoped>\n",
              "    .dataframe tbody tr th:only-of-type {\n",
              "        vertical-align: middle;\n",
              "    }\n",
              "\n",
              "    .dataframe tbody tr th {\n",
              "        vertical-align: top;\n",
              "    }\n",
              "\n",
              "    .dataframe thead th {\n",
              "        text-align: right;\n",
              "    }\n",
              "</style>\n",
              "<table border=\"1\" class=\"dataframe\">\n",
              "  <thead>\n",
              "    <tr style=\"text-align: right;\">\n",
              "      <th></th>\n",
              "      <th>Method</th>\n",
              "      <th>Time</th>\n",
              "      <th>RMSE</th>\n",
              "      <th>MAE</th>\n",
              "      <th>MRR_5</th>\n",
              "      <th>MRR_10</th>\n",
              "      <th>NDCG_5</th>\n",
              "      <th>NDCG_10</th>\n",
              "    </tr>\n",
              "  </thead>\n",
              "  <tbody>\n",
              "    <tr>\n",
              "      <th>0</th>\n",
              "      <td>Popularity</td>\n",
              "      <td>3.360194</td>\n",
              "      <td>2.07337</td>\n",
              "      <td>1.492618</td>\n",
              "      <td>0.775610</td>\n",
              "      <td>0.775787</td>\n",
              "      <td>0.958131</td>\n",
              "      <td>0.964912</td>\n",
              "    </tr>\n",
              "    <tr>\n",
              "      <th>1</th>\n",
              "      <td>CAMF</td>\n",
              "      <td>627.736926</td>\n",
              "      <td>0.88812</td>\n",
              "      <td>0.693198</td>\n",
              "      <td>0.463722</td>\n",
              "      <td>0.463722</td>\n",
              "      <td>0.957631</td>\n",
              "      <td>0.957631</td>\n",
              "    </tr>\n",
              "  </tbody>\n",
              "</table>\n",
              "</div>\n",
              "      <button class=\"colab-df-convert\" onclick=\"convertToInteractive('df-f84d0fe3-f769-44e6-84a8-fecfd5da915d')\"\n",
              "              title=\"Convert this dataframe to an interactive table.\"\n",
              "              style=\"display:none;\">\n",
              "        \n",
              "  <svg xmlns=\"http://www.w3.org/2000/svg\" height=\"24px\"viewBox=\"0 0 24 24\"\n",
              "       width=\"24px\">\n",
              "    <path d=\"M0 0h24v24H0V0z\" fill=\"none\"/>\n",
              "    <path d=\"M18.56 5.44l.94 2.06.94-2.06 2.06-.94-2.06-.94-.94-2.06-.94 2.06-2.06.94zm-11 1L8.5 8.5l.94-2.06 2.06-.94-2.06-.94L8.5 2.5l-.94 2.06-2.06.94zm10 10l.94 2.06.94-2.06 2.06-.94-2.06-.94-.94-2.06-.94 2.06-2.06.94z\"/><path d=\"M17.41 7.96l-1.37-1.37c-.4-.4-.92-.59-1.43-.59-.52 0-1.04.2-1.43.59L10.3 9.45l-7.72 7.72c-.78.78-.78 2.05 0 2.83L4 21.41c.39.39.9.59 1.41.59.51 0 1.02-.2 1.41-.59l7.78-7.78 2.81-2.81c.8-.78.8-2.07 0-2.86zM5.41 20L4 18.59l7.72-7.72 1.47 1.35L5.41 20z\"/>\n",
              "  </svg>\n",
              "      </button>\n",
              "      \n",
              "  <style>\n",
              "    .colab-df-container {\n",
              "      display:flex;\n",
              "      flex-wrap:wrap;\n",
              "      gap: 12px;\n",
              "    }\n",
              "\n",
              "    .colab-df-convert {\n",
              "      background-color: #E8F0FE;\n",
              "      border: none;\n",
              "      border-radius: 50%;\n",
              "      cursor: pointer;\n",
              "      display: none;\n",
              "      fill: #1967D2;\n",
              "      height: 32px;\n",
              "      padding: 0 0 0 0;\n",
              "      width: 32px;\n",
              "    }\n",
              "\n",
              "    .colab-df-convert:hover {\n",
              "      background-color: #E2EBFA;\n",
              "      box-shadow: 0px 1px 2px rgba(60, 64, 67, 0.3), 0px 1px 3px 1px rgba(60, 64, 67, 0.15);\n",
              "      fill: #174EA6;\n",
              "    }\n",
              "\n",
              "    [theme=dark] .colab-df-convert {\n",
              "      background-color: #3B4455;\n",
              "      fill: #D2E3FC;\n",
              "    }\n",
              "\n",
              "    [theme=dark] .colab-df-convert:hover {\n",
              "      background-color: #434B5C;\n",
              "      box-shadow: 0px 1px 3px 1px rgba(0, 0, 0, 0.15);\n",
              "      filter: drop-shadow(0px 1px 2px rgba(0, 0, 0, 0.3));\n",
              "      fill: #FFFFFF;\n",
              "    }\n",
              "  </style>\n",
              "\n",
              "      <script>\n",
              "        const buttonEl =\n",
              "          document.querySelector('#df-f84d0fe3-f769-44e6-84a8-fecfd5da915d button.colab-df-convert');\n",
              "        buttonEl.style.display =\n",
              "          google.colab.kernel.accessAllowed ? 'block' : 'none';\n",
              "\n",
              "        async function convertToInteractive(key) {\n",
              "          const element = document.querySelector('#df-f84d0fe3-f769-44e6-84a8-fecfd5da915d');\n",
              "          const dataTable =\n",
              "            await google.colab.kernel.invokeFunction('convertToInteractive',\n",
              "                                                     [key], {});\n",
              "          if (!dataTable) return;\n",
              "\n",
              "          const docLinkHtml = 'Like what you see? Visit the ' +\n",
              "            '<a target=\"_blank\" href=https://colab.research.google.com/notebooks/data_table.ipynb>data table notebook</a>'\n",
              "            + ' to learn more about interactive tables.';\n",
              "          element.innerHTML = '';\n",
              "          dataTable['output_type'] = 'display_data';\n",
              "          await google.colab.output.renderOutput(dataTable, element);\n",
              "          const docLink = document.createElement('div');\n",
              "          docLink.innerHTML = docLinkHtml;\n",
              "          element.appendChild(docLink);\n",
              "        }\n",
              "      </script>\n",
              "    </div>\n",
              "  </div>\n",
              "  "
            ],
            "text/plain": [
              "       Method        Time     RMSE  ...    MRR_10    NDCG_5   NDCG_10\n",
              "0  Popularity    3.360194  2.07337  ...  0.775787  0.958131  0.964912\n",
              "1        CAMF  627.736926  0.88812  ...  0.463722  0.957631  0.957631\n",
              "\n",
              "[2 rows x 8 columns]"
            ]
          },
          "execution_count": 37,
          "metadata": {},
          "output_type": "execute_result"
        }
      ],
      "source": [
        "# create MF model\n",
        "model_camf = MF(train,df_context,n_factors=20,only_bias=False,context_aware=True, non_zero_indices=df_ratings_train, test_non_zero_indices=df_ratings_test)\n",
        "\n",
        "# train model\n",
        "model_camf.fit(n_iterations=10,verbose=True,regularization=1.0,convergence=1e-3,learning_rate=0.1,\\\n",
        "                   batch_size=5)\n",
        "\n",
        "# record model results\n",
        "final_results.loc[len(final_results)] = 'CAMF', model_camf.fit_time, model_camf.get_rmse(test), model_camf.get_mae(test), model_camf.get_mrr(test,k=5), model_camf.get_mrr(test,k=10), model_camf.get_ndcg(test,k=5), model_camf.get_ndcg(test,k=10)\n",
        "\n",
        "# display\n",
        "final_results"
      ]
    },
    {
      "cell_type": "code",
      "execution_count": null,
      "metadata": {
        "colab": {
          "base_uri": "https://localhost:8080/"
        },
        "id": "NzFU-AvKNJgm",
        "outputId": "dcbbba9a-2904-4f74-ec06-f5ad7027881b"
      },
      "outputs": [
        {
          "data": {
            "text/plain": [
              "array([[-0.03456848,  0.11998188],\n",
              "       [-0.06596128,  0.00147346],\n",
              "       [ 0.03741728,  0.05331056],\n",
              "       ...,\n",
              "       [-0.43424831,  0.02415497],\n",
              "       [ 0.02147295, -0.167488  ],\n",
              "       [ 0.00552535,  0.18547854]])"
            ]
          },
          "execution_count": 38,
          "metadata": {},
          "output_type": "execute_result"
        }
      ],
      "source": [
        "model_camf.context_vars"
      ]
    },
    {
      "cell_type": "code",
      "execution_count": null,
      "metadata": {
        "colab": {
          "base_uri": "https://localhost:8080/",
          "height": 473
        },
        "id": "yE9IhtfxGWXO",
        "outputId": "14d9cbee-0d0d-41ca-9ec1-d3f92344f565"
      },
      "outputs": [
        {
          "name": "stdout",
          "output_type": "stream",
          "text": [
            "non_zero_indices 211231\n",
            "training on 211231 non zero indices\n",
            "iteration:  0  total error:\n",
            " 1.2018682762296384\n",
            "iteration:  1  total error:\n",
            " 0.9837193669983169\n",
            "iteration:  2  total error:\n",
            " 0.9505205685923859\n",
            "iteration:  3  total error:\n",
            " 0.9366515312695053\n",
            "iteration:  4  total error:\n",
            " 0.9305719286625481\n",
            "iteration:  5  total error:\n",
            " 0.925335623672621\n",
            "iteration:  6  total error:\n",
            " 0.9227962207740165\n",
            "iteration:  7  total error:\n",
            " 0.9218202681218499\n",
            "converged...\n"
          ]
        },
        {
          "data": {
            "text/html": [
              "\n",
              "  <div id=\"df-3bba62e9-dea7-4afd-8d9f-7ab1e81b977a\">\n",
              "    <div class=\"colab-df-container\">\n",
              "      <div>\n",
              "<style scoped>\n",
              "    .dataframe tbody tr th:only-of-type {\n",
              "        vertical-align: middle;\n",
              "    }\n",
              "\n",
              "    .dataframe tbody tr th {\n",
              "        vertical-align: top;\n",
              "    }\n",
              "\n",
              "    .dataframe thead th {\n",
              "        text-align: right;\n",
              "    }\n",
              "</style>\n",
              "<table border=\"1\" class=\"dataframe\">\n",
              "  <thead>\n",
              "    <tr style=\"text-align: right;\">\n",
              "      <th></th>\n",
              "      <th>Method</th>\n",
              "      <th>Time</th>\n",
              "      <th>RMSE</th>\n",
              "      <th>MAE</th>\n",
              "      <th>MRR_5</th>\n",
              "      <th>MRR_10</th>\n",
              "      <th>NDCG_5</th>\n",
              "      <th>NDCG_10</th>\n",
              "    </tr>\n",
              "  </thead>\n",
              "  <tbody>\n",
              "    <tr>\n",
              "      <th>0</th>\n",
              "      <td>Popularity</td>\n",
              "      <td>3.360194</td>\n",
              "      <td>2.07337</td>\n",
              "      <td>1.492618</td>\n",
              "      <td>0.775610</td>\n",
              "      <td>0.775787</td>\n",
              "      <td>0.958131</td>\n",
              "      <td>0.964912</td>\n",
              "    </tr>\n",
              "    <tr>\n",
              "      <th>1</th>\n",
              "      <td>CAMF</td>\n",
              "      <td>627.736926</td>\n",
              "      <td>0.88812</td>\n",
              "      <td>0.693198</td>\n",
              "      <td>0.463722</td>\n",
              "      <td>0.463722</td>\n",
              "      <td>0.957631</td>\n",
              "      <td>0.957631</td>\n",
              "    </tr>\n",
              "    <tr>\n",
              "      <th>2</th>\n",
              "      <td>MF</td>\n",
              "      <td>321.118886</td>\n",
              "      <td>0.91743</td>\n",
              "      <td>0.731349</td>\n",
              "      <td>0.460986</td>\n",
              "      <td>0.460986</td>\n",
              "      <td>0.959257</td>\n",
              "      <td>0.959257</td>\n",
              "    </tr>\n",
              "  </tbody>\n",
              "</table>\n",
              "</div>\n",
              "      <button class=\"colab-df-convert\" onclick=\"convertToInteractive('df-3bba62e9-dea7-4afd-8d9f-7ab1e81b977a')\"\n",
              "              title=\"Convert this dataframe to an interactive table.\"\n",
              "              style=\"display:none;\">\n",
              "        \n",
              "  <svg xmlns=\"http://www.w3.org/2000/svg\" height=\"24px\"viewBox=\"0 0 24 24\"\n",
              "       width=\"24px\">\n",
              "    <path d=\"M0 0h24v24H0V0z\" fill=\"none\"/>\n",
              "    <path d=\"M18.56 5.44l.94 2.06.94-2.06 2.06-.94-2.06-.94-.94-2.06-.94 2.06-2.06.94zm-11 1L8.5 8.5l.94-2.06 2.06-.94-2.06-.94L8.5 2.5l-.94 2.06-2.06.94zm10 10l.94 2.06.94-2.06 2.06-.94-2.06-.94-.94-2.06-.94 2.06-2.06.94z\"/><path d=\"M17.41 7.96l-1.37-1.37c-.4-.4-.92-.59-1.43-.59-.52 0-1.04.2-1.43.59L10.3 9.45l-7.72 7.72c-.78.78-.78 2.05 0 2.83L4 21.41c.39.39.9.59 1.41.59.51 0 1.02-.2 1.41-.59l7.78-7.78 2.81-2.81c.8-.78.8-2.07 0-2.86zM5.41 20L4 18.59l7.72-7.72 1.47 1.35L5.41 20z\"/>\n",
              "  </svg>\n",
              "      </button>\n",
              "      \n",
              "  <style>\n",
              "    .colab-df-container {\n",
              "      display:flex;\n",
              "      flex-wrap:wrap;\n",
              "      gap: 12px;\n",
              "    }\n",
              "\n",
              "    .colab-df-convert {\n",
              "      background-color: #E8F0FE;\n",
              "      border: none;\n",
              "      border-radius: 50%;\n",
              "      cursor: pointer;\n",
              "      display: none;\n",
              "      fill: #1967D2;\n",
              "      height: 32px;\n",
              "      padding: 0 0 0 0;\n",
              "      width: 32px;\n",
              "    }\n",
              "\n",
              "    .colab-df-convert:hover {\n",
              "      background-color: #E2EBFA;\n",
              "      box-shadow: 0px 1px 2px rgba(60, 64, 67, 0.3), 0px 1px 3px 1px rgba(60, 64, 67, 0.15);\n",
              "      fill: #174EA6;\n",
              "    }\n",
              "\n",
              "    [theme=dark] .colab-df-convert {\n",
              "      background-color: #3B4455;\n",
              "      fill: #D2E3FC;\n",
              "    }\n",
              "\n",
              "    [theme=dark] .colab-df-convert:hover {\n",
              "      background-color: #434B5C;\n",
              "      box-shadow: 0px 1px 3px 1px rgba(0, 0, 0, 0.15);\n",
              "      filter: drop-shadow(0px 1px 2px rgba(0, 0, 0, 0.3));\n",
              "      fill: #FFFFFF;\n",
              "    }\n",
              "  </style>\n",
              "\n",
              "      <script>\n",
              "        const buttonEl =\n",
              "          document.querySelector('#df-3bba62e9-dea7-4afd-8d9f-7ab1e81b977a button.colab-df-convert');\n",
              "        buttonEl.style.display =\n",
              "          google.colab.kernel.accessAllowed ? 'block' : 'none';\n",
              "\n",
              "        async function convertToInteractive(key) {\n",
              "          const element = document.querySelector('#df-3bba62e9-dea7-4afd-8d9f-7ab1e81b977a');\n",
              "          const dataTable =\n",
              "            await google.colab.kernel.invokeFunction('convertToInteractive',\n",
              "                                                     [key], {});\n",
              "          if (!dataTable) return;\n",
              "\n",
              "          const docLinkHtml = 'Like what you see? Visit the ' +\n",
              "            '<a target=\"_blank\" href=https://colab.research.google.com/notebooks/data_table.ipynb>data table notebook</a>'\n",
              "            + ' to learn more about interactive tables.';\n",
              "          element.innerHTML = '';\n",
              "          dataTable['output_type'] = 'display_data';\n",
              "          await google.colab.output.renderOutput(dataTable, element);\n",
              "          const docLink = document.createElement('div');\n",
              "          docLink.innerHTML = docLinkHtml;\n",
              "          element.appendChild(docLink);\n",
              "        }\n",
              "      </script>\n",
              "    </div>\n",
              "  </div>\n",
              "  "
            ],
            "text/plain": [
              "       Method        Time     RMSE  ...    MRR_10    NDCG_5   NDCG_10\n",
              "0  Popularity    3.360194  2.07337  ...  0.775787  0.958131  0.964912\n",
              "1        CAMF  627.736926  0.88812  ...  0.463722  0.957631  0.957631\n",
              "2          MF  321.118886  0.91743  ...  0.460986  0.959257  0.959257\n",
              "\n",
              "[3 rows x 8 columns]"
            ]
          },
          "execution_count": 39,
          "metadata": {},
          "output_type": "execute_result"
        }
      ],
      "source": [
        "# create MF model\n",
        "model_mf = MF(train,df_context,n_factors=10,only_bias=False,context_aware=False, non_zero_indices=df_ratings_train, test_non_zero_indices=df_ratings_test)\n",
        "\n",
        "# train model\n",
        "model_mf.fit(n_iterations=10,verbose=True,regularization=1.0,convergence=1e-3,learning_rate=0.1,\\\n",
        "                   batch_size=5)\n",
        "\n",
        "# record model results\n",
        "final_results.loc[len(final_results)] = 'MF', model_mf.fit_time, model_mf.get_rmse(test), model_mf.get_mae(test), model_mf.get_mrr(test,k=5), model_mf.get_mrr(test,k=10), model_mf.get_ndcg(test,k=5), model_mf.get_ndcg(test,k=10)\n",
        "\n",
        "# display\n",
        "final_results"
      ]
    },
    {
      "cell_type": "markdown",
      "metadata": {
        "id": "KrgCKWVrnjZu"
      },
      "source": [
        "<br><br><br>\n",
        "\n",
        "# Question 4: \n",
        "## Train & HyperParams Search \n",
        "<br><br><br>\n"
      ]
    },
    {
      "cell_type": "markdown",
      "metadata": {
        "id": "PURFoTCenjZu"
      },
      "source": [
        "### Different choices of the latent factor dimension, regularization, learning rate.\n",
        "and Find best hyperparameters using K-folds\n",
        "\n",
        "\n",
        "While running of these permutations:\n",
        "\n",
        "    - n_iterations   = [20]     \n",
        "    - convergence    = [1e-5]    \n",
        "    - latent_factors = [5,10,20]    \n",
        "    - regularization = [0.01,0.1,1]    \n",
        "    - learning_rate  = [0.001,0.01,0.1]    \n",
        "\n",
        "and averaging the K-folds results the metrics..."
      ]
    },
    {
      "cell_type": "code",
      "execution_count": null,
      "metadata": {
        "colab": {
          "background_save": true,
          "base_uri": "https://localhost:8080/"
        },
        "id": "uDK5BLCDnjZu",
        "outputId": "e1e1d895-f03b-46ac-9262-74172f88229b"
      },
      "outputs": [
        {
          "name": "stdout",
          "output_type": "stream",
          "text": [
            "running experiment i=0, {'Iterations': 10, 'Latent_factors': 5, 'Learning_Rate': 0.001, 'Regularization': 0.01, 'Convergence': 1e-05, 'Batch_size': 5, 'Only_Bias': False, 'Experiment': 0}\n",
            "non_zero_indices 211231\n",
            "0 2022-02-10 17:15:51.150510 {'RMSE': 1.0662214380777246, 'MAE': 0.8497686124058241, 'MRR_5': 0.4593546990038979, 'MRR_10': 0.4593546990038979, 'NDCG_5': 0.95072576638137, 'NDCG_10': 0.95072576638137, 'History': [1.2447276790732138, 1.1935998006306363, 1.1607948426892156, 1.1368424233902057, 1.1181080931634104, 1.102801309443305, 1.0898922334852772, 1.0787434987683986, 1.0689461028635685, 1.0602107700826087]}\n",
            "running experiment i=1, {'Iterations': 10, 'Latent_factors': 5, 'Learning_Rate': 0.001, 'Regularization': 0.01, 'Convergence': 0.001, 'Batch_size': 5, 'Only_Bias': False, 'Experiment': 1}\n",
            "non_zero_indices 211231\n",
            "1 2022-02-10 17:22:23.419804 {'RMSE': 1.112618486342437, 'MAE': 0.8828847565128745, 'MRR_5': 0.4542803522448395, 'MRR_10': 0.4542803522448395, 'NDCG_5': 0.9450555682679777, 'NDCG_10': 0.9450555682679777, 'History': [1.2396092984519511, 1.1887270236561909, 1.1570488715044631, 1.1336764774190222, 1.1152699331628617, 1.1001928968361006, 1.087474485971041, 1.0764868410988102, 1.0668358810999277, 1.0582321354300015]}\n",
            "running experiment i=2, {'Iterations': 10, 'Latent_factors': 5, 'Learning_Rate': 0.001, 'Regularization': 0.1, 'Convergence': 1e-05, 'Batch_size': 5, 'Only_Bias': False, 'Experiment': 2}\n",
            "non_zero_indices 211231\n",
            "2 2022-02-10 17:28:45.745602 {'RMSE': 1.1054080383112654, 'MAE': 0.8706510797165241, 'MRR_5': 0.4537462104807279, 'MRR_10': 0.4537462104807279, 'NDCG_5': 0.9449838886654431, 'NDCG_10': 0.9449838886654431, 'History': [1.256857471007284, 1.2013479718097373, 1.1668926719967114, 1.1422797160473406, 1.123244105747678, 1.1077581417116855, 1.0946938032038485, 1.0834066461350214, 1.07345799367204, 1.0645765328936283]}\n",
            "running experiment i=3, {'Iterations': 10, 'Latent_factors': 5, 'Learning_Rate': 0.001, 'Regularization': 0.1, 'Convergence': 0.001, 'Batch_size': 5, 'Only_Bias': False, 'Experiment': 3}\n",
            "non_zero_indices 211231\n",
            "3 2022-02-10 17:35:09.284017 {'RMSE': 1.0682351109105233, 'MAE': 0.8437258350504925, 'MRR_5': 0.4538111736682548, 'MRR_10': 0.4538111736682548, 'NDCG_5': 0.9461633828346574, 'NDCG_10': 0.9461633828346574, 'History': [1.2377756295827895, 1.187949995703768, 1.1572811531214169, 1.1348400852867784, 1.1171139351596961, 1.1024372207606685, 1.0899152105049121, 1.078993953669365, 1.0693123035279575, 1.0606330168042852]}\n",
            "running experiment i=4, {'Iterations': 10, 'Latent_factors': 5, 'Learning_Rate': 0.001, 'Regularization': 1, 'Convergence': 1e-05, 'Batch_size': 5, 'Only_Bias': False, 'Experiment': 4}\n",
            "non_zero_indices 211231\n",
            "4 2022-02-10 17:41:29.398233 {'RMSE': 1.085910988011632, 'MAE': 0.876492845045508, 'MRR_5': 0.4543814060921038, 'MRR_10': 0.4543814060921038, 'NDCG_5': 0.9498592951342086, 'NDCG_10': 0.9498592951342086, 'History': [1.239165300567439, 1.1866135736315266, 1.1571455917591715, 1.1368168637024478, 1.1212916733873162, 1.108696402318524, 1.098036316925748, 1.088882315329318, 1.080825173404257, 1.0735991767932445]}\n",
            "running experiment i=5, {'Iterations': 10, 'Latent_factors': 5, 'Learning_Rate': 0.001, 'Regularization': 1, 'Convergence': 0.001, 'Batch_size': 5, 'Only_Bias': False, 'Experiment': 5}\n",
            "non_zero_indices 211231\n",
            "5 2022-02-10 17:47:56.046779 {'RMSE': 1.0711984790765565, 'MAE': 0.8437931718470036, 'MRR_5': 0.4477118521726581, 'MRR_10': 0.4477118521726581, 'NDCG_5': 0.9451374336981944, 'NDCG_10': 0.9451374336981944, 'History': [1.2311974987515304, 1.1861892566351069, 1.1584737189386547, 1.1383973170404573, 1.1226987021244395, 1.1098012674948894, 1.0989676851507233, 1.089603655536285, 1.0813086075515654, 1.0739584662246509]}\n",
            "running experiment i=6, {'Iterations': 10, 'Latent_factors': 5, 'Learning_Rate': 0.01, 'Regularization': 0.01, 'Convergence': 1e-05, 'Batch_size': 5, 'Only_Bias': False, 'Experiment': 6}\n",
            "non_zero_indices 211231\n",
            "6 2022-02-10 17:54:12.493316 {'RMSE': 0.9092295619135694, 'MAE': 0.6904907292353639, 'MRR_5': 0.4597011693373759, 'MRR_10': 0.4597011693373759, 'NDCG_5': 0.9550426196406959, 'NDCG_10': 0.9550426196406959, 'History': [1.2398794700638704, 1.0483663165462607, 0.9956054353829803, 0.9657740625555142, 0.9453288320485355, 0.929950319221932, 0.9176785168239763, 0.9075275419033242, 0.8988405973526167, 0.8913400412085553]}\n",
            "running experiment i=7, {'Iterations': 10, 'Latent_factors': 5, 'Learning_Rate': 0.01, 'Regularization': 0.01, 'Convergence': 0.001, 'Batch_size': 5, 'Only_Bias': False, 'Experiment': 7}\n",
            "non_zero_indices 211231\n",
            "7 2022-02-10 18:00:35.539376 {'RMSE': 0.9111436986059273, 'MAE': 0.6991321541668533, 'MRR_5': 0.4584163418507292, 'MRR_10': 0.4584163418507292, 'NDCG_5': 0.9561727569991801, 'NDCG_10': 0.9561727569991801, 'History': [1.262440267210362, 1.051261488173613, 0.9985592956982331, 0.968541329106573, 0.9478111323003054, 0.9322270566912847, 0.9197685285015871, 0.9094576296798111, 0.900673408113227, 0.8930353410964142]}\n",
            "running experiment i=8, {'Iterations': 10, 'Latent_factors': 5, 'Learning_Rate': 0.01, 'Regularization': 0.1, 'Convergence': 1e-05, 'Batch_size': 5, 'Only_Bias': False, 'Experiment': 8}\n",
            "non_zero_indices 211231\n",
            "8 2022-02-10 18:07:00.260314 {'RMSE': 0.9093838688948916, 'MAE': 0.6908282413258634, 'MRR_5': 0.46034358308069884, 'MRR_10': 0.46034358308069884, 'NDCG_5': 0.9554408665504919, 'NDCG_10': 0.9554408665504919, 'History': [1.2465290198817185, 1.0523963567149421, 1.0001872348621428, 0.970143489945312, 0.9494616762247474, 0.933815759758241, 0.9214023376897318, 0.9111132909602042, 0.9024464603003846, 0.8949085483594006]}\n",
            "running experiment i=9, {'Iterations': 10, 'Latent_factors': 5, 'Learning_Rate': 0.01, 'Regularization': 0.1, 'Convergence': 0.001, 'Batch_size': 5, 'Only_Bias': False, 'Experiment': 9}\n",
            "non_zero_indices 211231\n",
            "9 2022-02-10 18:13:18.475355 {'RMSE': 0.9074965212005964, 'MAE': 0.68576125577871, 'MRR_5': 0.46063230835859714, 'MRR_10': 0.46063230835859714, 'NDCG_5': 0.9553414012818079, 'NDCG_10': 0.9553414012818079, 'History': [1.2380509086812521, 1.0515437240583514, 0.9993454050074039, 0.9693209274982395, 0.948535968230218, 0.933077729815214, 0.9207249945001971, 0.9105535098929672, 0.9020078991421416, 0.8943734839914477]}\n",
            "running experiment i=10, {'Iterations': 10, 'Latent_factors': 5, 'Learning_Rate': 0.01, 'Regularization': 1, 'Convergence': 1e-05, 'Batch_size': 5, 'Only_Bias': False, 'Experiment': 10}\n",
            "non_zero_indices 211231\n",
            "10 2022-02-10 18:19:42.274254 {'RMSE': 0.9258803454723861, 'MAE': 0.7365141280596981, 'MRR_5': 0.4613108127616574, 'MRR_10': 0.4613108127616574, 'NDCG_5': 0.9579541980772962, 'NDCG_10': 0.9579541980772962, 'History': [1.2455165766350955, 1.0661177286884715, 1.021646424890547, 0.9973957049601648, 0.9797345656884849, 0.9659425236159139, 0.9562782746984277, 0.947250947797709, 0.9403446480207038, 0.9346137168614421]}\n",
            "running experiment i=11, {'Iterations': 10, 'Latent_factors': 5, 'Learning_Rate': 0.01, 'Regularization': 1, 'Convergence': 0.001, 'Batch_size': 5, 'Only_Bias': False, 'Experiment': 11}\n",
            "non_zero_indices 211231\n",
            "11 2022-02-10 18:26:05.514884 {'RMSE': 0.9261593721852793, 'MAE': 0.7297983142306131, 'MRR_5': 0.45996102208748396, 'MRR_10': 0.45996102208748396, 'NDCG_5': 0.9571267017390305, 'NDCG_10': 0.9571267017390305, 'History': [1.2439337193089388, 1.0708151442859537, 1.0251340789171897, 0.9997755851578728, 0.9815449515019974, 0.9688233769416997, 0.9581559772934212, 0.949404104841066, 0.9425246739587574, 0.9361875470637228]}\n",
            "running experiment i=12, {'Iterations': 10, 'Latent_factors': 5, 'Learning_Rate': 0.1, 'Regularization': 0.01, 'Convergence': 1e-05, 'Batch_size': 5, 'Only_Bias': False, 'Experiment': 12}\n",
            "non_zero_indices 211231\n",
            "12 2022-02-10 18:32:32.644426 {'RMSE': 0.8740163518750319, 'MAE': 0.6332130472127628, 'MRR_5': 0.46052403637938527, 'MRR_10': 0.46052403637938527, 'NDCG_5': 0.9559820920664042, 'NDCG_10': 0.9559820920664042, 'History': [1.2471167568420214, 0.8897133544851666, 0.8480688122012101, 0.8276778744192652, 0.8114090863997899, 0.7973792595812822, 0.7827925023656144, 0.7693391971711558, 0.7546458832648045, 0.7401069107711148]}\n",
            "running experiment i=13, {'Iterations': 10, 'Latent_factors': 5, 'Learning_Rate': 0.1, 'Regularization': 0.01, 'Convergence': 0.001, 'Batch_size': 5, 'Only_Bias': False, 'Experiment': 13}\n",
            "non_zero_indices 211231\n",
            "13 2022-02-10 18:39:01.081403 {'RMSE': 0.8832982930135882, 'MAE': 0.6396551847776153, 'MRR_5': 0.45957846109426903, 'MRR_10': 0.45957846109426903, 'NDCG_5': 0.9542658380189677, 'NDCG_10': 0.9542658380189677, 'History': [1.2453171544664563, 0.8893795970516379, 0.8487044476354515, 0.826384526405734, 0.8104883659114215, 0.7944995902403086, 0.7798163755825248, 0.7641415607400482, 0.7482561776189529, 0.73376495746633]}\n",
            "running experiment i=14, {'Iterations': 10, 'Latent_factors': 5, 'Learning_Rate': 0.1, 'Regularization': 0.1, 'Convergence': 1e-05, 'Batch_size': 5, 'Only_Bias': False, 'Experiment': 14}\n",
            "non_zero_indices 211231\n",
            "14 2022-02-10 18:45:28.888601 {'RMSE': 0.8582552019376708, 'MAE': 0.6242520170227241, 'MRR_5': 0.46222751551898406, 'MRR_10': 0.46222751551898406, 'NDCG_5': 0.9559074944566737, 'NDCG_10': 0.9559074944566737, 'History': [1.2529657903612077, 0.8911498855793759, 0.8528312422024099, 0.8335017043293765, 0.8224069808917618, 0.8132961325543268, 0.8067602454884865, 0.8015386599429887, 0.7980615701429309, 0.7927702256678757]}\n",
            "running experiment i=15, {'Iterations': 10, 'Latent_factors': 5, 'Learning_Rate': 0.1, 'Regularization': 0.1, 'Convergence': 0.001, 'Batch_size': 5, 'Only_Bias': False, 'Experiment': 15}\n",
            "non_zero_indices 211231\n",
            "15 2022-02-10 18:51:57.204477 {'RMSE': 0.8446255960411085, 'MAE': 0.6205676169032143, 'MRR_5': 0.46184495452576896, 'MRR_10': 0.46184495452576896, 'NDCG_5': 0.9592150852223965, 'NDCG_10': 0.9592150852223965, 'History': [1.2355823182610388, 0.8895059475316633, 0.8509036301166442, 0.8331745970492014, 0.8208425638390702, 0.8131132883333436, 0.8071646404441764, 0.8008171491136774, 0.7959649806112064, 0.7922608961503307]}\n",
            "running experiment i=16, {'Iterations': 10, 'Latent_factors': 5, 'Learning_Rate': 0.1, 'Regularization': 1, 'Convergence': 1e-05, 'Batch_size': 5, 'Only_Bias': False, 'Experiment': 16}\n",
            "non_zero_indices 211231\n",
            "16 2022-02-10 18:58:29.721192 {'RMSE': 0.8850667153546802, 'MAE': 0.6896923200393311, 'MRR_5': 0.46082719792117827, 'MRR_10': 0.46082719792117827, 'NDCG_5': 0.9577100930625626, 'NDCG_10': 0.9577100930625626, 'History': [1.2414032081097415, 0.9334331745332557, 0.9009147583599625, 0.8873555778153933, 0.880805682486397, 0.8751290970880837, 0.8732157905634979, 0.8711699716783922, 0.8687777449966446, 0.866660156559525]}\n",
            "running experiment i=17, {'Iterations': 10, 'Latent_factors': 5, 'Learning_Rate': 0.1, 'Regularization': 1, 'Convergence': 0.001, 'Batch_size': 5, 'Only_Bias': False, 'Experiment': 17}\n",
            "non_zero_indices 211231\n",
            "17 2022-02-10 19:04:43.127714 {'RMSE': 0.8896926550533006, 'MAE': 0.692393681816322, 'MRR_5': 0.4635412155334202, 'MRR_10': 0.4635412155334202, 'NDCG_5': 0.9573260900675974, 'NDCG_10': 0.9573260900675974, 'History': [1.244716119123333, 0.9311018508978494, 0.9028234405058964, 0.8884752595304913, 0.8807624928812543, 0.8773832959027931, 0.8746332908000687, 0.8710654077240144, 0.8673290612435562, 0.8666661524757899]}\n",
            "running experiment i=18, {'Iterations': 10, 'Latent_factors': 10, 'Learning_Rate': 0.001, 'Regularization': 0.01, 'Convergence': 1e-05, 'Batch_size': 5, 'Only_Bias': False, 'Experiment': 18}\n",
            "non_zero_indices 211231\n",
            "18 2022-02-10 19:13:29.353924 {'RMSE': 1.0421590924456332, 'MAE': 0.8262341337910669, 'MRR_5': 0.4559766132524906, 'MRR_10': 0.4559766132524906, 'NDCG_5': 0.9530511461120921, 'NDCG_10': 0.9530511461120921, 'History': [1.2029460995171652, 1.1563477308561767, 1.1253699461487308, 1.1026123519534936, 1.084877919448757, 1.0704711026085783, 1.058397828642536, 1.0480211726439055, 1.0389463285821607, 1.030892979869628]}\n",
            "running experiment i=19, {'Iterations': 10, 'Latent_factors': 10, 'Learning_Rate': 0.001, 'Regularization': 0.01, 'Convergence': 0.001, 'Batch_size': 5, 'Only_Bias': False, 'Experiment': 19}\n",
            "non_zero_indices 211231\n",
            "19 2022-02-10 19:21:56.854181 {'RMSE': 1.0489026691746357, 'MAE': 0.8258046564848149, 'MRR_5': 0.4532337231124587, 'MRR_10': 0.4532337231124587, 'NDCG_5': 0.9473501816948314, 'NDCG_10': 0.9473501816948314, 'History': [1.2091259508471401, 1.1601400612246897, 1.1288550812977542, 1.105916424734452, 1.0879949910800386, 1.0733748103741914, 1.0610820388119744, 1.050512433112252, 1.0412465587749278, 1.0330178431921184]}\n",
            "running experiment i=20, {'Iterations': 10, 'Latent_factors': 10, 'Learning_Rate': 0.001, 'Regularization': 0.1, 'Convergence': 1e-05, 'Batch_size': 5, 'Only_Bias': False, 'Experiment': 20}\n",
            "non_zero_indices 211231\n",
            "20 2022-02-10 19:30:22.984879 {'RMSE': 1.0441300778358868, 'MAE': 0.8281391888435626, 'MRR_5': 0.45486502093258285, 'MRR_10': 0.45486502093258285, 'NDCG_5': 0.9500543740643151, 'NDCG_10': 0.9500543740643151, 'History': [1.2035069871603639, 1.1572450475287317, 1.1267063364835181, 1.104331562177556, 1.086878688352221, 1.0726589994625717, 1.0606883247610395, 1.050376678710528, 1.04132881185794, 1.0332861700109632]}\n",
            "running experiment i=21, {'Iterations': 10, 'Latent_factors': 10, 'Learning_Rate': 0.001, 'Regularization': 0.1, 'Convergence': 0.001, 'Batch_size': 5, 'Only_Bias': False, 'Experiment': 21}\n",
            "non_zero_indices 211231\n",
            "21 2022-02-10 19:38:47.568229 {'RMSE': 1.0532149428068487, 'MAE': 0.831692679909417, 'MRR_5': 0.45548578028006376, 'MRR_10': 0.45548578028006376, 'NDCG_5': 0.9490892972647212, 'NDCG_10': 0.9490892972647212, 'History': [1.197677448537636, 1.1531735576682969, 1.1239486564826726, 1.1023570144429191, 1.0853601489539257, 1.0714089850720419, 1.0596162369173523, 1.0494290818804601, 1.040471664705519, 1.0324787114059528]}\n",
            "running experiment i=22, {'Iterations': 10, 'Latent_factors': 10, 'Learning_Rate': 0.001, 'Regularization': 1, 'Convergence': 1e-05, 'Batch_size': 5, 'Only_Bias': False, 'Experiment': 22}\n",
            "non_zero_indices 211231\n",
            "22 2022-02-10 19:47:04.195243 {'RMSE': 1.049634875110645, 'MAE': 0.8359152229751063, 'MRR_5': 0.4590154468023678, 'MRR_10': 0.4590154468023678, 'NDCG_5': 0.9533182881975155, 'NDCG_10': 0.9533182881975155, 'History': [1.2044433385463296, 1.1609624588427794, 1.134145255029442, 1.1150345589252013, 1.1002360208726094, 1.0882553312951455, 1.0781726285182707, 1.069472740165185, 1.061867975285753, 1.0550899434340983]}\n",
            "running experiment i=23, {'Iterations': 10, 'Latent_factors': 10, 'Learning_Rate': 0.001, 'Regularization': 1, 'Convergence': 0.001, 'Batch_size': 5, 'Only_Bias': False, 'Experiment': 23}\n",
            "non_zero_indices 211231\n",
            "23 2022-02-10 19:55:24.845184 {'RMSE': 1.0645661694555768, 'MAE': 0.8522748060648444, 'MRR_5': 0.4554785621481164, 'MRR_10': 0.4554785621481164, 'NDCG_5': 0.9493783520882295, 'NDCG_10': 0.9493783520882295, 'History': [1.2111472976100848, 1.1632424619587671, 1.134799741093729, 1.1149786192389228, 1.0998681588322203, 1.0877342895168374, 1.0776365997554203, 1.0689308907965052, 1.061294015783262, 1.0545301740311477]}\n",
            "running experiment i=24, {'Iterations': 10, 'Latent_factors': 10, 'Learning_Rate': 0.01, 'Regularization': 0.01, 'Convergence': 1e-05, 'Batch_size': 5, 'Only_Bias': False, 'Experiment': 24}\n",
            "non_zero_indices 211231\n",
            "24 2022-02-10 20:03:54.008289 {'RMSE': 0.9028349355273546, 'MAE': 0.6823201233153634, 'MRR_5': 0.46004042153890595, 'MRR_10': 0.46004042153890595, 'NDCG_5': 0.9550982227916068, 'NDCG_10': 0.9550982227916068, 'History': [1.2105831719863003, 1.0246593250218619, 0.9765595300193767, 0.9494018379632045, 0.9308238417543702, 0.9168824737584313, 0.905846544398903, 0.8967248202311099, 0.8889903648778009, 0.8821729958698771]}\n",
            "running experiment i=25, {'Iterations': 10, 'Latent_factors': 10, 'Learning_Rate': 0.01, 'Regularization': 0.01, 'Convergence': 0.001, 'Batch_size': 5, 'Only_Bias': False, 'Experiment': 25}\n",
            "non_zero_indices 211231\n",
            "25 2022-02-10 20:12:20.321062 {'RMSE': 0.9150580064803711, 'MAE': 0.6898918686479079, 'MRR_5': 0.4596867330734809, 'MRR_10': 0.4596867330734809, 'NDCG_5': 0.9535975699491345, 'NDCG_10': 0.9535975699491345, 'History': [1.1994556299529973, 1.023552718376286, 0.9760381166942518, 0.9488718723332102, 0.9304173349931428, 0.9165600931955116, 0.905532806287503, 0.8964228778016816, 0.8886498102369768, 0.8819220420318934]}\n",
            "running experiment i=26, {'Iterations': 10, 'Latent_factors': 10, 'Learning_Rate': 0.01, 'Regularization': 0.1, 'Convergence': 1e-05, 'Batch_size': 5, 'Only_Bias': False, 'Experiment': 26}\n",
            "non_zero_indices 211231\n",
            "26 2022-02-10 20:20:47.462495 {'RMSE': 0.9074242162144784, 'MAE': 0.6917030603930412, 'MRR_5': 0.4587339396564171, 'MRR_10': 0.4587339396564171, 'NDCG_5': 0.95608596242132, 'NDCG_10': 0.95608596242132, 'History': [1.1998287726210353, 1.0257987999976168, 0.9780817350370129, 0.9511155760561324, 0.9327357270713653, 0.9189299464100331, 0.9080799893195615, 0.8990985514625616, 0.8915569575696645, 0.8850232792354584]}\n",
            "running experiment i=27, {'Iterations': 10, 'Latent_factors': 10, 'Learning_Rate': 0.01, 'Regularization': 0.1, 'Convergence': 0.001, 'Batch_size': 5, 'Only_Bias': False, 'Experiment': 27}\n",
            "non_zero_indices 211231\n",
            "27 2022-02-10 20:28:58.344309 {'RMSE': 0.8966468045595712, 'MAE': 0.6777839966986886, 'MRR_5': 0.45874837592031215, 'MRR_10': 0.45874837592031215, 'NDCG_5': 0.954782670137451, 'NDCG_10': 0.954782670137451, 'History': [1.2053312315779503, 1.0268694474717261, 0.9782108951645607, 0.9508435348717905, 0.932254006001669, 0.9185191371822427, 0.9074366455260786, 0.8983439109384139, 0.8908270811313861, 0.8843695554587914]}\n",
            "running experiment i=28, {'Iterations': 10, 'Latent_factors': 10, 'Learning_Rate': 0.01, 'Regularization': 1, 'Convergence': 1e-05, 'Batch_size': 5, 'Only_Bias': False, 'Experiment': 28}\n",
            "non_zero_indices 211231\n",
            "28 2022-02-10 20:37:38.542646 {'RMSE': 0.9316543701900917, 'MAE': 0.7351705330420633, 'MRR_5': 0.4615057023242387, 'MRR_10': 0.4615057023242387, 'NDCG_5': 0.956528766739578, 'NDCG_10': 0.956528766739578, 'History': [1.2063217990130215, 1.0477956899523067, 1.0081734457702378, 0.9854967050115985, 0.9698263594518154, 0.9579523540786439, 0.948727324195264, 0.9414062913609921, 0.9349953424775851, 0.9295085788899948]}\n",
            "running experiment i=29, {'Iterations': 10, 'Latent_factors': 10, 'Learning_Rate': 0.01, 'Regularization': 1, 'Convergence': 0.001, 'Batch_size': 5, 'Only_Bias': False, 'Experiment': 29}\n",
            "non_zero_indices 211231\n"
          ]
        }
      ],
      "source": [
        "import datetime\n",
        "\n",
        "n_iterations   = [10] # just one value due to computational power\n",
        "convergence    = [1e-5,1e-3]  \n",
        "latent_factors = [5, 10, 20]\n",
        "regularization = [0.01, 0.1, 1]\n",
        "learning_rate  = [0.001, 0.01, 0.1]\n",
        "batch_sizes    = [5]\n",
        "\n",
        "\n",
        "def do_hyperparams_search(mode, only_bias, results_filename):\n",
        "  if mode == \"RESTART\":\n",
        "    results = pd.DataFrame(columns=['Latent_factors','Iterations','Learning_Rate','Regularization','Convergence',\n",
        "                                    'Batch_size', 'Only_Bias', 'Experiment', 'RMSE','MRR_5','MRR_10','NDCG_5','NDCG_10','History','Time'])\n",
        "  else:\n",
        "    results = pd.read_csv(results_filename)\n",
        "    results.loc[:, 'History'] = results['History'].apply(lambda x: eval(x))\n",
        "  if mode == \"USE_EXISTING\":\n",
        "    return results\n",
        "  i = 0\n",
        "  for n_iter in n_iterations:\n",
        "      for lf in latent_factors:\n",
        "          for lr in learning_rate:\n",
        "              for reg in regularization:\n",
        "                  for conv in convergence:\n",
        "                    for batch_size in batch_sizes:                       \n",
        "                      dic = {'Iterations':n_iter,'Latent_factors':lf,'Learning_Rate':lr,'Regularization':reg,'Convergence':conv,\n",
        "                            'Batch_size': batch_size, 'Only_Bias': only_bias, 'Experiment': i}\n",
        "                      if i in set(results.Experiment):\n",
        "                        print(f\"skipping experiment i={i}, {dic}\")\n",
        "                      else:\n",
        "                        print(f\"running experiment i={i}, {dic}\")                      \n",
        "                        # record training time\n",
        "                        start = time.time()\n",
        "\n",
        "                        # initialize model\n",
        "                        mf = MF(train,df_context,n_factors=dic['Latent_factors'], only_bias=dic['Only_Bias'],context_aware=True, non_zero_indices=df_ratings_train, test_non_zero_indices=df_ratings_test)\n",
        "                        # train MF\n",
        "                        mf.fit(n_iterations=dic['Iterations'],verbose=False,regularization=dic['Regularization'],\n",
        "                              convergence=dic['Convergence'],learning_rate=dic['Learning_Rate'], batch_size=dic['Batch_size'])\n",
        "                        # eval model\n",
        "                        # please use the model evaluation funcntions \n",
        "                        fres = {'RMSE': mf.get_rmse(test), 'MAE': mf.get_mae(test), 'MRR_5': mf.get_mrr(test,k=5), \n",
        "                                  'MRR_10': mf.get_mrr(test,k=10), 'NDCG_5': mf.get_ndcg(test,k=5), \n",
        "                                  'NDCG_10': mf.get_ndcg(test,k=10), 'History': mf.history}\n",
        "\n",
        "                        # record traning time\n",
        "                        dic['Time'] = time.time() - start\n",
        "                        dic.update(fres)\n",
        "                        \n",
        "                        # add experiment\n",
        "                        results = results.append(dic,ignore_index=True)\n",
        "                        results.to_csv(results_filename, index_label='index')\n",
        "                        print(i, datetime.datetime.now(), fres)\n",
        "                      i+=1 \n",
        "  return results   \n",
        "results = do_hyperparams_search(HYPERPARAMS_SEARCH, False, f'/content/drive/MyDrive/recsys/recsys_final_project1.ALPHA_{ALPHA}.csv')\n"
      ]
    },
    {
      "cell_type": "markdown",
      "metadata": {
        "id": "EUTAxx79njZu"
      },
      "source": [
        "**Training history:**"
      ]
    },
    {
      "cell_type": "code",
      "execution_count": null,
      "metadata": {
        "id": "OYp5J0llnjZu"
      },
      "outputs": [],
      "source": [
        "lines = results.History\n",
        "\n",
        "plt.figure(figsize=(16,6))\n",
        "\n",
        "for l in lines:\n",
        "    plt.plot(l)\n",
        "\n",
        "plt.xticks(np.arange(n_iterations[0]+1))\n",
        "plt.legend(lines.index,loc='upper right',bbox_to_anchor=(1.1, 1.1))\n",
        "plt.title('Training GD - RMSE History')\n",
        "plt.xlabel('Iterations')\n",
        "plt.ylabel('RMSE')\n",
        "plt.show();"
      ]
    },
    {
      "cell_type": "markdown",
      "metadata": {
        "id": "2UxpgUQcnjZw"
      },
      "source": [
        "**Focus on the top 3:**"
      ]
    },
    {
      "cell_type": "code",
      "execution_count": null,
      "metadata": {
        "id": "A4Tn6sGtnjZx"
      },
      "outputs": [],
      "source": [
        "lines = lines[results.RMSE.nsmallest(3).index]\n",
        "plt.figure(figsize=(12,5))\n",
        "\n",
        "for l in lines:\n",
        "    plt.plot(l)\n",
        "\n",
        "plt.xticks(np.arange(n_iterations[0]+1))\n",
        "\n",
        "leg = (results.loc[results.RMSE.nsmallest(3).index,['Latent_factors','Learning_Rate','Regularization', 'Convergence']]).T.to_dict().values()\n",
        "plt.xticks(np.arange(n_iterations[0]+1))\n",
        "plt.title('Training GD TOP3 - RMSE History')\n",
        "plt.xlabel('Iterations')\n",
        "plt.ylabel('RMSE')\n",
        "plt.legend(leg)\n",
        "plt.show();"
      ]
    },
    {
      "cell_type": "markdown",
      "metadata": {
        "id": "FoUM6c1cnjZx"
      },
      "source": [
        "\n",
        "### Q: is there a clear winner?  "
      ]
    },
    {
      "cell_type": "code",
      "execution_count": null,
      "metadata": {
        "id": "8iZvQcGdenGp"
      },
      "outputs": [],
      "source": [
        "results.sort_values('RMSE').head(10)"
      ]
    },
    {
      "cell_type": "code",
      "execution_count": null,
      "metadata": {
        "id": "sl2S8iuPnjZx"
      },
      "outputs": [],
      "source": [
        "# Regularization (λ) of 0.1 does the job, all models with this correct lambda can't go very wrong"
      ]
    },
    {
      "cell_type": "markdown",
      "metadata": {
        "id": "aGK-SNEdnjZx"
      },
      "source": [
        "Please add your winner to `final_results` dataframe."
      ]
    },
    {
      "cell_type": "code",
      "execution_count": null,
      "metadata": {
        "id": "TvrtOWfPve4-"
      },
      "outputs": [],
      "source": [
        "final_results.loc[2] = results.sort_values('RMSE').iloc[0]\n",
        "final_results.loc[2, 'Method'] = 'MF_Winner'"
      ]
    },
    {
      "cell_type": "code",
      "execution_count": null,
      "metadata": {
        "id": "G7gJH91anjZx"
      },
      "outputs": [],
      "source": [
        "final_results"
      ]
    },
    {
      "cell_type": "code",
      "execution_count": null,
      "metadata": {
        "id": "yIY1cRfK9gfN"
      },
      "outputs": [],
      "source": [
        ""
      ]
    }
  ],
  "metadata": {
    "colab": {
      "collapsed_sections": [],
      "name": "recsys_final_project1 ALPHA 0.9",
      "provenance": []
    },
    "kernelspec": {
      "display_name": "Python 3",
      "language": "python",
      "name": "python3"
    },
    "language_info": {
      "codemirror_mode": {
        "name": "ipython",
        "version": 3
      },
      "file_extension": ".py",
      "mimetype": "text/x-python",
      "name": "python",
      "nbconvert_exporter": "python",
      "pygments_lexer": "ipython3",
      "version": "3.8.5"
    }
  },
  "nbformat": 4,
  "nbformat_minor": 0
}