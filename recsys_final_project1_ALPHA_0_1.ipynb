{
  "cells": [
    {
      "cell_type": "markdown",
      "metadata": {
        "id": "oDtnr7winjZN"
      },
      "source": [
        "# Recommendations Systems\n",
        "## Final Project: Matrix Factorization Techniques for Context Aware Recommendation"
      ]
    },
    {
      "cell_type": "markdown",
      "metadata": {
        "id": "sXxp1hnynjZQ"
      },
      "source": [
        "**By:**  \n",
        "\n",
        "Yarden Shoham, 206561367\n",
        "<br>\n",
        "Ido Hadanny, 034537969\n",
        "\n",
        "<br><br>"
      ]
    },
    {
      "cell_type": "code",
      "execution_count": null,
      "metadata": {
        "colab": {
          "base_uri": "https://localhost:8080/"
        },
        "id": "im9USFROXRtS",
        "outputId": "8858b6ee-129f-4ffb-c999-dd6a8da0265e"
      },
      "outputs": [
        {
          "name": "stdout",
          "output_type": "stream",
          "text": [
            "Mounted at /content/drive\n"
          ]
        }
      ],
      "source": [
        "from google.colab import drive\n",
        "drive.mount('/content/drive')"
      ]
    },
    {
      "cell_type": "code",
      "execution_count": null,
      "metadata": {
        "id": "kCCZPb63WII5"
      },
      "outputs": [],
      "source": [
        "ALPHA = 0.1"
      ]
    },
    {
      "cell_type": "code",
      "execution_count": null,
      "metadata": {
        "id": "cJFqfeTNrU0a"
      },
      "outputs": [],
      "source": [
        "#RESTART/CONTINUE/USE_EXISTING\n",
        "HYPERPARAMS_SEARCH=\"RESTART\"\n"
      ]
    },
    {
      "cell_type": "markdown",
      "metadata": {
        "id": "UJ_36zAdnjZS"
      },
      "source": [
        "**Prerequisites**"
      ]
    },
    {
      "cell_type": "code",
      "execution_count": null,
      "metadata": {
        "id": "rLZuBZ4GnjZS"
      },
      "outputs": [],
      "source": [
        "!pip install --quiet zipfile36"
      ]
    },
    {
      "cell_type": "markdown",
      "metadata": {
        "id": "8TtoxL_nnjZT"
      },
      "source": [
        "**Imports**"
      ]
    },
    {
      "cell_type": "code",
      "execution_count": null,
      "metadata": {
        "id": "w56W-vsenjZU"
      },
      "outputs": [],
      "source": [
        "# general\n",
        "import time\n",
        "import random\n",
        "import zipfile\n",
        "import requests\n",
        "import warnings\n",
        "\n",
        "# ml\n",
        "import numpy as np\n",
        "import scipy as sp\n",
        "import pandas as pd\n",
        "\n",
        "# visual\n",
        "import seaborn as sns\n",
        "import matplotlib.pyplot as plt\n",
        "import matplotlib.ticker as tck\n",
        "\n",
        "# metrics - do not use these metrics, but you can use them to check your work\n",
        "from sklearn.metrics import mean_squared_error,ndcg_score \n",
        "\n",
        "# notebook\n",
        "from IPython.display import FileLink, display"
      ]
    },
    {
      "cell_type": "markdown",
      "metadata": {
        "id": "WY5Xbp2onjZV"
      },
      "source": [
        "**Hide Warnings**"
      ]
    },
    {
      "cell_type": "code",
      "execution_count": null,
      "metadata": {
        "id": "nm9jRimZnjZX"
      },
      "outputs": [],
      "source": [
        "warnings.filterwarnings('ignore')"
      ]
    },
    {
      "cell_type": "markdown",
      "metadata": {
        "id": "grGEnzUXnjZY"
      },
      "source": [
        "**Disable Autoscrolling**"
      ]
    },
    {
      "cell_type": "code",
      "execution_count": null,
      "metadata": {
        "colab": {
          "base_uri": "https://localhost:8080/",
          "height": 17
        },
        "id": "9YlDBCpfnjZY",
        "outputId": "5eb82762-b73f-45fa-fd97-63981efa20e3"
      },
      "outputs": [
        {
          "data": {
            "application/javascript": [
              "IPython.OutputArea.prototype._should_scroll = function(lines) {\n",
              "    return false;\n",
              "}"
            ],
            "text/plain": [
              "<IPython.core.display.Javascript object>"
            ]
          },
          "metadata": {},
          "output_type": "display_data"
        }
      ],
      "source": [
        "%%javascript\n",
        "IPython.OutputArea.prototype._should_scroll = function(lines) {\n",
        "    return false;\n",
        "}"
      ]
    },
    {
      "cell_type": "markdown",
      "metadata": {
        "id": "9CQVOfP2njZa"
      },
      "source": [
        "**Set Random Seed**"
      ]
    },
    {
      "cell_type": "code",
      "execution_count": null,
      "metadata": {
        "id": "ujdMkY1DnjZa"
      },
      "outputs": [],
      "source": [
        "random.seed(123)"
      ]
    },
    {
      "cell_type": "code",
      "execution_count": null,
      "metadata": {
        "id": "clzvNTtJ55xm"
      },
      "outputs": [],
      "source": [
        "df_ratings_train = pd.read_csv('drive/MyDrive/Colab Notebooks/yahoo_movies/ydata-ymovies-user-movie-ratings-train-v1_0.txt', delimiter='\\t',\n",
        "            names = ['user_id', 'movie_id', 'rating', 'converted_rating'])\n",
        "\n"
      ]
    },
    {
      "cell_type": "code",
      "execution_count": null,
      "metadata": {
        "id": "KOesZ9Hk8maZ"
      },
      "outputs": [],
      "source": [
        "df_ratings_test = pd.read_csv('drive/MyDrive/Colab Notebooks/yahoo_movies/ydata-ymovies-user-movie-ratings-test-v1_0.txt', delimiter='\\t',\n",
        "            names = ['user_id', 'movie_id', 'rating', 'converted_rating'])\n",
        "\n"
      ]
    },
    {
      "cell_type": "code",
      "execution_count": null,
      "metadata": {
        "id": "VQS-CubqEX0Y"
      },
      "outputs": [],
      "source": [
        "df_ratings_test = pd.merge(df_ratings_test, df_ratings_train[['user_id', 'movie_id']], on = ['user_id', 'movie_id'], how='left', indicator=True)\n",
        "df_ratings_test = df_ratings_test[df_ratings_test._merge == 'left_only']"
      ]
    },
    {
      "cell_type": "code",
      "execution_count": null,
      "metadata": {
        "colab": {
          "base_uri": "https://localhost:8080/"
        },
        "id": "D0vlGV2SjyxC",
        "outputId": "40f4d9c2-6d41-49af-ef6d-63da0d40bb65"
      },
      "outputs": [
        {
          "data": {
            "text/plain": [
              "(211231, 10133)"
            ]
          },
          "execution_count": 12,
          "metadata": {},
          "output_type": "execute_result"
        }
      ],
      "source": [
        "len(df_ratings_train), len(df_ratings_test)"
      ]
    },
    {
      "cell_type": "code",
      "execution_count": null,
      "metadata": {
        "colab": {
          "base_uri": "https://localhost:8080/"
        },
        "id": "mtWvJyji-lar",
        "outputId": "d31ad5a2-d52a-4d28-a8db-8f1ad00f2de6"
      },
      "outputs": [
        {
          "data": {
            "text/plain": [
              "(2309, 2379)"
            ]
          },
          "execution_count": 13,
          "metadata": {},
          "output_type": "execute_result"
        }
      ],
      "source": [
        "len(set(df_ratings_test.user_id.unique())), len(set(df_ratings_test.movie_id.unique()))"
      ]
    },
    {
      "cell_type": "code",
      "execution_count": null,
      "metadata": {
        "colab": {
          "base_uri": "https://localhost:8080/"
        },
        "id": "bkEA3yL9-YlR",
        "outputId": "22b51099-8174-44a6-d377-5b9b30b7b827"
      },
      "outputs": [
        {
          "data": {
            "text/plain": [
              "(2309, 2379)"
            ]
          },
          "execution_count": 14,
          "metadata": {},
          "output_type": "execute_result"
        }
      ],
      "source": [
        "len(set(df_ratings_test.user_id.unique()) & set(df_ratings_train.user_id.unique())), len(set(df_ratings_test.movie_id.unique()) & set(df_ratings_train.movie_id.unique()))"
      ]
    },
    {
      "cell_type": "code",
      "execution_count": null,
      "metadata": {
        "colab": {
          "base_uri": "https://localhost:8080/"
        },
        "id": "8bz32H2z85Sy",
        "outputId": "74ac2e94-4428-4e13-8d01-c0e3a8456238"
      },
      "outputs": [
        {
          "data": {
            "text/plain": [
              "(7642, 2309, 11916, 2379)"
            ]
          },
          "execution_count": 15,
          "metadata": {},
          "output_type": "execute_result"
        }
      ],
      "source": [
        "df_ratings_train.user_id.nunique(), df_ratings_test.user_id.nunique(), df_ratings_train.movie_id.nunique(), df_ratings_test.movie_id.nunique()"
      ]
    },
    {
      "cell_type": "code",
      "execution_count": null,
      "metadata": {
        "id": "f5TsdSSRJMrj"
      },
      "outputs": [],
      "source": [
        "df_demo = pd.read_csv('drive/MyDrive/Colab Notebooks/yahoo_movies/ydata-ymovies-user-demographics-v1_0.txt', delimiter='\\t',\n",
        "            names = ['user_id', 'birthyear', 'gender'])\n"
      ]
    },
    {
      "cell_type": "code",
      "execution_count": null,
      "metadata": {
        "colab": {
          "base_uri": "https://localhost:8080/"
        },
        "id": "GgpsiG0R-Mah",
        "outputId": "186fb87d-55ca-441d-bb5c-8c4b455cbe2c"
      },
      "outputs": [
        {
          "data": {
            "text/plain": [
              "7642"
            ]
          },
          "execution_count": 17,
          "metadata": {},
          "output_type": "execute_result"
        }
      ],
      "source": [
        "df_demo.user_id.nunique()"
      ]
    },
    {
      "cell_type": "markdown",
      "metadata": {
        "id": "prK2LgyTRC3s"
      },
      "source": [
        "adding the \"c\" context variable, as described in https://www.researchgate.net/publication/221141005_Context-based_splitting_of_item_ratings_in_collaborative_filtering\n"
      ]
    },
    {
      "cell_type": "code",
      "execution_count": null,
      "metadata": {
        "id": "XdDxrr-EN6nD"
      },
      "outputs": [],
      "source": [
        "df_demo['c'] = np.random.randint(0, 2, df_demo.shape[0])"
      ]
    },
    {
      "cell_type": "code",
      "execution_count": null,
      "metadata": {
        "colab": {
          "base_uri": "https://localhost:8080/",
          "height": 206
        },
        "id": "UzWozwtaQ52E",
        "outputId": "816ac84a-ee8b-40ae-8843-fc2de0410862"
      },
      "outputs": [
        {
          "data": {
            "text/html": [
              "\n",
              "  <div id=\"df-bc10e1c7-9850-4ca1-b918-e8205791473f\">\n",
              "    <div class=\"colab-df-container\">\n",
              "      <div>\n",
              "<style scoped>\n",
              "    .dataframe tbody tr th:only-of-type {\n",
              "        vertical-align: middle;\n",
              "    }\n",
              "\n",
              "    .dataframe tbody tr th {\n",
              "        vertical-align: top;\n",
              "    }\n",
              "\n",
              "    .dataframe thead th {\n",
              "        text-align: right;\n",
              "    }\n",
              "</style>\n",
              "<table border=\"1\" class=\"dataframe\">\n",
              "  <thead>\n",
              "    <tr style=\"text-align: right;\">\n",
              "      <th></th>\n",
              "      <th>user_id</th>\n",
              "      <th>birthyear</th>\n",
              "      <th>gender</th>\n",
              "      <th>c</th>\n",
              "    </tr>\n",
              "  </thead>\n",
              "  <tbody>\n",
              "    <tr>\n",
              "      <th>0</th>\n",
              "      <td>1</td>\n",
              "      <td>1979</td>\n",
              "      <td>f</td>\n",
              "      <td>0</td>\n",
              "    </tr>\n",
              "    <tr>\n",
              "      <th>1</th>\n",
              "      <td>2</td>\n",
              "      <td>1987</td>\n",
              "      <td>m</td>\n",
              "      <td>1</td>\n",
              "    </tr>\n",
              "    <tr>\n",
              "      <th>2</th>\n",
              "      <td>3</td>\n",
              "      <td>1988</td>\n",
              "      <td>f</td>\n",
              "      <td>0</td>\n",
              "    </tr>\n",
              "    <tr>\n",
              "      <th>3</th>\n",
              "      <td>4</td>\n",
              "      <td>1983</td>\n",
              "      <td>m</td>\n",
              "      <td>0</td>\n",
              "    </tr>\n",
              "    <tr>\n",
              "      <th>4</th>\n",
              "      <td>5</td>\n",
              "      <td>1988</td>\n",
              "      <td>m</td>\n",
              "      <td>0</td>\n",
              "    </tr>\n",
              "  </tbody>\n",
              "</table>\n",
              "</div>\n",
              "      <button class=\"colab-df-convert\" onclick=\"convertToInteractive('df-bc10e1c7-9850-4ca1-b918-e8205791473f')\"\n",
              "              title=\"Convert this dataframe to an interactive table.\"\n",
              "              style=\"display:none;\">\n",
              "        \n",
              "  <svg xmlns=\"http://www.w3.org/2000/svg\" height=\"24px\"viewBox=\"0 0 24 24\"\n",
              "       width=\"24px\">\n",
              "    <path d=\"M0 0h24v24H0V0z\" fill=\"none\"/>\n",
              "    <path d=\"M18.56 5.44l.94 2.06.94-2.06 2.06-.94-2.06-.94-.94-2.06-.94 2.06-2.06.94zm-11 1L8.5 8.5l.94-2.06 2.06-.94-2.06-.94L8.5 2.5l-.94 2.06-2.06.94zm10 10l.94 2.06.94-2.06 2.06-.94-2.06-.94-.94-2.06-.94 2.06-2.06.94z\"/><path d=\"M17.41 7.96l-1.37-1.37c-.4-.4-.92-.59-1.43-.59-.52 0-1.04.2-1.43.59L10.3 9.45l-7.72 7.72c-.78.78-.78 2.05 0 2.83L4 21.41c.39.39.9.59 1.41.59.51 0 1.02-.2 1.41-.59l7.78-7.78 2.81-2.81c.8-.78.8-2.07 0-2.86zM5.41 20L4 18.59l7.72-7.72 1.47 1.35L5.41 20z\"/>\n",
              "  </svg>\n",
              "      </button>\n",
              "      \n",
              "  <style>\n",
              "    .colab-df-container {\n",
              "      display:flex;\n",
              "      flex-wrap:wrap;\n",
              "      gap: 12px;\n",
              "    }\n",
              "\n",
              "    .colab-df-convert {\n",
              "      background-color: #E8F0FE;\n",
              "      border: none;\n",
              "      border-radius: 50%;\n",
              "      cursor: pointer;\n",
              "      display: none;\n",
              "      fill: #1967D2;\n",
              "      height: 32px;\n",
              "      padding: 0 0 0 0;\n",
              "      width: 32px;\n",
              "    }\n",
              "\n",
              "    .colab-df-convert:hover {\n",
              "      background-color: #E2EBFA;\n",
              "      box-shadow: 0px 1px 2px rgba(60, 64, 67, 0.3), 0px 1px 3px 1px rgba(60, 64, 67, 0.15);\n",
              "      fill: #174EA6;\n",
              "    }\n",
              "\n",
              "    [theme=dark] .colab-df-convert {\n",
              "      background-color: #3B4455;\n",
              "      fill: #D2E3FC;\n",
              "    }\n",
              "\n",
              "    [theme=dark] .colab-df-convert:hover {\n",
              "      background-color: #434B5C;\n",
              "      box-shadow: 0px 1px 3px 1px rgba(0, 0, 0, 0.15);\n",
              "      filter: drop-shadow(0px 1px 2px rgba(0, 0, 0, 0.3));\n",
              "      fill: #FFFFFF;\n",
              "    }\n",
              "  </style>\n",
              "\n",
              "      <script>\n",
              "        const buttonEl =\n",
              "          document.querySelector('#df-bc10e1c7-9850-4ca1-b918-e8205791473f button.colab-df-convert');\n",
              "        buttonEl.style.display =\n",
              "          google.colab.kernel.accessAllowed ? 'block' : 'none';\n",
              "\n",
              "        async function convertToInteractive(key) {\n",
              "          const element = document.querySelector('#df-bc10e1c7-9850-4ca1-b918-e8205791473f');\n",
              "          const dataTable =\n",
              "            await google.colab.kernel.invokeFunction('convertToInteractive',\n",
              "                                                     [key], {});\n",
              "          if (!dataTable) return;\n",
              "\n",
              "          const docLinkHtml = 'Like what you see? Visit the ' +\n",
              "            '<a target=\"_blank\" href=https://colab.research.google.com/notebooks/data_table.ipynb>data table notebook</a>'\n",
              "            + ' to learn more about interactive tables.';\n",
              "          element.innerHTML = '';\n",
              "          dataTable['output_type'] = 'display_data';\n",
              "          await google.colab.output.renderOutput(dataTable, element);\n",
              "          const docLink = document.createElement('div');\n",
              "          docLink.innerHTML = docLinkHtml;\n",
              "          element.appendChild(docLink);\n",
              "        }\n",
              "      </script>\n",
              "    </div>\n",
              "  </div>\n",
              "  "
            ],
            "text/plain": [
              "   user_id birthyear gender  c\n",
              "0        1      1979      f  0\n",
              "1        2      1987      m  1\n",
              "2        3      1988      f  0\n",
              "3        4      1983      m  0\n",
              "4        5      1988      m  0"
            ]
          },
          "execution_count": 19,
          "metadata": {},
          "output_type": "execute_result"
        }
      ],
      "source": [
        "df_demo.head()"
      ]
    },
    {
      "cell_type": "markdown",
      "metadata": {
        "id": "MaCD9JY7njZo"
      },
      "source": [
        "### Matrix:"
      ]
    },
    {
      "cell_type": "code",
      "execution_count": null,
      "metadata": {
        "id": "3A7GJnQLS0uX"
      },
      "outputs": [],
      "source": [
        "def apply_context(df):\n",
        "  df1 = df.merge(df_demo, on = 'user_id')\n",
        "  df1['context_matters'] = (np.random.rand(df1.shape[0]) < ALPHA).astype(int)\n",
        "  df1['final_rating'] = df1.converted_rating + df1.context_matters * (df1.c * 2 - 1)\n",
        "  df1['final_rating'] = df1.final_rating.apply(lambda x: max(1, min(5, x)))\n",
        "  return df1"
      ]
    },
    {
      "cell_type": "code",
      "execution_count": null,
      "metadata": {
        "id": "M5zYqGhHVoAa"
      },
      "outputs": [],
      "source": [
        "df_ratings_train = apply_context(df_ratings_train)\n",
        "df_ratings_test = apply_context(df_ratings_test)"
      ]
    },
    {
      "cell_type": "code",
      "execution_count": null,
      "metadata": {
        "colab": {
          "base_uri": "https://localhost:8080/",
          "height": 331
        },
        "id": "rxFNkvu_njZo",
        "outputId": "8781a884-802a-47d4-fd6e-de5a927635d4",
        "scrolled": true
      },
      "outputs": [
        {
          "data": {
            "text/html": [
              "\n",
              "  <div id=\"df-0b8fa2f2-e3eb-4ecf-842d-2203ed2be0c8\">\n",
              "    <div class=\"colab-df-container\">\n",
              "      <div>\n",
              "<style scoped>\n",
              "    .dataframe tbody tr th:only-of-type {\n",
              "        vertical-align: middle;\n",
              "    }\n",
              "\n",
              "    .dataframe tbody tr th {\n",
              "        vertical-align: top;\n",
              "    }\n",
              "\n",
              "    .dataframe thead th {\n",
              "        text-align: right;\n",
              "    }\n",
              "</style>\n",
              "<table border=\"1\" class=\"dataframe\">\n",
              "  <thead>\n",
              "    <tr style=\"text-align: right;\">\n",
              "      <th>movie_id</th>\n",
              "      <th>0</th>\n",
              "      <th>1800011850</th>\n",
              "      <th>1800012991</th>\n",
              "      <th>1800013563</th>\n",
              "      <th>1800014841</th>\n",
              "      <th>1800015027</th>\n",
              "      <th>1800018548</th>\n",
              "      <th>1800018575</th>\n",
              "      <th>1800018578</th>\n",
              "      <th>1800018591</th>\n",
              "      <th>1800018600</th>\n",
              "      <th>1800018611</th>\n",
              "      <th>1800018620</th>\n",
              "      <th>1800018623</th>\n",
              "      <th>1800018632</th>\n",
              "      <th>1800018639</th>\n",
              "      <th>1800018653</th>\n",
              "      <th>1800018654</th>\n",
              "      <th>1800018659</th>\n",
              "      <th>1800018665</th>\n",
              "      <th>1800018669</th>\n",
              "      <th>1800018676</th>\n",
              "      <th>1800018697</th>\n",
              "      <th>1800018701</th>\n",
              "      <th>1800018707</th>\n",
              "      <th>1800018710</th>\n",
              "      <th>1800018720</th>\n",
              "      <th>1800018722</th>\n",
              "      <th>1800018727</th>\n",
              "      <th>1800018732</th>\n",
              "      <th>1800018733</th>\n",
              "      <th>1800018737</th>\n",
              "      <th>1800018745</th>\n",
              "      <th>1800018746</th>\n",
              "      <th>1800018755</th>\n",
              "      <th>1800018761</th>\n",
              "      <th>1800018762</th>\n",
              "      <th>1800018783</th>\n",
              "      <th>1800018796</th>\n",
              "      <th>1800018802</th>\n",
              "      <th>...</th>\n",
              "      <th>1808516159</th>\n",
              "      <th>1808516160</th>\n",
              "      <th>1808516172</th>\n",
              "      <th>1808516185</th>\n",
              "      <th>1808516189</th>\n",
              "      <th>1808516203</th>\n",
              "      <th>1808516206</th>\n",
              "      <th>1808516208</th>\n",
              "      <th>1808516212</th>\n",
              "      <th>1808516215</th>\n",
              "      <th>1808516216</th>\n",
              "      <th>1808516225</th>\n",
              "      <th>1808516226</th>\n",
              "      <th>1808516227</th>\n",
              "      <th>1808516245</th>\n",
              "      <th>1808516258</th>\n",
              "      <th>1808516293</th>\n",
              "      <th>1808516297</th>\n",
              "      <th>1808516303</th>\n",
              "      <th>1808516310</th>\n",
              "      <th>1808516319</th>\n",
              "      <th>1808516326</th>\n",
              "      <th>1808516332</th>\n",
              "      <th>1808516334</th>\n",
              "      <th>1808516337</th>\n",
              "      <th>1808516340</th>\n",
              "      <th>1808516350</th>\n",
              "      <th>1808517704</th>\n",
              "      <th>1808517740</th>\n",
              "      <th>1808517753</th>\n",
              "      <th>1808517769</th>\n",
              "      <th>1808517843</th>\n",
              "      <th>1808517861</th>\n",
              "      <th>1808517863</th>\n",
              "      <th>1808518549</th>\n",
              "      <th>1808518669</th>\n",
              "      <th>1808519269</th>\n",
              "      <th>1808519348</th>\n",
              "      <th>1808519428</th>\n",
              "      <th>1808520834</th>\n",
              "    </tr>\n",
              "    <tr>\n",
              "      <th>user_id</th>\n",
              "      <th></th>\n",
              "      <th></th>\n",
              "      <th></th>\n",
              "      <th></th>\n",
              "      <th></th>\n",
              "      <th></th>\n",
              "      <th></th>\n",
              "      <th></th>\n",
              "      <th></th>\n",
              "      <th></th>\n",
              "      <th></th>\n",
              "      <th></th>\n",
              "      <th></th>\n",
              "      <th></th>\n",
              "      <th></th>\n",
              "      <th></th>\n",
              "      <th></th>\n",
              "      <th></th>\n",
              "      <th></th>\n",
              "      <th></th>\n",
              "      <th></th>\n",
              "      <th></th>\n",
              "      <th></th>\n",
              "      <th></th>\n",
              "      <th></th>\n",
              "      <th></th>\n",
              "      <th></th>\n",
              "      <th></th>\n",
              "      <th></th>\n",
              "      <th></th>\n",
              "      <th></th>\n",
              "      <th></th>\n",
              "      <th></th>\n",
              "      <th></th>\n",
              "      <th></th>\n",
              "      <th></th>\n",
              "      <th></th>\n",
              "      <th></th>\n",
              "      <th></th>\n",
              "      <th></th>\n",
              "      <th></th>\n",
              "      <th></th>\n",
              "      <th></th>\n",
              "      <th></th>\n",
              "      <th></th>\n",
              "      <th></th>\n",
              "      <th></th>\n",
              "      <th></th>\n",
              "      <th></th>\n",
              "      <th></th>\n",
              "      <th></th>\n",
              "      <th></th>\n",
              "      <th></th>\n",
              "      <th></th>\n",
              "      <th></th>\n",
              "      <th></th>\n",
              "      <th></th>\n",
              "      <th></th>\n",
              "      <th></th>\n",
              "      <th></th>\n",
              "      <th></th>\n",
              "      <th></th>\n",
              "      <th></th>\n",
              "      <th></th>\n",
              "      <th></th>\n",
              "      <th></th>\n",
              "      <th></th>\n",
              "      <th></th>\n",
              "      <th></th>\n",
              "      <th></th>\n",
              "      <th></th>\n",
              "      <th></th>\n",
              "      <th></th>\n",
              "      <th></th>\n",
              "      <th></th>\n",
              "      <th></th>\n",
              "      <th></th>\n",
              "      <th></th>\n",
              "      <th></th>\n",
              "      <th></th>\n",
              "      <th></th>\n",
              "    </tr>\n",
              "  </thead>\n",
              "  <tbody>\n",
              "    <tr>\n",
              "      <th>1</th>\n",
              "      <td>0.0</td>\n",
              "      <td>0.0</td>\n",
              "      <td>0.0</td>\n",
              "      <td>0.0</td>\n",
              "      <td>0.0</td>\n",
              "      <td>0.0</td>\n",
              "      <td>5.0</td>\n",
              "      <td>0.0</td>\n",
              "      <td>0.0</td>\n",
              "      <td>0.0</td>\n",
              "      <td>0.0</td>\n",
              "      <td>0.0</td>\n",
              "      <td>0.0</td>\n",
              "      <td>0.0</td>\n",
              "      <td>0.0</td>\n",
              "      <td>0.0</td>\n",
              "      <td>0.0</td>\n",
              "      <td>0.0</td>\n",
              "      <td>0.0</td>\n",
              "      <td>0.0</td>\n",
              "      <td>0.0</td>\n",
              "      <td>0.0</td>\n",
              "      <td>0.0</td>\n",
              "      <td>0.0</td>\n",
              "      <td>0.0</td>\n",
              "      <td>0.0</td>\n",
              "      <td>0.0</td>\n",
              "      <td>0.0</td>\n",
              "      <td>0.0</td>\n",
              "      <td>0.0</td>\n",
              "      <td>0.0</td>\n",
              "      <td>0.0</td>\n",
              "      <td>0.0</td>\n",
              "      <td>0.0</td>\n",
              "      <td>0.0</td>\n",
              "      <td>0.0</td>\n",
              "      <td>0.0</td>\n",
              "      <td>0.0</td>\n",
              "      <td>0.0</td>\n",
              "      <td>0.0</td>\n",
              "      <td>...</td>\n",
              "      <td>0.0</td>\n",
              "      <td>0.0</td>\n",
              "      <td>0.0</td>\n",
              "      <td>0.0</td>\n",
              "      <td>0.0</td>\n",
              "      <td>0.0</td>\n",
              "      <td>0.0</td>\n",
              "      <td>0.0</td>\n",
              "      <td>0.0</td>\n",
              "      <td>0.0</td>\n",
              "      <td>0.0</td>\n",
              "      <td>0.0</td>\n",
              "      <td>0.0</td>\n",
              "      <td>0.0</td>\n",
              "      <td>0.0</td>\n",
              "      <td>0.0</td>\n",
              "      <td>0.0</td>\n",
              "      <td>0.0</td>\n",
              "      <td>0.0</td>\n",
              "      <td>0.0</td>\n",
              "      <td>0.0</td>\n",
              "      <td>0.0</td>\n",
              "      <td>0.0</td>\n",
              "      <td>0.0</td>\n",
              "      <td>0.0</td>\n",
              "      <td>0.0</td>\n",
              "      <td>0.0</td>\n",
              "      <td>0.0</td>\n",
              "      <td>0.0</td>\n",
              "      <td>0.0</td>\n",
              "      <td>0.0</td>\n",
              "      <td>0.0</td>\n",
              "      <td>0.0</td>\n",
              "      <td>0.0</td>\n",
              "      <td>0.0</td>\n",
              "      <td>0.0</td>\n",
              "      <td>0.0</td>\n",
              "      <td>0.0</td>\n",
              "      <td>0.0</td>\n",
              "      <td>0.0</td>\n",
              "    </tr>\n",
              "    <tr>\n",
              "      <th>2</th>\n",
              "      <td>0.0</td>\n",
              "      <td>0.0</td>\n",
              "      <td>0.0</td>\n",
              "      <td>0.0</td>\n",
              "      <td>0.0</td>\n",
              "      <td>0.0</td>\n",
              "      <td>0.0</td>\n",
              "      <td>0.0</td>\n",
              "      <td>0.0</td>\n",
              "      <td>0.0</td>\n",
              "      <td>0.0</td>\n",
              "      <td>0.0</td>\n",
              "      <td>0.0</td>\n",
              "      <td>0.0</td>\n",
              "      <td>0.0</td>\n",
              "      <td>0.0</td>\n",
              "      <td>0.0</td>\n",
              "      <td>0.0</td>\n",
              "      <td>0.0</td>\n",
              "      <td>0.0</td>\n",
              "      <td>0.0</td>\n",
              "      <td>0.0</td>\n",
              "      <td>0.0</td>\n",
              "      <td>0.0</td>\n",
              "      <td>0.0</td>\n",
              "      <td>0.0</td>\n",
              "      <td>0.0</td>\n",
              "      <td>0.0</td>\n",
              "      <td>0.0</td>\n",
              "      <td>0.0</td>\n",
              "      <td>0.0</td>\n",
              "      <td>0.0</td>\n",
              "      <td>0.0</td>\n",
              "      <td>0.0</td>\n",
              "      <td>0.0</td>\n",
              "      <td>0.0</td>\n",
              "      <td>0.0</td>\n",
              "      <td>0.0</td>\n",
              "      <td>0.0</td>\n",
              "      <td>0.0</td>\n",
              "      <td>...</td>\n",
              "      <td>0.0</td>\n",
              "      <td>0.0</td>\n",
              "      <td>0.0</td>\n",
              "      <td>0.0</td>\n",
              "      <td>0.0</td>\n",
              "      <td>0.0</td>\n",
              "      <td>0.0</td>\n",
              "      <td>0.0</td>\n",
              "      <td>0.0</td>\n",
              "      <td>0.0</td>\n",
              "      <td>0.0</td>\n",
              "      <td>0.0</td>\n",
              "      <td>0.0</td>\n",
              "      <td>0.0</td>\n",
              "      <td>0.0</td>\n",
              "      <td>0.0</td>\n",
              "      <td>0.0</td>\n",
              "      <td>0.0</td>\n",
              "      <td>0.0</td>\n",
              "      <td>0.0</td>\n",
              "      <td>0.0</td>\n",
              "      <td>0.0</td>\n",
              "      <td>0.0</td>\n",
              "      <td>0.0</td>\n",
              "      <td>0.0</td>\n",
              "      <td>0.0</td>\n",
              "      <td>0.0</td>\n",
              "      <td>0.0</td>\n",
              "      <td>0.0</td>\n",
              "      <td>0.0</td>\n",
              "      <td>0.0</td>\n",
              "      <td>0.0</td>\n",
              "      <td>0.0</td>\n",
              "      <td>0.0</td>\n",
              "      <td>0.0</td>\n",
              "      <td>0.0</td>\n",
              "      <td>0.0</td>\n",
              "      <td>0.0</td>\n",
              "      <td>0.0</td>\n",
              "      <td>0.0</td>\n",
              "    </tr>\n",
              "    <tr>\n",
              "      <th>3</th>\n",
              "      <td>0.0</td>\n",
              "      <td>0.0</td>\n",
              "      <td>0.0</td>\n",
              "      <td>0.0</td>\n",
              "      <td>0.0</td>\n",
              "      <td>0.0</td>\n",
              "      <td>5.0</td>\n",
              "      <td>0.0</td>\n",
              "      <td>0.0</td>\n",
              "      <td>0.0</td>\n",
              "      <td>0.0</td>\n",
              "      <td>0.0</td>\n",
              "      <td>0.0</td>\n",
              "      <td>5.0</td>\n",
              "      <td>0.0</td>\n",
              "      <td>0.0</td>\n",
              "      <td>0.0</td>\n",
              "      <td>0.0</td>\n",
              "      <td>0.0</td>\n",
              "      <td>0.0</td>\n",
              "      <td>0.0</td>\n",
              "      <td>0.0</td>\n",
              "      <td>0.0</td>\n",
              "      <td>0.0</td>\n",
              "      <td>0.0</td>\n",
              "      <td>0.0</td>\n",
              "      <td>0.0</td>\n",
              "      <td>0.0</td>\n",
              "      <td>0.0</td>\n",
              "      <td>0.0</td>\n",
              "      <td>0.0</td>\n",
              "      <td>0.0</td>\n",
              "      <td>0.0</td>\n",
              "      <td>0.0</td>\n",
              "      <td>0.0</td>\n",
              "      <td>0.0</td>\n",
              "      <td>0.0</td>\n",
              "      <td>0.0</td>\n",
              "      <td>0.0</td>\n",
              "      <td>0.0</td>\n",
              "      <td>...</td>\n",
              "      <td>0.0</td>\n",
              "      <td>0.0</td>\n",
              "      <td>0.0</td>\n",
              "      <td>0.0</td>\n",
              "      <td>0.0</td>\n",
              "      <td>0.0</td>\n",
              "      <td>0.0</td>\n",
              "      <td>0.0</td>\n",
              "      <td>0.0</td>\n",
              "      <td>0.0</td>\n",
              "      <td>0.0</td>\n",
              "      <td>0.0</td>\n",
              "      <td>0.0</td>\n",
              "      <td>0.0</td>\n",
              "      <td>0.0</td>\n",
              "      <td>0.0</td>\n",
              "      <td>0.0</td>\n",
              "      <td>0.0</td>\n",
              "      <td>0.0</td>\n",
              "      <td>0.0</td>\n",
              "      <td>0.0</td>\n",
              "      <td>0.0</td>\n",
              "      <td>0.0</td>\n",
              "      <td>0.0</td>\n",
              "      <td>0.0</td>\n",
              "      <td>0.0</td>\n",
              "      <td>0.0</td>\n",
              "      <td>0.0</td>\n",
              "      <td>0.0</td>\n",
              "      <td>0.0</td>\n",
              "      <td>0.0</td>\n",
              "      <td>0.0</td>\n",
              "      <td>0.0</td>\n",
              "      <td>0.0</td>\n",
              "      <td>0.0</td>\n",
              "      <td>0.0</td>\n",
              "      <td>0.0</td>\n",
              "      <td>0.0</td>\n",
              "      <td>0.0</td>\n",
              "      <td>0.0</td>\n",
              "    </tr>\n",
              "    <tr>\n",
              "      <th>4</th>\n",
              "      <td>0.0</td>\n",
              "      <td>0.0</td>\n",
              "      <td>0.0</td>\n",
              "      <td>0.0</td>\n",
              "      <td>0.0</td>\n",
              "      <td>0.0</td>\n",
              "      <td>0.0</td>\n",
              "      <td>0.0</td>\n",
              "      <td>0.0</td>\n",
              "      <td>0.0</td>\n",
              "      <td>0.0</td>\n",
              "      <td>0.0</td>\n",
              "      <td>0.0</td>\n",
              "      <td>0.0</td>\n",
              "      <td>0.0</td>\n",
              "      <td>0.0</td>\n",
              "      <td>0.0</td>\n",
              "      <td>0.0</td>\n",
              "      <td>0.0</td>\n",
              "      <td>0.0</td>\n",
              "      <td>0.0</td>\n",
              "      <td>0.0</td>\n",
              "      <td>0.0</td>\n",
              "      <td>0.0</td>\n",
              "      <td>0.0</td>\n",
              "      <td>0.0</td>\n",
              "      <td>0.0</td>\n",
              "      <td>0.0</td>\n",
              "      <td>0.0</td>\n",
              "      <td>0.0</td>\n",
              "      <td>0.0</td>\n",
              "      <td>0.0</td>\n",
              "      <td>0.0</td>\n",
              "      <td>0.0</td>\n",
              "      <td>0.0</td>\n",
              "      <td>0.0</td>\n",
              "      <td>0.0</td>\n",
              "      <td>0.0</td>\n",
              "      <td>0.0</td>\n",
              "      <td>0.0</td>\n",
              "      <td>...</td>\n",
              "      <td>0.0</td>\n",
              "      <td>0.0</td>\n",
              "      <td>0.0</td>\n",
              "      <td>0.0</td>\n",
              "      <td>0.0</td>\n",
              "      <td>0.0</td>\n",
              "      <td>0.0</td>\n",
              "      <td>0.0</td>\n",
              "      <td>0.0</td>\n",
              "      <td>0.0</td>\n",
              "      <td>0.0</td>\n",
              "      <td>0.0</td>\n",
              "      <td>0.0</td>\n",
              "      <td>0.0</td>\n",
              "      <td>0.0</td>\n",
              "      <td>0.0</td>\n",
              "      <td>0.0</td>\n",
              "      <td>0.0</td>\n",
              "      <td>0.0</td>\n",
              "      <td>0.0</td>\n",
              "      <td>0.0</td>\n",
              "      <td>0.0</td>\n",
              "      <td>0.0</td>\n",
              "      <td>0.0</td>\n",
              "      <td>0.0</td>\n",
              "      <td>0.0</td>\n",
              "      <td>0.0</td>\n",
              "      <td>0.0</td>\n",
              "      <td>0.0</td>\n",
              "      <td>0.0</td>\n",
              "      <td>0.0</td>\n",
              "      <td>0.0</td>\n",
              "      <td>0.0</td>\n",
              "      <td>0.0</td>\n",
              "      <td>0.0</td>\n",
              "      <td>0.0</td>\n",
              "      <td>0.0</td>\n",
              "      <td>0.0</td>\n",
              "      <td>0.0</td>\n",
              "      <td>0.0</td>\n",
              "    </tr>\n",
              "    <tr>\n",
              "      <th>5</th>\n",
              "      <td>0.0</td>\n",
              "      <td>0.0</td>\n",
              "      <td>0.0</td>\n",
              "      <td>0.0</td>\n",
              "      <td>0.0</td>\n",
              "      <td>0.0</td>\n",
              "      <td>0.0</td>\n",
              "      <td>0.0</td>\n",
              "      <td>0.0</td>\n",
              "      <td>0.0</td>\n",
              "      <td>0.0</td>\n",
              "      <td>0.0</td>\n",
              "      <td>0.0</td>\n",
              "      <td>0.0</td>\n",
              "      <td>0.0</td>\n",
              "      <td>0.0</td>\n",
              "      <td>0.0</td>\n",
              "      <td>0.0</td>\n",
              "      <td>0.0</td>\n",
              "      <td>0.0</td>\n",
              "      <td>0.0</td>\n",
              "      <td>0.0</td>\n",
              "      <td>0.0</td>\n",
              "      <td>0.0</td>\n",
              "      <td>0.0</td>\n",
              "      <td>0.0</td>\n",
              "      <td>0.0</td>\n",
              "      <td>0.0</td>\n",
              "      <td>0.0</td>\n",
              "      <td>0.0</td>\n",
              "      <td>0.0</td>\n",
              "      <td>0.0</td>\n",
              "      <td>0.0</td>\n",
              "      <td>0.0</td>\n",
              "      <td>0.0</td>\n",
              "      <td>0.0</td>\n",
              "      <td>0.0</td>\n",
              "      <td>0.0</td>\n",
              "      <td>0.0</td>\n",
              "      <td>0.0</td>\n",
              "      <td>...</td>\n",
              "      <td>0.0</td>\n",
              "      <td>0.0</td>\n",
              "      <td>0.0</td>\n",
              "      <td>0.0</td>\n",
              "      <td>0.0</td>\n",
              "      <td>0.0</td>\n",
              "      <td>0.0</td>\n",
              "      <td>0.0</td>\n",
              "      <td>0.0</td>\n",
              "      <td>0.0</td>\n",
              "      <td>0.0</td>\n",
              "      <td>0.0</td>\n",
              "      <td>0.0</td>\n",
              "      <td>0.0</td>\n",
              "      <td>0.0</td>\n",
              "      <td>0.0</td>\n",
              "      <td>0.0</td>\n",
              "      <td>0.0</td>\n",
              "      <td>0.0</td>\n",
              "      <td>0.0</td>\n",
              "      <td>0.0</td>\n",
              "      <td>0.0</td>\n",
              "      <td>0.0</td>\n",
              "      <td>0.0</td>\n",
              "      <td>0.0</td>\n",
              "      <td>0.0</td>\n",
              "      <td>0.0</td>\n",
              "      <td>0.0</td>\n",
              "      <td>0.0</td>\n",
              "      <td>0.0</td>\n",
              "      <td>0.0</td>\n",
              "      <td>0.0</td>\n",
              "      <td>0.0</td>\n",
              "      <td>0.0</td>\n",
              "      <td>0.0</td>\n",
              "      <td>0.0</td>\n",
              "      <td>0.0</td>\n",
              "      <td>0.0</td>\n",
              "      <td>0.0</td>\n",
              "      <td>0.0</td>\n",
              "    </tr>\n",
              "  </tbody>\n",
              "</table>\n",
              "<p>5 rows × 11916 columns</p>\n",
              "</div>\n",
              "      <button class=\"colab-df-convert\" onclick=\"convertToInteractive('df-0b8fa2f2-e3eb-4ecf-842d-2203ed2be0c8')\"\n",
              "              title=\"Convert this dataframe to an interactive table.\"\n",
              "              style=\"display:none;\">\n",
              "        \n",
              "  <svg xmlns=\"http://www.w3.org/2000/svg\" height=\"24px\"viewBox=\"0 0 24 24\"\n",
              "       width=\"24px\">\n",
              "    <path d=\"M0 0h24v24H0V0z\" fill=\"none\"/>\n",
              "    <path d=\"M18.56 5.44l.94 2.06.94-2.06 2.06-.94-2.06-.94-.94-2.06-.94 2.06-2.06.94zm-11 1L8.5 8.5l.94-2.06 2.06-.94-2.06-.94L8.5 2.5l-.94 2.06-2.06.94zm10 10l.94 2.06.94-2.06 2.06-.94-2.06-.94-.94-2.06-.94 2.06-2.06.94z\"/><path d=\"M17.41 7.96l-1.37-1.37c-.4-.4-.92-.59-1.43-.59-.52 0-1.04.2-1.43.59L10.3 9.45l-7.72 7.72c-.78.78-.78 2.05 0 2.83L4 21.41c.39.39.9.59 1.41.59.51 0 1.02-.2 1.41-.59l7.78-7.78 2.81-2.81c.8-.78.8-2.07 0-2.86zM5.41 20L4 18.59l7.72-7.72 1.47 1.35L5.41 20z\"/>\n",
              "  </svg>\n",
              "      </button>\n",
              "      \n",
              "  <style>\n",
              "    .colab-df-container {\n",
              "      display:flex;\n",
              "      flex-wrap:wrap;\n",
              "      gap: 12px;\n",
              "    }\n",
              "\n",
              "    .colab-df-convert {\n",
              "      background-color: #E8F0FE;\n",
              "      border: none;\n",
              "      border-radius: 50%;\n",
              "      cursor: pointer;\n",
              "      display: none;\n",
              "      fill: #1967D2;\n",
              "      height: 32px;\n",
              "      padding: 0 0 0 0;\n",
              "      width: 32px;\n",
              "    }\n",
              "\n",
              "    .colab-df-convert:hover {\n",
              "      background-color: #E2EBFA;\n",
              "      box-shadow: 0px 1px 2px rgba(60, 64, 67, 0.3), 0px 1px 3px 1px rgba(60, 64, 67, 0.15);\n",
              "      fill: #174EA6;\n",
              "    }\n",
              "\n",
              "    [theme=dark] .colab-df-convert {\n",
              "      background-color: #3B4455;\n",
              "      fill: #D2E3FC;\n",
              "    }\n",
              "\n",
              "    [theme=dark] .colab-df-convert:hover {\n",
              "      background-color: #434B5C;\n",
              "      box-shadow: 0px 1px 3px 1px rgba(0, 0, 0, 0.15);\n",
              "      filter: drop-shadow(0px 1px 2px rgba(0, 0, 0, 0.3));\n",
              "      fill: #FFFFFF;\n",
              "    }\n",
              "  </style>\n",
              "\n",
              "      <script>\n",
              "        const buttonEl =\n",
              "          document.querySelector('#df-0b8fa2f2-e3eb-4ecf-842d-2203ed2be0c8 button.colab-df-convert');\n",
              "        buttonEl.style.display =\n",
              "          google.colab.kernel.accessAllowed ? 'block' : 'none';\n",
              "\n",
              "        async function convertToInteractive(key) {\n",
              "          const element = document.querySelector('#df-0b8fa2f2-e3eb-4ecf-842d-2203ed2be0c8');\n",
              "          const dataTable =\n",
              "            await google.colab.kernel.invokeFunction('convertToInteractive',\n",
              "                                                     [key], {});\n",
              "          if (!dataTable) return;\n",
              "\n",
              "          const docLinkHtml = 'Like what you see? Visit the ' +\n",
              "            '<a target=\"_blank\" href=https://colab.research.google.com/notebooks/data_table.ipynb>data table notebook</a>'\n",
              "            + ' to learn more about interactive tables.';\n",
              "          element.innerHTML = '';\n",
              "          dataTable['output_type'] = 'display_data';\n",
              "          await google.colab.output.renderOutput(dataTable, element);\n",
              "          const docLink = document.createElement('div');\n",
              "          docLink.innerHTML = docLinkHtml;\n",
              "          element.appendChild(docLink);\n",
              "        }\n",
              "      </script>\n",
              "    </div>\n",
              "  </div>\n",
              "  "
            ],
            "text/plain": [
              "movie_id  0           1800011850  ...  1808519428  1808520834\n",
              "user_id                           ...                        \n",
              "1                0.0         0.0  ...         0.0         0.0\n",
              "2                0.0         0.0  ...         0.0         0.0\n",
              "3                0.0         0.0  ...         0.0         0.0\n",
              "4                0.0         0.0  ...         0.0         0.0\n",
              "5                0.0         0.0  ...         0.0         0.0\n",
              "\n",
              "[5 rows x 11916 columns]"
            ]
          },
          "execution_count": 22,
          "metadata": {},
          "output_type": "execute_result"
        }
      ],
      "source": [
        "ratings = df_ratings_train.pivot(index = 'user_id', columns ='movie_id', values = 'final_rating').fillna(0)\n",
        "ratings.head()"
      ]
    },
    {
      "cell_type": "code",
      "execution_count": null,
      "metadata": {
        "colab": {
          "base_uri": "https://localhost:8080/"
        },
        "id": "UUm97gVXOyrs",
        "outputId": "e4cb357a-73b7-474b-9139-723565ccc1e6"
      },
      "outputs": [
        {
          "data": {
            "text/plain": [
              "(7642, 11916)"
            ]
          },
          "execution_count": 23,
          "metadata": {},
          "output_type": "execute_result"
        }
      ],
      "source": [
        "ratings.shape"
      ]
    },
    {
      "cell_type": "markdown",
      "metadata": {
        "id": "ZrnCNEXGnjZo"
      },
      "source": [
        "**Explore ratings data:**"
      ]
    },
    {
      "cell_type": "code",
      "execution_count": null,
      "metadata": {
        "colab": {
          "base_uri": "https://localhost:8080/",
          "height": 265
        },
        "id": "aGwRgoC4MMZK",
        "outputId": "d9268a85-6599-4b23-e775-601d7bdff4df"
      },
      "outputs": [
        {
          "data": {
            "image/png": "[encoded data removed]",
            "text/plain": [
              "<Figure size 432x288 with 1 Axes>"
            ]
          },
          "metadata": {},
          "output_type": "display_data"
        }
      ],
      "source": [
        "plt.hist(df_ratings_train.final_rating, cumulative=True, density=True)\n",
        "plt.show()"
      ]
    },
    {
      "cell_type": "markdown",
      "metadata": {
        "id": "hPDfdaO-QtsM"
      },
      "source": [
        "according to the histogram, the cutoff between bad and good should be at 4"
      ]
    },
    {
      "cell_type": "code",
      "execution_count": null,
      "metadata": {
        "id": "6XfBocnEnjZr"
      },
      "outputs": [],
      "source": [
        "class my_metrics():\n",
        "    \n",
        "    def RMSE(df_true,df_pred,lower_bound=1,upper_bound=5,debug=False):\n",
        "        n = (df_true > 0).sum().sum()\n",
        "        if debug:\n",
        "          print(\"n =\", n)\n",
        "        return np.sqrt(((df_true[df_true > 0] - df_pred[df_true > 0])**2).sum().sum() / n)\n",
        "\n",
        "    def MAE(df_true,df_pred,lower_bound=1,upper_bound=5,debug=False):\n",
        "        n = (df_true > 0).sum().sum()\n",
        "        if debug:\n",
        "          print(\"n =\", n)\n",
        "        return (abs(df_true[df_true > 0] - df_pred[df_true > 0])).sum().sum() / n\n",
        "\n",
        "    def MRR(df_true,df_pred,lower_bound=1,upper_bound=5,top_n=5,debug=False,cutoff=4):\n",
        "        mrr = 0\n",
        "        df_true = df_true[df_true.T.sum() > 0]\n",
        "        if debug:\n",
        "          print(f\"evaluating for {len(df_true)} active users\")\n",
        "        for idx, user_true in df_true.iterrows():\n",
        "            user_pred = df_pred.loc[idx]\n",
        "            mrr += my_metrics.MRR_for_user(user_true, user_pred, lower_bound, upper_bound, top_n, debug and idx % 100 == 1, cutoff)\n",
        "            if debug and idx % 100 == 1:\n",
        "              print(\"idx =\", idx, \"mrr =\", mrr)\n",
        "        return mrr / len(df_true)\n",
        "    \n",
        "    def MRR_for_user(user_true,user_pred,lower_bound=1,upper_bound=5,top_n=5,debug=False, cutoff=4):\n",
        "        user_true, user_pred = user_true[user_true > 0], user_pred[user_true > 0] # take only movies the user has seen\n",
        "        top_n = min(top_n, len(user_true)) # users in folds might have less than 5 items\n",
        "        top_preds = user_pred.nlargest(top_n)\n",
        "        top_true = user_true[top_preds.index]\n",
        "        is_relevant = top_true.where(top_true > cutoff).reset_index(drop=True) # reset the index to 0,1,2...\n",
        "        k = is_relevant.first_valid_index()\n",
        "        if debug:          \n",
        "          display(top_preds.reset_index(name=\"top_preds\").join(\n",
        "              pd.DataFrame({\"top_true\": top_true.reset_index(drop=True), \n",
        "                        \"is_relevant\": is_relevant})))\n",
        "          print(\"k =\", k)\n",
        "        user_mrr = 0 if k is None else 1/(k + 1)\n",
        "        return user_mrr\n",
        "    \n",
        "    def NDCG(df_true,df_pred,lower_bound=1,upper_bound=5,top_n=5,debug=False):      \n",
        "        dcg = 0\n",
        "        df_true = df_true[df_true.T.sum() > 0]\n",
        "        if debug:\n",
        "          print(f\"evaluating for {len(df_true)} active users\")\n",
        "        for idx, user_true in df_true.iterrows():\n",
        "            user_pred = df_pred.loc[idx]\n",
        "            dcg += my_metrics.NDCG_for_user(user_true, user_pred, lower_bound, upper_bound, top_n)\n",
        "        return dcg / len(df_true)\n",
        "        \n",
        "    def NDCG_for_user(user_true,user_pred,lower_bound=1,upper_bound=5,top_n=5,debug=False):\n",
        "        user_true, user_pred = user_true[user_true > 0], user_pred[user_true > 0] # take only movies the user has seen\n",
        "        top_n = min(top_n, len(user_true)) # users in folds might have less than 5 items\n",
        "        top_preds = user_pred.nlargest(top_n)\n",
        "        top_true = user_true[top_preds.index]\n",
        "        dcg_series, dcg = my_metrics.DCG(top_true, top_n)\n",
        "        ideal = user_true.nlargest(top_n)\n",
        "        idcg_series, idcg = my_metrics.DCG(ideal, top_n)\n",
        "        if debug:\n",
        "          print(\"DCG\")\n",
        "          display(top_preds.reset_index(name=\"top_preds\").join(\n",
        "              pd.DataFrame({\"top_true\": top_true.reset_index(drop=True), \n",
        "                        \"dcg\": dcg_series.reset_index(drop=True)})))\n",
        "          print(\"IDCG\")\n",
        "          display(ideal.reset_index(name=\"ideal\").join(\n",
        "              pd.DataFrame({ \n",
        "                        \"idcg\": idcg_series.reset_index(drop=True)})))\n",
        "          print(\"dcg =\", dcg, \"idcg =\", idcg)          \n",
        "        return dcg/idcg\n",
        "    \n",
        "    def DCG(rel,n):\n",
        "        i = np.arange(1, n+1) \n",
        "        dcg_series = (2**rel - 1) / np.log2(i+1) # element-wise div\n",
        "        return dcg_series, np.sum(dcg_series) \n",
        "    \n",
        "    def get_error(df_true,df_pred):        \n",
        "        return {'RMSE':my_metrics.RMSE(df_true,df_pred,), 'MAE':my_metrics.MAE(df_true,df_pred,) , 'MRR_5':my_metrics.MRR(df_true,df_pred,top_n=5),'MRR_10':my_metrics.MRR(df_true,df_pred,top_n=10),'NDCG_5':my_metrics.NDCG(df_true,df_pred,top_n=5),'NDCG_10':my_metrics.NDCG(df_true,df_pred,top_n=10)}\n"
      ]
    },
    {
      "cell_type": "markdown",
      "metadata": {
        "id": "TwKwRrxtnjZr"
      },
      "source": [
        "**Save final results**"
      ]
    },
    {
      "cell_type": "code",
      "execution_count": null,
      "metadata": {
        "id": "aFvyInsTnjZs"
      },
      "outputs": [],
      "source": [
        "final_results = pd.DataFrame(columns=['Method','Time','RMSE', 'MAE', 'MRR_5','MRR_10','NDCG_5','NDCG_10'])"
      ]
    },
    {
      "cell_type": "code",
      "execution_count": null,
      "metadata": {
        "colab": {
          "base_uri": "https://localhost:8080/"
        },
        "id": "-sOZKVaMjjFd",
        "outputId": "d01d6cf1-5c07-4f07-d055-df0ba87d15e9"
      },
      "outputs": [
        {
          "data": {
            "text/plain": [
              "(104728, 5024)"
            ]
          },
          "execution_count": 27,
          "metadata": {},
          "output_type": "execute_result"
        }
      ],
      "source": [
        "df_ratings_train.c.sum(), df_ratings_test.c.sum()"
      ]
    },
    {
      "cell_type": "code",
      "execution_count": null,
      "metadata": {
        "id": "85BTG7e3DpD0"
      },
      "outputs": [],
      "source": [
        ""
      ]
    },
    {
      "cell_type": "code",
      "execution_count": null,
      "metadata": {
        "id": "9SyR9uspM6Qo"
      },
      "outputs": [],
      "source": [
        "context_train = df_ratings_train.pivot(index = 'user_id', columns ='movie_id', values = 'c').fillna(0)\n",
        "context_test = df_ratings_test.pivot(index = 'user_id', columns ='movie_id', values = 'c').fillna(0)"
      ]
    },
    {
      "cell_type": "code",
      "execution_count": null,
      "metadata": {
        "colab": {
          "base_uri": "https://localhost:8080/"
        },
        "id": "5rLKWHeQA0wg",
        "outputId": "16da97da-909c-4628-a0df-bd994686bf59"
      },
      "outputs": [
        {
          "data": {
            "text/plain": [
              "((7642, 11916), (7642, 11916))"
            ]
          },
          "execution_count": 29,
          "metadata": {},
          "output_type": "execute_result"
        }
      ],
      "source": [
        "def getfulldf(train_fold,test_fold):\n",
        "    train = ratings.copy()\n",
        "    train[:] = 0\n",
        "    test = train.copy()\n",
        "    \n",
        "    train.loc[train_fold.index,train_fold.columns] = train_fold.values\n",
        "    test.loc[test_fold.index,test_fold.columns] = test_fold.values\n",
        "    return train,test\n",
        "train,test = getfulldf(ratings, df_ratings_test.pivot(index = 'user_id', columns ='movie_id', values = 'final_rating').fillna(0))\n",
        "train.shape,test.shape"
      ]
    },
    {
      "cell_type": "code",
      "execution_count": null,
      "metadata": {
        "id": "2Aom2Ii3OUG9"
      },
      "outputs": [],
      "source": [
        "context_train, context_test = getfulldf(context_train, context_test)"
      ]
    },
    {
      "cell_type": "code",
      "execution_count": null,
      "metadata": {
        "id": "cTDVPBRbjNhN"
      },
      "outputs": [],
      "source": [
        "df_context = context_train + context_test"
      ]
    },
    {
      "cell_type": "code",
      "execution_count": null,
      "metadata": {
        "colab": {
          "base_uri": "https://localhost:8080/"
        },
        "id": "6QOKVTKhjSA8",
        "outputId": "9af014ce-59a9-405b-cb13-57706d0a3bdf"
      },
      "outputs": [
        {
          "data": {
            "text/plain": [
              "(109752.0, 104728.0, 5024.0)"
            ]
          },
          "execution_count": 32,
          "metadata": {},
          "output_type": "execute_result"
        }
      ],
      "source": [
        "df_context.sum().sum(), context_train.sum().sum(), context_test.sum().sum()"
      ]
    },
    {
      "cell_type": "markdown",
      "metadata": {
        "id": "HFmd7CXBnjZs"
      },
      "source": [
        "### Popularity model\n",
        "\n",
        "Recommend the most popular movies which have more then 10 ratings.\n",
        "\n",
        "Use the RMSE, MRR and NDCG metrics to evaluate your recommender system.   \n",
        "For the MRR and NDCG metrics use cutoff values of 5 and 10.   "
      ]
    },
    {
      "cell_type": "code",
      "execution_count": null,
      "metadata": {
        "id": "878kbFv8njZs"
      },
      "outputs": [],
      "source": [
        "class POP():\n",
        "\n",
        "    def __init__(self,df_train,M=10):\n",
        "    # df is the set to train on\n",
        "    # N is the number of movies to recommend\n",
        "    # M is the minimum votes required to be listed in the chart\n",
        "        self.df_train = df_train\n",
        "        self.min_movie_ratings = M\n",
        "        self.recommended = ratings.copy()\n",
        "        self.recommended[:] = 0\n",
        "        self.fit_time = 0\n",
        "\n",
        "    def fit(self):\n",
        "        start = time.time()\n",
        "        real_train = self.df_train[self.df_train > 0]\n",
        "        self.average = (real_train.sum() / real_train.count())\n",
        "        self.average.loc[real_train.count() < 10] = 0\n",
        "        self.recommended[:] = 0\n",
        "        self.recommended += self.average\n",
        "        self.popular = self.average.sort_values(ascending=False)\n",
        "        self.fit_time = time.time() - start\n",
        "\n",
        "    def predict(self,N=10):\n",
        "        return self.popular.index[:N]\n",
        "        \n",
        "    def get_rmse(self,test):\n",
        "        return my_metrics.RMSE(test, self.recommended)\n",
        "\n",
        "    def get_mae(self,test):\n",
        "        return my_metrics.MAE(test, self.recommended)\n",
        "\n",
        "    def get_mrr(self,test,k=10,threshold=3,debug=False):\n",
        "        return my_metrics.MRR(test, self.recommended, top_n=k, cutoff=threshold,debug=debug)\n",
        "        \n",
        "    def get_ndcg(self,test,k=5,debug=False):\n",
        "        return my_metrics.NDCG(test, self.recommended, top_n=k,debug=debug)\n",
        "    "
      ]
    },
    {
      "cell_type": "markdown",
      "metadata": {
        "id": "N5golxy8njZs"
      },
      "source": [
        "Checking your model and performance:"
      ]
    },
    {
      "cell_type": "code",
      "execution_count": null,
      "metadata": {
        "id": "H_j3M7RrFJwU"
      },
      "outputs": [],
      "source": [
        "\n",
        "# create popularity model\n",
        "model_pop = POP(train)\n",
        "\n",
        "# train model\n",
        "model_pop.fit()\n"
      ]
    },
    {
      "cell_type": "code",
      "execution_count": null,
      "metadata": {
        "colab": {
          "base_uri": "https://localhost:8080/",
          "height": 81
        },
        "id": "le3000u2njZs",
        "outputId": "022b75f1-5aa2-4eb8-964a-2f0922713e18"
      },
      "outputs": [
        {
          "data": {
            "text/html": [
              "\n",
              "  <div id=\"df-f56d980e-e5c7-48e4-8c5f-c2a64ffc1529\">\n",
              "    <div class=\"colab-df-container\">\n",
              "      <div>\n",
              "<style scoped>\n",
              "    .dataframe tbody tr th:only-of-type {\n",
              "        vertical-align: middle;\n",
              "    }\n",
              "\n",
              "    .dataframe tbody tr th {\n",
              "        vertical-align: top;\n",
              "    }\n",
              "\n",
              "    .dataframe thead th {\n",
              "        text-align: right;\n",
              "    }\n",
              "</style>\n",
              "<table border=\"1\" class=\"dataframe\">\n",
              "  <thead>\n",
              "    <tr style=\"text-align: right;\">\n",
              "      <th></th>\n",
              "      <th>Method</th>\n",
              "      <th>Time</th>\n",
              "      <th>RMSE</th>\n",
              "      <th>MAE</th>\n",
              "      <th>MRR_5</th>\n",
              "      <th>MRR_10</th>\n",
              "      <th>NDCG_5</th>\n",
              "      <th>NDCG_10</th>\n",
              "    </tr>\n",
              "  </thead>\n",
              "  <tbody>\n",
              "    <tr>\n",
              "      <th>0</th>\n",
              "      <td>Popularity</td>\n",
              "      <td>3.44393</td>\n",
              "      <td>2.092312</td>\n",
              "      <td>1.414601</td>\n",
              "      <td>0.852858</td>\n",
              "      <td>0.852931</td>\n",
              "      <td>0.955687</td>\n",
              "      <td>0.961748</td>\n",
              "    </tr>\n",
              "  </tbody>\n",
              "</table>\n",
              "</div>\n",
              "      <button class=\"colab-df-convert\" onclick=\"convertToInteractive('df-f56d980e-e5c7-48e4-8c5f-c2a64ffc1529')\"\n",
              "              title=\"Convert this dataframe to an interactive table.\"\n",
              "              style=\"display:none;\">\n",
              "        \n",
              "  <svg xmlns=\"http://www.w3.org/2000/svg\" height=\"24px\"viewBox=\"0 0 24 24\"\n",
              "       width=\"24px\">\n",
              "    <path d=\"M0 0h24v24H0V0z\" fill=\"none\"/>\n",
              "    <path d=\"M18.56 5.44l.94 2.06.94-2.06 2.06-.94-2.06-.94-.94-2.06-.94 2.06-2.06.94zm-11 1L8.5 8.5l.94-2.06 2.06-.94-2.06-.94L8.5 2.5l-.94 2.06-2.06.94zm10 10l.94 2.06.94-2.06 2.06-.94-2.06-.94-.94-2.06-.94 2.06-2.06.94z\"/><path d=\"M17.41 7.96l-1.37-1.37c-.4-.4-.92-.59-1.43-.59-.52 0-1.04.2-1.43.59L10.3 9.45l-7.72 7.72c-.78.78-.78 2.05 0 2.83L4 21.41c.39.39.9.59 1.41.59.51 0 1.02-.2 1.41-.59l7.78-7.78 2.81-2.81c.8-.78.8-2.07 0-2.86zM5.41 20L4 18.59l7.72-7.72 1.47 1.35L5.41 20z\"/>\n",
              "  </svg>\n",
              "      </button>\n",
              "      \n",
              "  <style>\n",
              "    .colab-df-container {\n",
              "      display:flex;\n",
              "      flex-wrap:wrap;\n",
              "      gap: 12px;\n",
              "    }\n",
              "\n",
              "    .colab-df-convert {\n",
              "      background-color: #E8F0FE;\n",
              "      border: none;\n",
              "      border-radius: 50%;\n",
              "      cursor: pointer;\n",
              "      display: none;\n",
              "      fill: #1967D2;\n",
              "      height: 32px;\n",
              "      padding: 0 0 0 0;\n",
              "      width: 32px;\n",
              "    }\n",
              "\n",
              "    .colab-df-convert:hover {\n",
              "      background-color: #E2EBFA;\n",
              "      box-shadow: 0px 1px 2px rgba(60, 64, 67, 0.3), 0px 1px 3px 1px rgba(60, 64, 67, 0.15);\n",
              "      fill: #174EA6;\n",
              "    }\n",
              "\n",
              "    [theme=dark] .colab-df-convert {\n",
              "      background-color: #3B4455;\n",
              "      fill: #D2E3FC;\n",
              "    }\n",
              "\n",
              "    [theme=dark] .colab-df-convert:hover {\n",
              "      background-color: #434B5C;\n",
              "      box-shadow: 0px 1px 3px 1px rgba(0, 0, 0, 0.15);\n",
              "      filter: drop-shadow(0px 1px 2px rgba(0, 0, 0, 0.3));\n",
              "      fill: #FFFFFF;\n",
              "    }\n",
              "  </style>\n",
              "\n",
              "      <script>\n",
              "        const buttonEl =\n",
              "          document.querySelector('#df-f56d980e-e5c7-48e4-8c5f-c2a64ffc1529 button.colab-df-convert');\n",
              "        buttonEl.style.display =\n",
              "          google.colab.kernel.accessAllowed ? 'block' : 'none';\n",
              "\n",
              "        async function convertToInteractive(key) {\n",
              "          const element = document.querySelector('#df-f56d980e-e5c7-48e4-8c5f-c2a64ffc1529');\n",
              "          const dataTable =\n",
              "            await google.colab.kernel.invokeFunction('convertToInteractive',\n",
              "                                                     [key], {});\n",
              "          if (!dataTable) return;\n",
              "\n",
              "          const docLinkHtml = 'Like what you see? Visit the ' +\n",
              "            '<a target=\"_blank\" href=https://colab.research.google.com/notebooks/data_table.ipynb>data table notebook</a>'\n",
              "            + ' to learn more about interactive tables.';\n",
              "          element.innerHTML = '';\n",
              "          dataTable['output_type'] = 'display_data';\n",
              "          await google.colab.output.renderOutput(dataTable, element);\n",
              "          const docLink = document.createElement('div');\n",
              "          docLink.innerHTML = docLinkHtml;\n",
              "          element.appendChild(docLink);\n",
              "        }\n",
              "      </script>\n",
              "    </div>\n",
              "  </div>\n",
              "  "
            ],
            "text/plain": [
              "       Method     Time      RMSE  ...    MRR_10    NDCG_5   NDCG_10\n",
              "0  Popularity  3.44393  2.092312  ...  0.852931  0.955687  0.961748\n",
              "\n",
              "[1 rows x 8 columns]"
            ]
          },
          "execution_count": 35,
          "metadata": {},
          "output_type": "execute_result"
        }
      ],
      "source": [
        "# record model results\n",
        "final_results.loc[len(final_results)] = 'Popularity', model_pop.fit_time, model_pop.get_rmse(test), model_pop.get_mae(test), model_pop.get_mrr(test,k=5), model_pop.get_mrr(test,k=10), model_pop.get_ndcg(test,k=5), model_pop.get_ndcg(test,k=10)\n",
        "\n",
        "# display\n",
        "final_results"
      ]
    },
    {
      "cell_type": "markdown",
      "metadata": {
        "id": "C_UU8he1njZt"
      },
      "source": [
        "### Implement explicit matrix factorization algorithm to predict the rating a user will provide to an item and recommendation of top N items.   \n",
        "\n",
        "Use the RMSE, MRR and NDCG metrics to evaluate your recommender system.   \n",
        "For the MRR and NDCG metrics use cutoff values of 5 and 10.   "
      ]
    },
    {
      "cell_type": "code",
      "execution_count": null,
      "metadata": {
        "id": "CBG9irWOnjZt"
      },
      "outputs": [],
      "source": [
        "class MF():\n",
        "    \n",
        "    def __init__(self,df_train,df_context,n_factors=10,only_bias=False,context_aware=True,\n",
        "                 non_zero_indices=None, test_non_zero_indices=None):\n",
        "        self.df_train = df_train\n",
        "        self.df_context = df_context\n",
        "        self.n_factors = n_factors\n",
        "        self.only_bias = only_bias\n",
        "        self.context_aware = context_aware\n",
        "        \n",
        "        # rows==users , cols==items\n",
        "        self.n_rows, self.n_cols = df_train.shape\n",
        "        \n",
        "        # biases\n",
        "        self.original_bias_global = np.sum(df_train.values)/np.count_nonzero(df_train)\n",
        "        self.original_bias_rows   = np.sum(df_train,axis=1)/np.count_nonzero(df_train,axis=1) \n",
        "        self.original_bias_cols   = np.sum(df_train,axis=0)/np.count_nonzero(df_train,axis=0)\n",
        "        \n",
        "        self.rows_indices = np.arange(self.n_rows)\n",
        "        self.cols_indices = np.arange(self.n_cols)\n",
        "        self.non_zero_indices = []\n",
        "        self.test_non_zero_indices = []\n",
        "        if non_zero_indices is not None:\n",
        "          for idx, row in non_zero_indices[['user_id', 'movie_id']].iterrows():\n",
        "            u = self.df_train.index.get_loc(row['user_id'])\n",
        "            i = self.df_train.columns.get_loc(row['movie_id'])\n",
        "            self.non_zero_indices.append((u, i))\n",
        "          for idx, row in test_non_zero_indices[['user_id', 'movie_id']].iterrows():\n",
        "            u = self.df_train.index.get_loc(row['user_id'])\n",
        "            i = self.df_train.columns.get_loc(row['movie_id'])\n",
        "            self.test_non_zero_indices.append((u, i))          \n",
        "        # perf optimization\n",
        "        else:\n",
        "          for u in self.rows_indices:\n",
        "            for i in self.cols_indices:\n",
        "              if self.df_train.values[u,i] == 0:\n",
        "                continue\n",
        "              self.non_zero_indices.append((u,i))\n",
        "        print('non_zero_indices', len(self.non_zero_indices))\n",
        "        # \"reset\" initialization \n",
        "        self.initilize_params()\n",
        "        \n",
        "        \n",
        "    def initilize_params(self):\n",
        "        if self.only_bias:\n",
        "          self.vecs_rows = np.zeros(shape=(self.n_rows, self.n_factors))\n",
        "          self.vecs_cols = np.zeros(shape=(self.n_cols, self.n_factors))        \n",
        "        else:\n",
        "          self.vecs_rows = np.random.normal(scale=1./self.n_factors,\\\n",
        "                                            size=(self.n_rows, self.n_factors))\n",
        "          self.vecs_cols = np.random.normal(scale=1./self.n_factors,\n",
        "                                            size=(self.n_cols, self.n_factors))\n",
        "        if self.context_aware:\n",
        "          # we support a single context var with 2 possible values, no unknown\n",
        "          self.context_vars = np.random.normal(scale=1./self.n_factors,\n",
        "                                              size=(self.n_cols, 2))\n",
        "        else:\n",
        "          self.context_vars = np.zeros(shape=(self.n_cols, 2))\n",
        "        self.recommended = ratings.copy()\n",
        "        self.recommended[:] = 0\n",
        "        # initilize bias\n",
        "        self.bias_global = self.original_bias_global   # no need to learn it\n",
        "        self.bias_rows   = np.random.normal(scale=1./self.n_factors,\\\n",
        "                                          size=(self.n_rows)) # random\n",
        "        self.bias_cols   = np.random.normal(scale=1./self.n_factors,\\\n",
        "                                          size=(self.n_cols)) # random\n",
        "            \n",
        "        \n",
        "    def fit(self,\n",
        "            n_iterations=1,\n",
        "            learning_rate=1e-1,\n",
        "            regularization=1e-2,\n",
        "            convergence=1e-5,\n",
        "            error='RMSE',\n",
        "            initilize_training=True,\n",
        "            verbose=True,\n",
        "            batch_size = 5):\n",
        "        \n",
        "        self.n_iterations = n_iterations\n",
        "        self.α = learning_rate\n",
        "        self.λ = regularization\n",
        "        self.ϵ = convergence\n",
        "        self.error = error\n",
        "        self.batch_size = batch_size\n",
        "\n",
        "        if initilize_training:\n",
        "            self.initilize_params()\n",
        "\n",
        "           \n",
        "        # please record your progress in history\n",
        "        self.history = []\n",
        "                  \n",
        "        # please record the training time in fit_time\n",
        "        start = time.time()\n",
        "\n",
        "        # please use the class functions \n",
        "        # for example(!) :\n",
        "        if verbose:\n",
        "          print(f\"training on {len(self.non_zero_indices)} non zero indices\")\n",
        "        for current_iteration in range(self.n_iterations):\n",
        "            \n",
        "            # None ?\n",
        "            self.recommended[:] = self.predict_all()\n",
        "            self.history.append(self.get_rmse(self.df_train))\n",
        "            \n",
        "            # printing\n",
        "            if verbose:\n",
        "                print('iteration: ',current_iteration,' total error:\\n',self.history[-1])\n",
        "            \n",
        "            # convergence\n",
        "            if current_iteration>1 and self.converging():\n",
        "                \n",
        "                if verbose:\n",
        "                    print('converged...')\n",
        "                break\n",
        "            self.training_indices = np.arange(len(self.non_zero_indices))\n",
        "            np.random.shuffle(self.training_indices)\n",
        "            self.optim_GD()\n",
        "        self.recommended[:] = self.predict_all()\n",
        "        self.fit_time = time.time() - start\n",
        "    \n",
        "    def converging(self):\n",
        "        return abs(self.history[-2] - self.history[-1]) < self.ϵ\n",
        "\n",
        "                  \n",
        "    def optim_GD(self):        \n",
        "        delta_vecs_rows, delta_bias_rows, \\\n",
        "          delta_vecs_cols, delta_bias_cols, delta_context_vars = self.zero_grads()\n",
        "        n_in_batch = 0\n",
        "        for s_idx, s in enumerate(self.training_indices):\n",
        "            if n_in_batch == self.batch_size or (s_idx == len(self.training_indices) - 1 and n_in_batch > 0):\n",
        "              delta_vecs_rows /= n_in_batch\n",
        "              delta_bias_rows /= n_in_batch\n",
        "              delta_vecs_cols /= n_in_batch\n",
        "              delta_bias_cols /= n_in_batch\n",
        "              delta_context_vars /= n_in_batch\n",
        "              self.step_rows(delta_vecs_rows, delta_bias_rows)\n",
        "              self.step_cols(delta_vecs_cols, delta_bias_cols)\n",
        "              self.step_context_vars(delta_context_vars)\n",
        "              delta_vecs_rows, delta_bias_rows, \\\n",
        "                delta_vecs_cols, delta_bias_cols, delta_context_vars = self.zero_grads()\n",
        "              n_in_batch = 0\n",
        "            n_in_batch += 1\n",
        "            u, i = self.non_zero_indices[s]\n",
        "            e = self.df_train.values[u,i] - self.predict_single(u, i) # error\n",
        "            if not self.only_bias:\n",
        "              delta_vecs_rows[u, :] += self.α * \\\n",
        "                                      (e * self.vecs_cols[i, :] - \\\n",
        "                                        self.λ * self.vecs_rows[u,:])\n",
        "              delta_vecs_cols[i, :] += self.α * \\\n",
        "                                      (e * self.vecs_rows[u, :] - \\\n",
        "                                        self.λ * self.vecs_cols[i,:])\n",
        "            if self.context_aware:\n",
        "              c = int(self.df_context.values[u,i])\n",
        "              delta_context_vars[i, c] += self.α * \\\n",
        "                                      (e - self.λ * self.context_vars[i, c])\n",
        "            \n",
        "            # Update biases\n",
        "            delta_bias_rows[u] += self.α * \\\n",
        "                                (e - self.λ * self.bias_rows[u])\n",
        "            delta_bias_cols[i] += self.α * \\\n",
        "                                (e - self.λ * self.bias_cols[i])\n",
        "\n",
        "    def zero_grads(self):\n",
        "        delta_vecs_rows = np.zeros(shape=(self.n_rows, self.n_factors))\n",
        "        delta_vecs_cols = np.zeros(shape=(self.n_cols, self.n_factors))\n",
        "        delta_bias_rows = np.zeros(shape=(self.n_rows))\n",
        "        delta_bias_cols = np.zeros(shape=(self.n_cols))\n",
        "        delta_context_vars = np.zeros(shape=(self.n_cols, 2))\n",
        "        return delta_vecs_rows, delta_bias_rows, \\\n",
        "                delta_vecs_cols, delta_bias_cols, delta_context_vars\n",
        "\n",
        "    def step_rows(self, delta_vecs_rows, delta_bias_rows):\n",
        "        self.vecs_rows += delta_vecs_rows\n",
        "        self.bias_rows += delta_bias_rows\n",
        "                  \n",
        "    def step_cols(self, delta_vecs_cols, delta_bias_cols):\n",
        "        self.vecs_cols += delta_vecs_cols\n",
        "        self.bias_cols += delta_bias_cols\n",
        "\n",
        "    def step_context_vars(self, delta_context_vars):\n",
        "        self.context_vars += delta_context_vars\n",
        "\n",
        "    def predict_all(self):\n",
        "        predicted = self.vecs_rows @ self.vecs_cols.T \n",
        "        predicted += self.bias_global \n",
        "        predicted += self.bias_cols.reshape(1, self.n_cols) # broadcast\n",
        "        predicted += self.bias_rows.reshape(self.n_rows, 1) # broadcast\n",
        "        for u, i in self.non_zero_indices + self.test_non_zero_indices:\n",
        "          c = int(self.df_context.values[u,i])\n",
        "          predicted[u, i] += self.context_vars[i, c]\n",
        "        \n",
        "        return predicted\n",
        "\n",
        "    def predict_single(self, u, i):\n",
        "        \"\"\" Single user and item prediction. \"\"\"\n",
        "        c = int(self.df_context.values[u,i])\n",
        "        return self.vecs_rows[u, :].dot(self.vecs_cols[i, :].T) + self.bias_global + self.bias_cols[i] + self.bias_rows[u] + self.context_vars[i, c]\n",
        "\n",
        "    def predict(self,N=10):\n",
        "        pass\n",
        "        \n",
        "        \n",
        "    def get_rmse(self,test, debug=False):\n",
        "        return my_metrics.RMSE(test, self.recommended, debug=debug)\n",
        "\n",
        "    def get_mae(self,test):\n",
        "        return my_metrics.MAE(test, self.recommended)\n",
        "    \n",
        "    def get_mrr(self,test,k=10,threshold=3):\n",
        "        return my_metrics.MRR(test, self.recommended)\n",
        "    \n",
        "    def get_ndcg(self,test,k=5):\n",
        "        return my_metrics.NDCG(test, self.recommended)\n"
      ]
    },
    {
      "cell_type": "markdown",
      "metadata": {
        "id": "IJXT85m9njZt"
      },
      "source": [
        "Checking your model and performance:"
      ]
    },
    {
      "cell_type": "code",
      "execution_count": null,
      "metadata": {
        "colab": {
          "base_uri": "https://localhost:8080/",
          "height": 494
        },
        "id": "ulO6NLY2njZu",
        "outputId": "d6626b4e-8c00-4474-b0fd-ebaf90263409"
      },
      "outputs": [
        {
          "name": "stdout",
          "output_type": "stream",
          "text": [
            "non_zero_indices 211231\n",
            "training on 211231 non zero indices\n",
            "iteration:  0  total error:\n",
            " 1.2177060514896907\n",
            "iteration:  1  total error:\n",
            " 1.0452005231477883\n",
            "iteration:  2  total error:\n",
            " 1.0244711293125426\n",
            "iteration:  3  total error:\n",
            " 1.0126743035873744\n",
            "iteration:  4  total error:\n",
            " 1.0066285048324748\n",
            "iteration:  5  total error:\n",
            " 1.0010535929150215\n",
            "iteration:  6  total error:\n",
            " 0.9987724808383465\n",
            "iteration:  7  total error:\n",
            " 0.9967607097944363\n",
            "iteration:  8  total error:\n",
            " 0.9948860005816111\n",
            "iteration:  9  total error:\n",
            " 0.9931041558934522\n"
          ]
        },
        {
          "data": {
            "text/html": [
              "\n",
              "  <div id=\"df-41fc47a0-8f13-4bb4-b1d4-7156b5b66a7a\">\n",
              "    <div class=\"colab-df-container\">\n",
              "      <div>\n",
              "<style scoped>\n",
              "    .dataframe tbody tr th:only-of-type {\n",
              "        vertical-align: middle;\n",
              "    }\n",
              "\n",
              "    .dataframe tbody tr th {\n",
              "        vertical-align: top;\n",
              "    }\n",
              "\n",
              "    .dataframe thead th {\n",
              "        text-align: right;\n",
              "    }\n",
              "</style>\n",
              "<table border=\"1\" class=\"dataframe\">\n",
              "  <thead>\n",
              "    <tr style=\"text-align: right;\">\n",
              "      <th></th>\n",
              "      <th>Method</th>\n",
              "      <th>Time</th>\n",
              "      <th>RMSE</th>\n",
              "      <th>MAE</th>\n",
              "      <th>MRR_5</th>\n",
              "      <th>MRR_10</th>\n",
              "      <th>NDCG_5</th>\n",
              "      <th>NDCG_10</th>\n",
              "    </tr>\n",
              "  </thead>\n",
              "  <tbody>\n",
              "    <tr>\n",
              "      <th>0</th>\n",
              "      <td>Popularity</td>\n",
              "      <td>3.443930</td>\n",
              "      <td>2.092312</td>\n",
              "      <td>1.414601</td>\n",
              "      <td>0.852858</td>\n",
              "      <td>0.852931</td>\n",
              "      <td>0.955687</td>\n",
              "      <td>0.961748</td>\n",
              "    </tr>\n",
              "    <tr>\n",
              "      <th>1</th>\n",
              "      <td>CAMF</td>\n",
              "      <td>952.401991</td>\n",
              "      <td>0.998442</td>\n",
              "      <td>0.762782</td>\n",
              "      <td>0.599047</td>\n",
              "      <td>0.599047</td>\n",
              "      <td>0.955499</td>\n",
              "      <td>0.955499</td>\n",
              "    </tr>\n",
              "  </tbody>\n",
              "</table>\n",
              "</div>\n",
              "      <button class=\"colab-df-convert\" onclick=\"convertToInteractive('df-41fc47a0-8f13-4bb4-b1d4-7156b5b66a7a')\"\n",
              "              title=\"Convert this dataframe to an interactive table.\"\n",
              "              style=\"display:none;\">\n",
              "        \n",
              "  <svg xmlns=\"http://www.w3.org/2000/svg\" height=\"24px\"viewBox=\"0 0 24 24\"\n",
              "       width=\"24px\">\n",
              "    <path d=\"M0 0h24v24H0V0z\" fill=\"none\"/>\n",
              "    <path d=\"M18.56 5.44l.94 2.06.94-2.06 2.06-.94-2.06-.94-.94-2.06-.94 2.06-2.06.94zm-11 1L8.5 8.5l.94-2.06 2.06-.94-2.06-.94L8.5 2.5l-.94 2.06-2.06.94zm10 10l.94 2.06.94-2.06 2.06-.94-2.06-.94-.94-2.06-.94 2.06-2.06.94z\"/><path d=\"M17.41 7.96l-1.37-1.37c-.4-.4-.92-.59-1.43-.59-.52 0-1.04.2-1.43.59L10.3 9.45l-7.72 7.72c-.78.78-.78 2.05 0 2.83L4 21.41c.39.39.9.59 1.41.59.51 0 1.02-.2 1.41-.59l7.78-7.78 2.81-2.81c.8-.78.8-2.07 0-2.86zM5.41 20L4 18.59l7.72-7.72 1.47 1.35L5.41 20z\"/>\n",
              "  </svg>\n",
              "      </button>\n",
              "      \n",
              "  <style>\n",
              "    .colab-df-container {\n",
              "      display:flex;\n",
              "      flex-wrap:wrap;\n",
              "      gap: 12px;\n",
              "    }\n",
              "\n",
              "    .colab-df-convert {\n",
              "      background-color: #E8F0FE;\n",
              "      border: none;\n",
              "      border-radius: 50%;\n",
              "      cursor: pointer;\n",
              "      display: none;\n",
              "      fill: #1967D2;\n",
              "      height: 32px;\n",
              "      padding: 0 0 0 0;\n",
              "      width: 32px;\n",
              "    }\n",
              "\n",
              "    .colab-df-convert:hover {\n",
              "      background-color: #E2EBFA;\n",
              "      box-shadow: 0px 1px 2px rgba(60, 64, 67, 0.3), 0px 1px 3px 1px rgba(60, 64, 67, 0.15);\n",
              "      fill: #174EA6;\n",
              "    }\n",
              "\n",
              "    [theme=dark] .colab-df-convert {\n",
              "      background-color: #3B4455;\n",
              "      fill: #D2E3FC;\n",
              "    }\n",
              "\n",
              "    [theme=dark] .colab-df-convert:hover {\n",
              "      background-color: #434B5C;\n",
              "      box-shadow: 0px 1px 3px 1px rgba(0, 0, 0, 0.15);\n",
              "      filter: drop-shadow(0px 1px 2px rgba(0, 0, 0, 0.3));\n",
              "      fill: #FFFFFF;\n",
              "    }\n",
              "  </style>\n",
              "\n",
              "      <script>\n",
              "        const buttonEl =\n",
              "          document.querySelector('#df-41fc47a0-8f13-4bb4-b1d4-7156b5b66a7a button.colab-df-convert');\n",
              "        buttonEl.style.display =\n",
              "          google.colab.kernel.accessAllowed ? 'block' : 'none';\n",
              "\n",
              "        async function convertToInteractive(key) {\n",
              "          const element = document.querySelector('#df-41fc47a0-8f13-4bb4-b1d4-7156b5b66a7a');\n",
              "          const dataTable =\n",
              "            await google.colab.kernel.invokeFunction('convertToInteractive',\n",
              "                                                     [key], {});\n",
              "          if (!dataTable) return;\n",
              "\n",
              "          const docLinkHtml = 'Like what you see? Visit the ' +\n",
              "            '<a target=\"_blank\" href=https://colab.research.google.com/notebooks/data_table.ipynb>data table notebook</a>'\n",
              "            + ' to learn more about interactive tables.';\n",
              "          element.innerHTML = '';\n",
              "          dataTable['output_type'] = 'display_data';\n",
              "          await google.colab.output.renderOutput(dataTable, element);\n",
              "          const docLink = document.createElement('div');\n",
              "          docLink.innerHTML = docLinkHtml;\n",
              "          element.appendChild(docLink);\n",
              "        }\n",
              "      </script>\n",
              "    </div>\n",
              "  </div>\n",
              "  "
            ],
            "text/plain": [
              "       Method        Time      RMSE  ...    MRR_10    NDCG_5   NDCG_10\n",
              "0  Popularity    3.443930  2.092312  ...  0.852931  0.955687  0.961748\n",
              "1        CAMF  952.401991  0.998442  ...  0.599047  0.955499  0.955499\n",
              "\n",
              "[2 rows x 8 columns]"
            ]
          },
          "execution_count": 37,
          "metadata": {},
          "output_type": "execute_result"
        }
      ],
      "source": [
        "# create MF model\n",
        "model_camf = MF(train,df_context,n_factors=20,only_bias=False,context_aware=True, non_zero_indices=df_ratings_train, test_non_zero_indices=df_ratings_test)\n",
        "\n",
        "# train model\n",
        "model_camf.fit(n_iterations=10,verbose=True,regularization=1.0,convergence=1e-3,learning_rate=0.1,\\\n",
        "                   batch_size=5)\n",
        "\n",
        "# record model results\n",
        "final_results.loc[len(final_results)] = 'CAMF', model_camf.fit_time, model_camf.get_rmse(test), model_camf.get_mae(test), model_camf.get_mrr(test,k=5), model_camf.get_mrr(test,k=10), model_camf.get_ndcg(test,k=5), model_camf.get_ndcg(test,k=10)\n",
        "\n",
        "# display\n",
        "final_results"
      ]
    },
    {
      "cell_type": "code",
      "execution_count": null,
      "metadata": {
        "colab": {
          "base_uri": "https://localhost:8080/"
        },
        "id": "NzFU-AvKNJgm",
        "outputId": "b361ab4c-8dca-4e57-c354-806d44195e77"
      },
      "outputs": [
        {
          "data": {
            "text/plain": [
              "array([[-0.02682234,  0.11019612],\n",
              "       [-0.1070688 ,  0.03890099],\n",
              "       [-0.05889327,  0.00453315],\n",
              "       ...,\n",
              "       [ 0.06000955, -0.47816018],\n",
              "       [ 0.13091395, -0.5022855 ],\n",
              "       [ 0.27425091, -0.01123462]])"
            ]
          },
          "execution_count": 38,
          "metadata": {},
          "output_type": "execute_result"
        }
      ],
      "source": [
        "model_camf.context_vars"
      ]
    },
    {
      "cell_type": "code",
      "execution_count": null,
      "metadata": {
        "colab": {
          "base_uri": "https://localhost:8080/",
          "height": 473
        },
        "id": "yE9IhtfxGWXO",
        "outputId": "518a3f5f-5d4e-41ff-85b8-dff680035641"
      },
      "outputs": [
        {
          "name": "stdout",
          "output_type": "stream",
          "text": [
            "non_zero_indices 211231\n",
            "training on 211231 non zero indices\n",
            "iteration:  0  total error:\n",
            " 1.2230004433512278\n",
            "iteration:  1  total error:\n",
            " 1.0655414337001565\n",
            "iteration:  2  total error:\n",
            " 1.0457139556594692\n",
            "iteration:  3  total error:\n",
            " 1.037291871579277\n",
            "iteration:  4  total error:\n",
            " 1.0326357098680548\n",
            "iteration:  5  total error:\n",
            " 1.0285120891705997\n",
            "iteration:  6  total error:\n",
            " 1.023952226311486\n",
            "iteration:  7  total error:\n",
            " 1.0242178836504068\n",
            "converged...\n"
          ]
        },
        {
          "data": {
            "text/html": [
              "\n",
              "  <div id=\"df-053ad8c3-d785-49d5-bc8a-44193ab266fe\">\n",
              "    <div class=\"colab-df-container\">\n",
              "      <div>\n",
              "<style scoped>\n",
              "    .dataframe tbody tr th:only-of-type {\n",
              "        vertical-align: middle;\n",
              "    }\n",
              "\n",
              "    .dataframe tbody tr th {\n",
              "        vertical-align: top;\n",
              "    }\n",
              "\n",
              "    .dataframe thead th {\n",
              "        text-align: right;\n",
              "    }\n",
              "</style>\n",
              "<table border=\"1\" class=\"dataframe\">\n",
              "  <thead>\n",
              "    <tr style=\"text-align: right;\">\n",
              "      <th></th>\n",
              "      <th>Method</th>\n",
              "      <th>Time</th>\n",
              "      <th>RMSE</th>\n",
              "      <th>MAE</th>\n",
              "      <th>MRR_5</th>\n",
              "      <th>MRR_10</th>\n",
              "      <th>NDCG_5</th>\n",
              "      <th>NDCG_10</th>\n",
              "    </tr>\n",
              "  </thead>\n",
              "  <tbody>\n",
              "    <tr>\n",
              "      <th>0</th>\n",
              "      <td>Popularity</td>\n",
              "      <td>3.443930</td>\n",
              "      <td>2.092312</td>\n",
              "      <td>1.414601</td>\n",
              "      <td>0.852858</td>\n",
              "      <td>0.852931</td>\n",
              "      <td>0.955687</td>\n",
              "      <td>0.961748</td>\n",
              "    </tr>\n",
              "    <tr>\n",
              "      <th>1</th>\n",
              "      <td>CAMF</td>\n",
              "      <td>952.401991</td>\n",
              "      <td>0.998442</td>\n",
              "      <td>0.762782</td>\n",
              "      <td>0.599047</td>\n",
              "      <td>0.599047</td>\n",
              "      <td>0.955499</td>\n",
              "      <td>0.955499</td>\n",
              "    </tr>\n",
              "    <tr>\n",
              "      <th>2</th>\n",
              "      <td>MF</td>\n",
              "      <td>326.177981</td>\n",
              "      <td>1.002075</td>\n",
              "      <td>0.768080</td>\n",
              "      <td>0.605912</td>\n",
              "      <td>0.605912</td>\n",
              "      <td>0.957952</td>\n",
              "      <td>0.957952</td>\n",
              "    </tr>\n",
              "  </tbody>\n",
              "</table>\n",
              "</div>\n",
              "      <button class=\"colab-df-convert\" onclick=\"convertToInteractive('df-053ad8c3-d785-49d5-bc8a-44193ab266fe')\"\n",
              "              title=\"Convert this dataframe to an interactive table.\"\n",
              "              style=\"display:none;\">\n",
              "        \n",
              "  <svg xmlns=\"http://www.w3.org/2000/svg\" height=\"24px\"viewBox=\"0 0 24 24\"\n",
              "       width=\"24px\">\n",
              "    <path d=\"M0 0h24v24H0V0z\" fill=\"none\"/>\n",
              "    <path d=\"M18.56 5.44l.94 2.06.94-2.06 2.06-.94-2.06-.94-.94-2.06-.94 2.06-2.06.94zm-11 1L8.5 8.5l.94-2.06 2.06-.94-2.06-.94L8.5 2.5l-.94 2.06-2.06.94zm10 10l.94 2.06.94-2.06 2.06-.94-2.06-.94-.94-2.06-.94 2.06-2.06.94z\"/><path d=\"M17.41 7.96l-1.37-1.37c-.4-.4-.92-.59-1.43-.59-.52 0-1.04.2-1.43.59L10.3 9.45l-7.72 7.72c-.78.78-.78 2.05 0 2.83L4 21.41c.39.39.9.59 1.41.59.51 0 1.02-.2 1.41-.59l7.78-7.78 2.81-2.81c.8-.78.8-2.07 0-2.86zM5.41 20L4 18.59l7.72-7.72 1.47 1.35L5.41 20z\"/>\n",
              "  </svg>\n",
              "      </button>\n",
              "      \n",
              "  <style>\n",
              "    .colab-df-container {\n",
              "      display:flex;\n",
              "      flex-wrap:wrap;\n",
              "      gap: 12px;\n",
              "    }\n",
              "\n",
              "    .colab-df-convert {\n",
              "      background-color: #E8F0FE;\n",
              "      border: none;\n",
              "      border-radius: 50%;\n",
              "      cursor: pointer;\n",
              "      display: none;\n",
              "      fill: #1967D2;\n",
              "      height: 32px;\n",
              "      padding: 0 0 0 0;\n",
              "      width: 32px;\n",
              "    }\n",
              "\n",
              "    .colab-df-convert:hover {\n",
              "      background-color: #E2EBFA;\n",
              "      box-shadow: 0px 1px 2px rgba(60, 64, 67, 0.3), 0px 1px 3px 1px rgba(60, 64, 67, 0.15);\n",
              "      fill: #174EA6;\n",
              "    }\n",
              "\n",
              "    [theme=dark] .colab-df-convert {\n",
              "      background-color: #3B4455;\n",
              "      fill: #D2E3FC;\n",
              "    }\n",
              "\n",
              "    [theme=dark] .colab-df-convert:hover {\n",
              "      background-color: #434B5C;\n",
              "      box-shadow: 0px 1px 3px 1px rgba(0, 0, 0, 0.15);\n",
              "      filter: drop-shadow(0px 1px 2px rgba(0, 0, 0, 0.3));\n",
              "      fill: #FFFFFF;\n",
              "    }\n",
              "  </style>\n",
              "\n",
              "      <script>\n",
              "        const buttonEl =\n",
              "          document.querySelector('#df-053ad8c3-d785-49d5-bc8a-44193ab266fe button.colab-df-convert');\n",
              "        buttonEl.style.display =\n",
              "          google.colab.kernel.accessAllowed ? 'block' : 'none';\n",
              "\n",
              "        async function convertToInteractive(key) {\n",
              "          const element = document.querySelector('#df-053ad8c3-d785-49d5-bc8a-44193ab266fe');\n",
              "          const dataTable =\n",
              "            await google.colab.kernel.invokeFunction('convertToInteractive',\n",
              "                                                     [key], {});\n",
              "          if (!dataTable) return;\n",
              "\n",
              "          const docLinkHtml = 'Like what you see? Visit the ' +\n",
              "            '<a target=\"_blank\" href=https://colab.research.google.com/notebooks/data_table.ipynb>data table notebook</a>'\n",
              "            + ' to learn more about interactive tables.';\n",
              "          element.innerHTML = '';\n",
              "          dataTable['output_type'] = 'display_data';\n",
              "          await google.colab.output.renderOutput(dataTable, element);\n",
              "          const docLink = document.createElement('div');\n",
              "          docLink.innerHTML = docLinkHtml;\n",
              "          element.appendChild(docLink);\n",
              "        }\n",
              "      </script>\n",
              "    </div>\n",
              "  </div>\n",
              "  "
            ],
            "text/plain": [
              "       Method        Time      RMSE  ...    MRR_10    NDCG_5   NDCG_10\n",
              "0  Popularity    3.443930  2.092312  ...  0.852931  0.955687  0.961748\n",
              "1        CAMF  952.401991  0.998442  ...  0.599047  0.955499  0.955499\n",
              "2          MF  326.177981  1.002075  ...  0.605912  0.957952  0.957952\n",
              "\n",
              "[3 rows x 8 columns]"
            ]
          },
          "execution_count": 39,
          "metadata": {},
          "output_type": "execute_result"
        }
      ],
      "source": [
        "# create MF model\n",
        "model_mf = MF(train,df_context,n_factors=10,only_bias=False,context_aware=False, non_zero_indices=df_ratings_train, test_non_zero_indices=df_ratings_test)\n",
        "\n",
        "# train model\n",
        "model_mf.fit(n_iterations=10,verbose=True,regularization=1.0,convergence=1e-3,learning_rate=0.1,\\\n",
        "                   batch_size=5)\n",
        "\n",
        "# record model results\n",
        "final_results.loc[len(final_results)] = 'MF', model_mf.fit_time, model_mf.get_rmse(test), model_mf.get_mae(test), model_mf.get_mrr(test,k=5), model_mf.get_mrr(test,k=10), model_mf.get_ndcg(test,k=5), model_mf.get_ndcg(test,k=10)\n",
        "\n",
        "# display\n",
        "final_results"
      ]
    },
    {
      "cell_type": "markdown",
      "metadata": {
        "id": "KrgCKWVrnjZu"
      },
      "source": [
        "<br><br><br>\n",
        "\n",
        "# Question 4: \n",
        "## Train & HyperParams Search \n",
        "<br><br><br>\n"
      ]
    },
    {
      "cell_type": "markdown",
      "metadata": {
        "id": "PURFoTCenjZu"
      },
      "source": [
        "### Different choices of the latent factor dimension, regularization, learning rate.\n",
        "and Find best hyperparameters using K-folds\n",
        "\n",
        "\n",
        "While running of these permutations:\n",
        "\n",
        "    - n_iterations   = [20]     \n",
        "    - convergence    = [1e-5]    \n",
        "    - latent_factors = [5,10,20]    \n",
        "    - regularization = [0.01,0.1,1]    \n",
        "    - learning_rate  = [0.001,0.01,0.1]    \n",
        "\n",
        "and averaging the K-folds results the metrics..."
      ]
    },
    {
      "cell_type": "code",
      "execution_count": null,
      "metadata": {
        "colab": {
          "background_save": true,
          "base_uri": "https://localhost:8080/"
        },
        "id": "uDK5BLCDnjZu",
        "outputId": "8c43d6cd-b9d0-45fc-d6ed-f452ec9ddf4b"
      },
      "outputs": [
        {
          "name": "stdout",
          "output_type": "stream",
          "text": [
            "running experiment i=0, {'Iterations': 10, 'Latent_factors': 5, 'Learning_Rate': 0.001, 'Regularization': 0.01, 'Convergence': 1e-05, 'Batch_size': 5, 'Only_Bias': False, 'Experiment': 0}\n",
            "non_zero_indices 211231\n",
            "0 2022-02-10 17:22:26.085667 {'RMSE': 1.0923285163842635, 'MAE': 0.8416211412438459, 'MRR_5': 0.5874548866753283, 'MRR_10': 0.5874548866753283, 'NDCG_5': 0.9465000431481403, 'NDCG_10': 0.9465000431481403, 'History': [1.261283174606488, 1.2250180662255832, 1.2048543925080297, 1.190892292717122, 1.1801912272976283, 1.1714741425073254, 1.164101559032111, 1.1576769222871157, 1.1519646816635698, 1.1468120053111308]}\n",
            "running experiment i=1, {'Iterations': 10, 'Latent_factors': 5, 'Learning_Rate': 0.001, 'Regularization': 0.01, 'Convergence': 0.001, 'Batch_size': 5, 'Only_Bias': False, 'Experiment': 1}\n",
            "non_zero_indices 211231\n",
            "1 2022-02-10 17:29:01.226065 {'RMSE': 1.0831930734358448, 'MAE': 0.8334567167092075, 'MRR_5': 0.5970983109571242, 'MRR_10': 0.5970983109571242, 'NDCG_5': 0.9495166571850564, 'NDCG_10': 0.9495166571850564, 'History': [1.2685401150675715, 1.2315498619650755, 1.2103064000214172, 1.195595931387634, 1.1843430006800997, 1.175213305515971, 1.1675130766241257, 1.1608298810346047, 1.1549184320728192, 1.1496081177644788]}\n",
            "running experiment i=2, {'Iterations': 10, 'Latent_factors': 5, 'Learning_Rate': 0.001, 'Regularization': 0.1, 'Convergence': 1e-05, 'Batch_size': 5, 'Only_Bias': False, 'Experiment': 2}\n",
            "non_zero_indices 211231\n",
            "2 2022-02-10 17:35:39.473021 {'RMSE': 1.0929712513607492, 'MAE': 0.8349918279465816, 'MRR_5': 0.5960516818247436, 'MRR_10': 0.5960516818247436, 'NDCG_5': 0.9504000680713675, 'NDCG_10': 0.9504000680713675, 'History': [1.271556003960606, 1.2314170586212285, 1.209081202655559, 1.1939281459639592, 1.1824753526999638, 1.1732410657980832, 1.1654791598885148, 1.1587643576084516, 1.1528402536188354, 1.1475358070059303]}\n",
            "running experiment i=3, {'Iterations': 10, 'Latent_factors': 5, 'Learning_Rate': 0.001, 'Regularization': 0.1, 'Convergence': 0.001, 'Batch_size': 5, 'Only_Bias': False, 'Experiment': 3}\n",
            "non_zero_indices 211231\n",
            "3 2022-02-10 17:42:22.324975 {'RMSE': 1.0904202309440232, 'MAE': 0.8361055966502441, 'MRR_5': 0.5907247004475242, 'MRR_10': 0.5907247004475242, 'NDCG_5': 0.9489184868666066, 'NDCG_10': 0.9489184868666066, 'History': [1.2598132248702627, 1.223758074822167, 1.2039117970335411, 1.1904258983449962, 1.1801575697905373, 1.171774366822785, 1.164641057948844, 1.1583848059409332, 1.1528043531537708, 1.1477530310131052]}\n",
            "running experiment i=4, {'Iterations': 10, 'Latent_factors': 5, 'Learning_Rate': 0.001, 'Regularization': 1, 'Convergence': 1e-05, 'Batch_size': 5, 'Only_Bias': False, 'Experiment': 4}\n",
            "non_zero_indices 211231\n",
            "4 2022-02-10 17:49:17.689320 {'RMSE': 1.0860792294354222, 'MAE': 0.8342420422736058, 'MRR_5': 0.5871228526057456, 'MRR_10': 0.5871228526057456, 'NDCG_5': 0.946387035610284, 'NDCG_10': 0.946387035610284, 'History': [1.2698739595208492, 1.227608870769078, 1.2065205900177127, 1.1926844471094762, 1.182369168412363, 1.174139307730129, 1.1672176734122994, 1.1612512251528533, 1.155952780125138, 1.151252298208333]}\n",
            "running experiment i=5, {'Iterations': 10, 'Latent_factors': 5, 'Learning_Rate': 0.001, 'Regularization': 1, 'Convergence': 0.001, 'Batch_size': 5, 'Only_Bias': False, 'Experiment': 5}\n",
            "non_zero_indices 211231\n",
            "5 2022-02-10 17:56:00.396565 {'RMSE': 1.0912765151440096, 'MAE': 0.8374488289642146, 'MRR_5': 0.5921394543092249, 'MRR_10': 0.5921394543092249, 'NDCG_5': 0.9484305764899174, 'NDCG_10': 0.9484305764899174, 'History': [1.2768545287470185, 1.2282128627718372, 1.206311499778279, 1.1924939830988697, 1.1823466412509767, 1.1742936855937212, 1.1675982740726552, 1.1618225191799751, 1.156727454076412, 1.152135416660066]}\n",
            "running experiment i=6, {'Iterations': 10, 'Latent_factors': 5, 'Learning_Rate': 0.01, 'Regularization': 0.01, 'Convergence': 1e-05, 'Batch_size': 5, 'Only_Bias': False, 'Experiment': 6}\n",
            "non_zero_indices 211231\n",
            "6 2022-02-10 18:02:38.191825 {'RMSE': 1.003494303837989, 'MAE': 0.7503224439904421, 'MRR_5': 0.6037029016890428, 'MRR_10': 0.6037029016890428, 'NDCG_5': 0.9568712280216619, 'NDCG_10': 0.9568712280216619, 'History': [1.2602246708340543, 1.1434409792444893, 1.1098994696466553, 1.0886828368020862, 1.0729000168620808, 1.0603213060783967, 1.0497759334551287, 1.040821672798672, 1.0329432208297782, 1.0259740817971348]}\n",
            "running experiment i=7, {'Iterations': 10, 'Latent_factors': 5, 'Learning_Rate': 0.01, 'Regularization': 0.01, 'Convergence': 0.001, 'Batch_size': 5, 'Only_Bias': False, 'Experiment': 7}\n",
            "non_zero_indices 211231\n",
            "7 2022-02-10 18:09:11.255652 {'RMSE': 1.0020199993526757, 'MAE': 0.7491745421082208, 'MRR_5': 0.609268081420528, 'MRR_10': 0.609268081420528, 'NDCG_5': 0.9590574834611614, 'NDCG_10': 0.9590574834611614, 'History': [1.2650346323454567, 1.1404309285682859, 1.1079894351942294, 1.0872496531122025, 1.0718133474902318, 1.0593687407961054, 1.049059064115318, 1.0402877048879173, 1.0324183639038946, 1.0255934338991453]}\n",
            "running experiment i=8, {'Iterations': 10, 'Latent_factors': 5, 'Learning_Rate': 0.01, 'Regularization': 0.1, 'Convergence': 1e-05, 'Batch_size': 5, 'Only_Bias': False, 'Experiment': 8}\n",
            "non_zero_indices 211231\n",
            "8 2022-02-10 18:15:37.532658 {'RMSE': 1.0044423798557283, 'MAE': 0.7508698342901431, 'MRR_5': 0.6042875703767864, 'MRR_10': 0.6042875703767864, 'NDCG_5': 0.9556752928587261, 'NDCG_10': 0.9556752928587261, 'History': [1.2619722601910688, 1.1409598662606002, 1.1085224114269085, 1.0879839405369924, 1.0727225864684609, 1.0605519048329906, 1.0502862488073497, 1.041678055820381, 1.0341932361235562, 1.0275229279424654]}\n",
            "running experiment i=9, {'Iterations': 10, 'Latent_factors': 5, 'Learning_Rate': 0.01, 'Regularization': 0.1, 'Convergence': 0.001, 'Batch_size': 5, 'Only_Bias': False, 'Experiment': 9}\n",
            "non_zero_indices 211231\n",
            "9 2022-02-10 18:22:11.667627 {'RMSE': 1.0043375976200462, 'MAE': 0.7544339137567696, 'MRR_5': 0.6044824599393674, 'MRR_10': 0.6044824599393674, 'NDCG_5': 0.9572346385385476, 'NDCG_10': 0.9572346385385476, 'History': [1.2730132935949694, 1.1460622040701829, 1.1120363779387252, 1.0905984938067816, 1.07472923261317, 1.0621914358271853, 1.05180997456894, 1.0430152259739636, 1.0354264119214476, 1.0287919461810153]}\n",
            "running experiment i=10, {'Iterations': 10, 'Latent_factors': 5, 'Learning_Rate': 0.01, 'Regularization': 1, 'Convergence': 1e-05, 'Batch_size': 5, 'Only_Bias': False, 'Experiment': 10}\n",
            "non_zero_indices 211231\n",
            "10 2022-02-10 18:29:08.144816 {'RMSE': 1.0127356914411887, 'MAE': 0.7710107552616661, 'MRR_5': 0.6027428901400316, 'MRR_10': 0.6027428901400316, 'NDCG_5': 0.9561618998783858, 'NDCG_10': 0.9561618998783858, 'History': [1.2555375705354364, 1.1486210005659632, 1.1199835435872574, 1.102042806752196, 1.0889899017210463, 1.0789165792543463, 1.0706714141965685, 1.0638465439663376, 1.057884581432694, 1.05304449242282]}\n",
            "running experiment i=11, {'Iterations': 10, 'Latent_factors': 5, 'Learning_Rate': 0.01, 'Regularization': 1, 'Convergence': 0.001, 'Batch_size': 5, 'Only_Bias': False, 'Experiment': 11}\n",
            "non_zero_indices 211231\n",
            "11 2022-02-10 18:35:41.632576 {'RMSE': 1.0174430586086751, 'MAE': 0.773027182895804, 'MRR_5': 0.5977551609643422, 'MRR_10': 0.5977551609643422, 'NDCG_5': 0.9528340388395237, 'NDCG_10': 0.9528340388395237, 'History': [1.2705308079232163, 1.1490186219441219, 1.1193893449795234, 1.101425897572625, 1.088973357765403, 1.0782829925575679, 1.0697779894524466, 1.0633362700232736, 1.0580711837212777, 1.0530614714027695]}\n",
            "running experiment i=12, {'Iterations': 10, 'Latent_factors': 5, 'Learning_Rate': 0.1, 'Regularization': 0.01, 'Convergence': 1e-05, 'Batch_size': 5, 'Only_Bias': False, 'Experiment': 12}\n",
            "non_zero_indices 211231\n",
            "12 2022-02-10 18:42:23.431687 {'RMSE': 1.0166875764475272, 'MAE': 0.7486719799290317, 'MRR_5': 0.5954742312689476, 'MRR_10': 0.5954742312689476, 'NDCG_5': 0.9523122034233172, 'NDCG_10': 0.9523122034233172, 'History': [1.255781961741234, 1.0231296823947833, 0.9825595414648656, 0.9578130804531332, 0.9357539299679124, 0.9113777777210792, 0.8887281959184374, 0.8669613643937981, 0.846552147445062, 0.8280223633496794]}\n",
            "running experiment i=13, {'Iterations': 10, 'Latent_factors': 5, 'Learning_Rate': 0.1, 'Regularization': 0.01, 'Convergence': 0.001, 'Batch_size': 5, 'Only_Bias': False, 'Experiment': 13}\n",
            "non_zero_indices 211231\n",
            "13 2022-02-10 18:49:03.567939 {'RMSE': 1.0327139755310282, 'MAE': 0.7535430115735224, 'MRR_5': 0.5964847697415906, 'MRR_10': 0.5964847697415906, 'NDCG_5': 0.9514174770024256, 'NDCG_10': 0.9514174770024256, 'History': [1.257232458583049, 1.025037089006225, 0.9847984475335587, 0.9614061555129575, 0.9419258119092924, 0.9221359268753678, 0.8983486048785015, 0.8772583902236479, 0.8561987824379017, 0.838125154150731]}\n",
            "running experiment i=14, {'Iterations': 10, 'Latent_factors': 5, 'Learning_Rate': 0.1, 'Regularization': 0.1, 'Convergence': 1e-05, 'Batch_size': 5, 'Only_Bias': False, 'Experiment': 14}\n",
            "non_zero_indices 211231\n",
            "14 2022-02-10 18:55:40.657694 {'RMSE': 0.995475035585479, 'MAE': 0.7395336176870049, 'MRR_5': 0.6012487368269089, 'MRR_10': 0.6012487368269089, 'NDCG_5': 0.9541859957417259, 'NDCG_10': 0.9541859957417259, 'History': [1.2643198669737812, 1.0260142233761755, 0.9884670635715533, 0.9707570706564205, 0.9576473625312268, 0.9480106412849902, 0.9387444787790912, 0.9300246630546023, 0.9207450604467105, 0.9128906462437345]}\n",
            "running experiment i=15, {'Iterations': 10, 'Latent_factors': 5, 'Learning_Rate': 0.1, 'Regularization': 0.1, 'Convergence': 0.001, 'Batch_size': 5, 'Only_Bias': False, 'Experiment': 15}\n",
            "non_zero_indices 211231\n",
            "15 2022-02-10 19:02:10.910380 {'RMSE': 0.9938965518457037, 'MAE': 0.7370119483216118, 'MRR_5': 0.5988162263606176, 'MRR_10': 0.5988162263606176, 'NDCG_5': 0.9538348703857311, 'NDCG_10': 0.9538348703857311, 'History': [1.2745378860890588, 1.0272539006632904, 0.9901098855644341, 0.9713086912225061, 0.9579143800785412, 0.9494606284468533, 0.9398456896601368, 0.93285869196032, 0.9248477729264931, 0.9172117440160423]}\n",
            "running experiment i=16, {'Iterations': 10, 'Latent_factors': 5, 'Learning_Rate': 0.1, 'Regularization': 1, 'Convergence': 1e-05, 'Batch_size': 5, 'Only_Bias': False, 'Experiment': 16}\n",
            "non_zero_indices 211231\n",
            "16 2022-02-10 19:08:53.580758 {'RMSE': 0.9997843668172057, 'MAE': 0.761333152613584, 'MRR_5': 0.6001082719792117, 'MRR_10': 0.6001082719792117, 'NDCG_5': 0.9550847782632539, 'NDCG_10': 0.9550847782632539, 'History': [1.2703799472717847, 1.0507167494589087, 1.0247078296926586, 1.0141207349027141, 1.0066845404418054, 1.0015968969423892, 0.9982379196632448, 0.9964436614236739, 0.9935418137936728, 0.9910836059788017]}\n",
            "running experiment i=17, {'Iterations': 10, 'Latent_factors': 5, 'Learning_Rate': 0.1, 'Regularization': 1, 'Convergence': 0.001, 'Batch_size': 5, 'Only_Bias': False, 'Experiment': 17}\n",
            "non_zero_indices 211231\n",
            "17 2022-02-10 19:15:40.070766 {'RMSE': 1.0025331412914045, 'MAE': 0.7683229831647191, 'MRR_5': 0.5996535296665223, 'MRR_10': 0.5996535296665223, 'NDCG_5': 0.9535814418509142, 'NDCG_10': 0.9535814418509142, 'History': [1.2772945820699562, 1.054199196246114, 1.0265158958742044, 1.0163294059359615, 1.0066095170911975, 1.0044134951860726, 0.99937096573466, 0.9983160465300561, 0.9932240807998913, 0.9911260968848309]}\n",
            "running experiment i=18, {'Iterations': 10, 'Latent_factors': 10, 'Learning_Rate': 0.001, 'Regularization': 0.01, 'Convergence': 1e-05, 'Batch_size': 5, 'Only_Bias': False, 'Experiment': 18}\n",
            "non_zero_indices 211231\n",
            "18 2022-02-10 19:24:14.745355 {'RMSE': 1.0649624873023094, 'MAE': 0.8081897041357213, 'MRR_5': 0.5944131658726721, 'MRR_10': 0.5944131658726721, 'NDCG_5': 0.9492796175154158, 'NDCG_10': 0.9492796175154158, 'History': [1.2301110656601475, 1.1945569666062272, 1.1748318651221648, 1.16168653714926, 1.1519300987393997, 1.1441452404327481, 1.137644800862704, 1.1320413996361725, 1.1270900824330943, 1.1226451175386767]}\n",
            "running experiment i=19, {'Iterations': 10, 'Latent_factors': 10, 'Learning_Rate': 0.001, 'Regularization': 0.01, 'Convergence': 0.001, 'Batch_size': 5, 'Only_Bias': False, 'Experiment': 19}\n",
            "non_zero_indices 211231\n",
            "19 2022-02-10 19:33:08.741997 {'RMSE': 1.0625534376020709, 'MAE': 0.806045602600788, 'MRR_5': 0.5988090082286702, 'MRR_10': 0.5988090082286702, 'NDCG_5': 0.9517614854639302, 'NDCG_10': 0.9517614854639302, 'History': [1.2258404685460687, 1.1928344474423918, 1.1744017305077006, 1.1617451890710946, 1.1521185867500077, 1.1443354820369545, 1.1377812686829605, 1.1321054364477796, 1.1270826841431056, 1.1225692130725247]}\n",
            "running experiment i=20, {'Iterations': 10, 'Latent_factors': 10, 'Learning_Rate': 0.001, 'Regularization': 0.1, 'Convergence': 1e-05, 'Batch_size': 5, 'Only_Bias': False, 'Experiment': 20}\n",
            "non_zero_indices 211231\n",
            "20 2022-02-10 19:41:38.899838 {'RMSE': 1.0620404513886288, 'MAE': 0.8110673561155725, 'MRR_5': 0.6010827197921179, 'MRR_10': 0.6010827197921179, 'NDCG_5': 0.954280240836799, 'NDCG_10': 0.954280240836799, 'History': [1.2215833372335598, 1.1902348609719602, 1.172534544247895, 1.1604575357153075, 1.151340119120109, 1.1439661266133199, 1.1377358961171082, 1.132320100303333, 1.1275163105946064, 1.1231874290595298]}\n",
            "running experiment i=21, {'Iterations': 10, 'Latent_factors': 10, 'Learning_Rate': 0.001, 'Regularization': 0.1, 'Convergence': 0.001, 'Batch_size': 5, 'Only_Bias': False, 'Experiment': 21}\n",
            "non_zero_indices 211231\n",
            "21 2022-02-10 19:50:07.420250 {'RMSE': 1.0648365290939141, 'MAE': 0.8078661144656312, 'MRR_5': 0.5937851883932439, 'MRR_10': 0.5937851883932439, 'NDCG_5': 0.9504186930032047, 'NDCG_10': 0.9504186930032047, 'History': [1.2227263663969814, 1.1914847931461807, 1.1737235913586161, 1.1615950994795008, 1.1523892585424782, 1.1449173427008283, 1.1385835761119985, 1.1330766731376587, 1.1281782106922524, 1.1237674844338317]}\n",
            "running experiment i=22, {'Iterations': 10, 'Latent_factors': 10, 'Learning_Rate': 0.001, 'Regularization': 1, 'Convergence': 1e-05, 'Batch_size': 5, 'Only_Bias': False, 'Experiment': 22}\n",
            "non_zero_indices 211231\n",
            "22 2022-02-10 19:58:51.124449 {'RMSE': 1.06164705332206, 'MAE': 0.8112771596457065, 'MRR_5': 0.6030893604735094, 'MRR_10': 0.6030893604735094, 'NDCG_5': 0.954065176953966, 'NDCG_10': 0.954065176953966, 'History': [1.2259925063252568, 1.1939478035116473, 1.1770914139591246, 1.1658387508317831, 1.1574363855468233, 1.1506785271553144, 1.1450636976255502, 1.1402174431322962, 1.135892181845007, 1.1320876974826515]}\n",
            "running experiment i=23, {'Iterations': 10, 'Latent_factors': 10, 'Learning_Rate': 0.001, 'Regularization': 1, 'Convergence': 0.001, 'Batch_size': 5, 'Only_Bias': False, 'Experiment': 23}\n",
            "non_zero_indices 211231\n",
            "23 2022-02-10 20:08:06.883545 {'RMSE': 1.068654511227293, 'MAE': 0.8136877281689241, 'MRR_5': 0.5923126894759636, 'MRR_10': 0.5923126894759636, 'NDCG_5': 0.9510734502269792, 'NDCG_10': 0.9510734502269792, 'History': [1.2261140329876665, 1.1944859397349432, 1.178202355544686, 1.1671768297077587, 1.1588400949529336, 1.152119466656231, 1.1464021730752263, 1.1415174079208914, 1.1372299251266296, 1.13331838723145]}\n",
            "running experiment i=24, {'Iterations': 10, 'Latent_factors': 10, 'Learning_Rate': 0.01, 'Regularization': 0.01, 'Convergence': 1e-05, 'Batch_size': 5, 'Only_Bias': False, 'Experiment': 24}\n",
            "non_zero_indices 211231\n",
            "24 2022-02-10 20:16:58.690816 {'RMSE': 0.9910543944156525, 'MAE': 0.7464532471685453, 'MRR_5': 0.6079615995380394, 'MRR_10': 0.6079615995380394, 'NDCG_5': 0.9582628926130408, 'NDCG_10': 0.9582628926130408, 'History': [1.231378498063542, 1.1189850495739426, 1.0900701401497488, 1.0718073521726394, 1.058084297513676, 1.047121763314702, 1.0380269394944142, 1.0300993504329592, 1.0232231155390352, 1.0171108029238964]}\n",
            "running experiment i=25, {'Iterations': 10, 'Latent_factors': 10, 'Learning_Rate': 0.01, 'Regularization': 0.01, 'Convergence': 0.001, 'Batch_size': 5, 'Only_Bias': False, 'Experiment': 25}\n",
            "non_zero_indices 211231\n",
            "25 2022-02-10 20:25:49.579641 {'RMSE': 0.9962517286210203, 'MAE': 0.7453104504080571, 'MRR_5': 0.6047423126894758, 'MRR_10': 0.6047423126894758, 'NDCG_5': 0.9567272861725253, 'NDCG_10': 0.9567272861725253, 'History': [1.2252148047924631, 1.119494806604222, 1.0909174691425945, 1.0726222078953676, 1.0588647923592356, 1.0478578059729047, 1.0386307721255257, 1.0306982409151195, 1.023734110265177, 1.0175051478764772]}\n",
            "running experiment i=26, {'Iterations': 10, 'Latent_factors': 10, 'Learning_Rate': 0.01, 'Regularization': 0.1, 'Convergence': 1e-05, 'Batch_size': 5, 'Only_Bias': False, 'Experiment': 26}\n",
            "non_zero_indices 211231\n",
            "26 2022-02-10 20:34:48.396664 {'RMSE': 0.9921554439257848, 'MAE': 0.7437819725696021, 'MRR_5': 0.6084019055868339, 'MRR_10': 0.6084019055868339, 'NDCG_5': 0.9592916295546079, 'NDCG_10': 0.9592916295546079, 'History': [1.2256700683997674, 1.1194863294817732, 1.0912886942277062, 1.0730951807323772, 1.0596051058776639, 1.0489494127807808, 1.0400328369500107, 1.0323066394968454, 1.0256429478685885, 1.0198956425390944]}\n",
            "running experiment i=27, {'Iterations': 10, 'Latent_factors': 10, 'Learning_Rate': 0.01, 'Regularization': 0.1, 'Convergence': 0.001, 'Batch_size': 5, 'Only_Bias': False, 'Experiment': 27}\n",
            "non_zero_indices 211231\n",
            "27 2022-02-10 20:43:52.731771 {'RMSE': 0.989516112228474, 'MAE': 0.740875871201541, 'MRR_5': 0.6079110726144071, 'MRR_10': 0.6079110726144071, 'NDCG_5': 0.9593306659875112, 'NDCG_10': 0.9593306659875112, 'History': [1.2253081577907192, 1.1201331119365892, 1.091689056116563, 1.0735157863386542, 1.0599407868774808, 1.0492796969218812, 1.0402573171335283, 1.0326934060399866, 1.0259951717145048, 1.020116073544788]}\n",
            "running experiment i=28, {'Iterations': 10, 'Latent_factors': 10, 'Learning_Rate': 0.01, 'Regularization': 1, 'Convergence': 1e-05, 'Batch_size': 5, 'Only_Bias': False, 'Experiment': 28}\n",
            "non_zero_indices 211231\n"
          ]
        }
      ],
      "source": [
        "import datetime\n",
        "\n",
        "n_iterations   = [10] # just one value due to computational power\n",
        "convergence    = [1e-5,1e-3]  \n",
        "latent_factors = [5, 10, 20]\n",
        "regularization = [0.01, 0.1, 1]\n",
        "learning_rate  = [0.001, 0.01, 0.1]\n",
        "batch_sizes    = [5]\n",
        "\n",
        "\n",
        "def do_hyperparams_search(mode, only_bias, results_filename):\n",
        "  if mode == \"RESTART\":\n",
        "    results = pd.DataFrame(columns=['Latent_factors','Iterations','Learning_Rate','Regularization','Convergence',\n",
        "                                    'Batch_size', 'Only_Bias', 'Experiment', 'RMSE','MRR_5','MRR_10','NDCG_5','NDCG_10','History','Time'])\n",
        "  else:\n",
        "    results = pd.read_csv(results_filename)\n",
        "    results.loc[:, 'History'] = results['History'].apply(lambda x: eval(x))\n",
        "  if mode == \"USE_EXISTING\":\n",
        "    return results\n",
        "  i = 0\n",
        "  for n_iter in n_iterations:\n",
        "      for lf in latent_factors:\n",
        "          for lr in learning_rate:\n",
        "              for reg in regularization:\n",
        "                  for conv in convergence:\n",
        "                    for batch_size in batch_sizes:                       \n",
        "                      dic = {'Iterations':n_iter,'Latent_factors':lf,'Learning_Rate':lr,'Regularization':reg,'Convergence':conv,\n",
        "                            'Batch_size': batch_size, 'Only_Bias': only_bias, 'Experiment': i}\n",
        "                      if i in set(results.Experiment):\n",
        "                        print(f\"skipping experiment i={i}, {dic}\")\n",
        "                      else:\n",
        "                        print(f\"running experiment i={i}, {dic}\")                      \n",
        "                        # record training time\n",
        "                        start = time.time()\n",
        "\n",
        "                        # initialize model\n",
        "                        mf = MF(train,df_context,n_factors=dic['Latent_factors'], only_bias=dic['Only_Bias'],context_aware=True, non_zero_indices=df_ratings_train, test_non_zero_indices=df_ratings_test)\n",
        "                        # train MF\n",
        "                        mf.fit(n_iterations=dic['Iterations'],verbose=False,regularization=dic['Regularization'],\n",
        "                              convergence=dic['Convergence'],learning_rate=dic['Learning_Rate'], batch_size=dic['Batch_size'])\n",
        "                        # eval model\n",
        "                        # please use the model evaluation funcntions \n",
        "                        fres = {'RMSE': mf.get_rmse(test), 'MAE': mf.get_mae(test), 'MRR_5': mf.get_mrr(test,k=5), \n",
        "                                  'MRR_10': mf.get_mrr(test,k=10), 'NDCG_5': mf.get_ndcg(test,k=5), \n",
        "                                  'NDCG_10': mf.get_ndcg(test,k=10), 'History': mf.history}\n",
        "\n",
        "                        # record traning time\n",
        "                        dic['Time'] = time.time() - start\n",
        "                        dic.update(fres)\n",
        "                        \n",
        "                        # add experiment\n",
        "                        results = results.append(dic,ignore_index=True)\n",
        "                        results.to_csv(results_filename, index_label='index')\n",
        "                        print(i, datetime.datetime.now(), fres)\n",
        "                      i+=1 \n",
        "  return results   \n",
        "results = do_hyperparams_search(HYPERPARAMS_SEARCH, False, f'/content/drive/MyDrive/recsys/recsys_final_project1.ALPHA_{ALPHA}.csv')\n"
      ]
    },
    {
      "cell_type": "markdown",
      "metadata": {
        "id": "EUTAxx79njZu"
      },
      "source": [
        "**Training history:**"
      ]
    },
    {
      "cell_type": "code",
      "execution_count": null,
      "metadata": {
        "id": "OYp5J0llnjZu"
      },
      "outputs": [],
      "source": [
        "lines = results.History\n",
        "\n",
        "plt.figure(figsize=(16,6))\n",
        "\n",
        "for l in lines:\n",
        "    plt.plot(l)\n",
        "\n",
        "plt.xticks(np.arange(n_iterations[0]+1))\n",
        "plt.legend(lines.index,loc='upper right',bbox_to_anchor=(1.1, 1.1))\n",
        "plt.title('Training GD - RMSE History')\n",
        "plt.xlabel('Iterations')\n",
        "plt.ylabel('RMSE')\n",
        "plt.show();"
      ]
    },
    {
      "cell_type": "markdown",
      "metadata": {
        "id": "2UxpgUQcnjZw"
      },
      "source": [
        "**Focus on the top 3:**"
      ]
    },
    {
      "cell_type": "code",
      "execution_count": null,
      "metadata": {
        "id": "A4Tn6sGtnjZx"
      },
      "outputs": [],
      "source": [
        "lines = lines[results.RMSE.nsmallest(3).index]\n",
        "plt.figure(figsize=(12,5))\n",
        "\n",
        "for l in lines:\n",
        "    plt.plot(l)\n",
        "\n",
        "plt.xticks(np.arange(n_iterations[0]+1))\n",
        "\n",
        "leg = (results.loc[results.RMSE.nsmallest(3).index,['Latent_factors','Learning_Rate','Regularization', 'Convergence']]).T.to_dict().values()\n",
        "plt.xticks(np.arange(n_iterations[0]+1))\n",
        "plt.title('Training GD TOP3 - RMSE History')\n",
        "plt.xlabel('Iterations')\n",
        "plt.ylabel('RMSE')\n",
        "plt.legend(leg)\n",
        "plt.show();"
      ]
    },
    {
      "cell_type": "markdown",
      "metadata": {
        "id": "FoUM6c1cnjZx"
      },
      "source": [
        "\n",
        "### Q: is there a clear winner?  "
      ]
    },
    {
      "cell_type": "code",
      "execution_count": null,
      "metadata": {
        "id": "8iZvQcGdenGp"
      },
      "outputs": [],
      "source": [
        "results.sort_values('RMSE').head(10)"
      ]
    },
    {
      "cell_type": "code",
      "execution_count": null,
      "metadata": {
        "id": "sl2S8iuPnjZx"
      },
      "outputs": [],
      "source": [
        "# Regularization (λ) of 0.1 does the job, all models with this correct lambda can't go very wrong"
      ]
    },
    {
      "cell_type": "markdown",
      "metadata": {
        "id": "aGK-SNEdnjZx"
      },
      "source": [
        "Please add your winner to `final_results` dataframe."
      ]
    },
    {
      "cell_type": "code",
      "execution_count": null,
      "metadata": {
        "id": "TvrtOWfPve4-"
      },
      "outputs": [],
      "source": [
        "final_results.loc[2] = results.sort_values('RMSE').iloc[0]\n",
        "final_results.loc[2, 'Method'] = 'MF_Winner'"
      ]
    },
    {
      "cell_type": "code",
      "execution_count": null,
      "metadata": {
        "id": "G7gJH91anjZx"
      },
      "outputs": [],
      "source": [
        "final_results"
      ]
    },
    {
      "cell_type": "code",
      "execution_count": null,
      "metadata": {
        "id": "yIY1cRfK9gfN"
      },
      "outputs": [],
      "source": [
        ""
      ]
    }
  ],
  "metadata": {
    "colab": {
      "collapsed_sections": [],
      "name": "recsys_final_project1 ALPHA 0.1",
      "provenance": []
    },
    "kernelspec": {
      "display_name": "Python 3",
      "language": "python",
      "name": "python3"
    },
    "language_info": {
      "codemirror_mode": {
        "name": "ipython",
        "version": 3
      },
      "file_extension": ".py",
      "mimetype": "text/x-python",
      "name": "python",
      "nbconvert_exporter": "python",
      "pygments_lexer": "ipython3",
      "version": "3.8.5"
    }
  },
  "nbformat": 4,
  "nbformat_minor": 0
}